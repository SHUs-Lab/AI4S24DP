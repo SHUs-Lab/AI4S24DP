{
 "cells": [
  {
   "cell_type": "code",
   "execution_count": null,
   "metadata": {},
   "outputs": [],
   "source": [
    "import math\n",
    "import torch\n",
    "import torch.nn.functional as F\n",
    "from torch.utils.data import DataLoader\n",
    "from transformers import GPT2Tokenizer, DataCollatorForLanguageModeling\n",
    "from datasets import load_dataset\n"
   ]
  },
  {
   "cell_type": "code",
   "execution_count": null,
   "metadata": {},
   "outputs": [],
   "source": [
    "LiGO_bool = True\n",
    "emb_size = 256\n",
    "new_emb_size = 512\n",
    "block_size = 128\n",
    "multi_heads = 2\n",
    "batch_size = 16\n",
    "epochs = 3\n",
    "learning_rate = 3e-4\n",
    "device = torch.device('cuda' if torch.cuda.is_available() else 'cpu')\n",
    "\n",
    "num_small_layers = 4\n",
    "multi_heads = 2\n",
    "num_large_layers = 8"
   ]
  },
  {
   "cell_type": "code",
   "execution_count": 347,
   "metadata": {},
   "outputs": [],
   "source": [
    "\n",
    "# WikiText-103 dataset\n",
    "# dataset = load_dataset('wikitext', 'wikitext-103-raw-v1')\n",
    "\n",
    "# WikiText-2 dataset\n",
    "dataset = load_dataset('wikitext', 'wikitext-2-raw-v1')\n",
    "\n",
    "tokenizer = GPT2Tokenizer.from_pretrained('gpt2')\n",
    "\n",
    "# Add a padding token to the tokenizer\n",
    "tokenizer.add_special_tokens({'pad_token': '[PAD]'})\n",
    "vocab_size = len(tokenizer)\n",
    "\n",
    "def tokenize_function(examples):\n",
    "    return tokenizer(examples['text'], return_tensors='pt', truncation=True, padding='max_length', max_length=block_size)\n",
    "\n",
    "tokenized_datasets = dataset.map(tokenize_function, batched=True, remove_columns=[\"text\"])\n",
    "data_collator = DataCollatorForLanguageModeling(tokenizer=tokenizer, mlm=False)\n",
    "\n",
    "train_dataset = tokenized_datasets[\"train\"]\n",
    "val_dataset = tokenized_datasets[\"validation\"]\n",
    "train_dataloader = DataLoader(train_dataset, shuffle=True, batch_size=batch_size, collate_fn=data_collator)\n",
    "val_dataloader = DataLoader(val_dataset, shuffle=False, batch_size=batch_size, collate_fn=data_collator)"
   ]
  },
  {
   "cell_type": "markdown",
   "metadata": {},
   "source": [
    "### For Shakespear"
   ]
  },
  {
   "cell_type": "code",
   "execution_count": 348,
   "metadata": {},
   "outputs": [],
   "source": [
    "# from datasets import load_dataset\n",
    "# import os\n",
    "\n",
    "# output_dir = 'processed_shakespeare'\n",
    "\n",
    "# data_files = {\n",
    "#     'train': os.path.join(output_dir, 'train.txt'),\n",
    "#     'validation': os.path.join(output_dir, 'validation.txt'),\n",
    "# }\n",
    "# dataset = load_dataset('text', data_files=data_files)"
   ]
  },
  {
   "cell_type": "code",
   "execution_count": 349,
   "metadata": {},
   "outputs": [
    {
     "name": "stdout",
     "output_type": "stream",
     "text": [
      "DatasetDict({\n",
      "    test: Dataset({\n",
      "        features: ['text'],\n",
      "        num_rows: 4358\n",
      "    })\n",
      "    train: Dataset({\n",
      "        features: ['text'],\n",
      "        num_rows: 36718\n",
      "    })\n",
      "    validation: Dataset({\n",
      "        features: ['text'],\n",
      "        num_rows: 3760\n",
      "    })\n",
      "})\n"
     ]
    }
   ],
   "source": [
    "print(dataset)"
   ]
  },
  {
   "cell_type": "code",
   "execution_count": 350,
   "metadata": {},
   "outputs": [],
   "source": [
    "loss_fn = torch.nn.CrossEntropyLoss()"
   ]
  },
  {
   "cell_type": "code",
   "execution_count": 351,
   "metadata": {},
   "outputs": [],
   "source": [
    "@torch.no_grad()\n",
    "def validate(mdl, dataloader):\n",
    "    mdl.eval()\n",
    "    total_loss = 0\n",
    "    num_batches = 0\n",
    "    val_losses = []\n",
    "    for batch in dataloader:\n",
    "        inputs = batch[\"input_ids\"].squeeze(1).to(device)\n",
    "        outputs = mdl(inputs)\n",
    "        loss = loss_fn(outputs.view(-1, vocab_size), inputs.view(-1))\n",
    "        total_loss += loss.item()\n",
    "        num_batches += 1\n",
    "        if num_batches % 100 == 0:\n",
    "            val_losses.append(total_loss / num_batches)\n",
    "    return total_loss / num_batches, val_losses\n",
    "\n",
    "@torch.enable_grad()\n",
    "def train(mdl, optim, epochs, train_dataloader, val_dataloader):\n",
    "    mdl.to(device)\n",
    "    train_losses = []\n",
    "    val_losses_epoch = []\n",
    "    for epoch in range(epochs):\n",
    "        mdl.train()\n",
    "        total_loss = 0\n",
    "        num_batches = 0\n",
    "        for batch in train_dataloader:\n",
    "            inputs = batch[\"input_ids\"].squeeze(1).to(device)\n",
    "            optim.zero_grad()\n",
    "            outputs = mdl(inputs)\n",
    "            loss = loss_fn(outputs.view(-1, vocab_size), inputs.view(-1))\n",
    "            loss.backward()\n",
    "            optim.step()\n",
    "            total_loss += loss.item()\n",
    "            num_batches += 1\n",
    "            if num_batches % 100 == 0:\n",
    "                train_losses.append(total_loss / num_batches)\n",
    "\n",
    "        avg_loss = total_loss / num_batches\n",
    "        val_loss, val_losses = validate(mdl, val_dataloader)\n",
    "        val_losses_epoch.extend(val_losses)\n",
    "        print(f\"Epoch {epoch+1}, Train Loss: {avg_loss:.4f}, Val Loss: {val_loss:.4f}\")\n",
    "    \n",
    "    return train_losses, val_losses_epoch"
   ]
  },
  {
   "cell_type": "code",
   "execution_count": 352,
   "metadata": {},
   "outputs": [],
   "source": [
    "class AttentionHead(torch.nn.Module):\n",
    "    def __init__(self, big=False):\n",
    "        super(AttentionHead, self).__init__()\n",
    "        self.k = torch.nn.Linear(new_emb_size if big else emb_size, new_emb_size if big else emb_size, bias=False)\n",
    "        self.q = torch.nn.Linear(new_emb_size if big else emb_size, new_emb_size if big else emb_size, bias=False)\n",
    "        self.v = torch.nn.Linear(new_emb_size if big else emb_size, new_emb_size if big else emb_size, bias=False)\n",
    "        self.register_buffer('tril', torch.tril(torch.ones(block_size,block_size)))\n",
    "    def forward(self, e):\n",
    "        keys = self.k(e)\n",
    "        queries = self.q(e)\n",
    "        values = self.v(e)\n",
    "        ret = keys @ queries.transpose(1, 2)*(1.0/math.sqrt(keys.size(-1)))\n",
    "        ret = torch.masked_fill(ret, self.tril==0, -torch.inf)\n",
    "        ret = torch.softmax(ret, 2)\n",
    "        ret = ret @ values\n",
    "        return ret"
   ]
  },
  {
   "cell_type": "code",
   "execution_count": 353,
   "metadata": {},
   "outputs": [],
   "source": [
    "class MultiHead(torch.nn.Module):\n",
    "    def __init__(self, big=False):\n",
    "        super(MultiHead, self).__init__()\n",
    "        self.head1 = AttentionHead(big)\n",
    "        self.head2 = AttentionHead(big)\n",
    "        self.mh_lin = torch.nn.Linear(multi_heads*(new_emb_size if big else emb_size), new_emb_size if big else emb_size, bias=False)\n",
    "        self.drop = torch.nn.Dropout(0.1)\n",
    "    def forward(self, inp):\n",
    "        x1 = self.head1(inp)\n",
    "        x2 = self.head2(inp)\n",
    "        return self.mh_lin(self.drop(torch.cat([x1,x2], dim=2))).relu()\n"
   ]
  },
  {
   "cell_type": "code",
   "execution_count": 354,
   "metadata": {},
   "outputs": [],
   "source": [
    "class Block(torch.nn.Module):\n",
    "    def __init__(self, big=False):\n",
    "        super(Block, self).__init__()\n",
    "        self.multihead = MultiHead(big)\n",
    "        self.l_norm_1 = torch.nn.LayerNorm(new_emb_size if big else emb_size)\n",
    "        self.l_norm_2 = torch.nn.LayerNorm(new_emb_size if big else emb_size)\n",
    "        self.ffn = torch.nn.Linear(new_emb_size if big else emb_size, new_emb_size if big else emb_size)\n",
    "        self.drop = torch.nn.Dropout(0.1)\n",
    "    def forward(self, inp):\n",
    "        m = self.l_norm_1(inp + self.multihead(inp))\n",
    "        m = self.l_norm_2(m + self.ffn(self.drop(m)).relu())\n",
    "        return m"
   ]
  },
  {
   "cell_type": "code",
   "execution_count": 355,
   "metadata": {},
   "outputs": [],
   "source": [
    "class PositionalEncoding(torch.nn.Module):\n",
    "\n",
    "    def __init__(self, d_model: int, dropout: float = 0.1, max_len: int = 5000):\n",
    "        super().__init__()\n",
    "        self.dropout = torch.nn.Dropout(p=dropout)\n",
    "\n",
    "        position = torch.arange(max_len).unsqueeze(1)\n",
    "        div_term = torch.exp(torch.arange(0, d_model, 2) * (-math.log(10000.0) / d_model))\n",
    "        pe = torch.zeros(max_len, 1, d_model)\n",
    "        pe[:, 0, 0::2] = torch.sin(position * div_term)\n",
    "        pe[:, 0, 1::2] = torch.cos(position * div_term)\n",
    "        self.register_buffer('pe', pe)\n",
    "\n",
    "    def forward(self, x: torch.Tensor) -> torch.Tensor:\n",
    "        x = x + self.pe[:x.size(0)]\n",
    "        return self.dropout(x)"
   ]
  },
  {
   "cell_type": "code",
   "execution_count": 356,
   "metadata": {},
   "outputs": [],
   "source": [
    "class Model(torch.nn.Module):\n",
    "    def __init__(self):\n",
    "        super(Model, self).__init__()\n",
    "        self.embedding = torch.nn.Embedding(vocab_size, emb_size)\n",
    "        self.pe = PositionalEncoding(emb_size)\n",
    "        self.block1 = Block()\n",
    "        self.block2 = Block()\n",
    "        self.block3 = Block()\n",
    "        self.block4 = Block()\n",
    "        self.f_lin = torch.nn.Linear(emb_size, vocab_size)\n",
    "        self.drop = torch.nn.Dropout(0.1)\n",
    "    def forward(self, inp):\n",
    "        e = self.embedding(inp)\n",
    "        e = self.pe(e)\n",
    "        m = self.block1(e)\n",
    "        m = self.block2(m)\n",
    "        m = self.block3(m)\n",
    "        m = self.block4(m)\n",
    "        r = self.f_lin(self.drop(m))\n",
    "        return r"
   ]
  },
  {
   "cell_type": "code",
   "execution_count": 357,
   "metadata": {},
   "outputs": [],
   "source": [
    "model = Model().to(device)\n",
    "loss = torch.nn.CrossEntropyLoss()\n",
    "optimizer = torch.optim.Adam(model.parameters(), lr = 1e-3)"
   ]
  },
  {
   "cell_type": "code",
   "execution_count": 360,
   "metadata": {},
   "outputs": [
    {
     "name": "stdout",
     "output_type": "stream",
     "text": [
      "Epoch 1, Train Loss: 0.0000, Val Loss: 0.0287\n",
      "Epoch 2, Train Loss: 0.0000, Val Loss: 0.0290\n",
      "Epoch 3, Train Loss: 0.0000, Val Loss: 0.0295\n"
     ]
    }
   ],
   "source": [
    "M_train_loss, M_val_loss = train(model, optimizer, epochs, train_dataloader, val_dataloader)\n"
   ]
  },
  {
   "cell_type": "code",
   "execution_count": 362,
   "metadata": {},
   "outputs": [],
   "source": [
    "k_params = torch.empty((0,emb_size*emb_size)).to(device)\n",
    "q_params = torch.empty((0,emb_size*emb_size)).to(device)\n",
    "v_params = torch.empty((0,emb_size*emb_size)).to(device)\n",
    "lin_params = torch.empty((0, 2*emb_size*emb_size)).to(device)\n",
    "ffn_w_params = torch.empty((0, emb_size*emb_size)).to(device)\n",
    "ffn_b_params = torch.empty((0, emb_size)).to(device)\n",
    "l_norm_w_params = torch.empty((0, emb_size)).to(device)\n",
    "l_norm_b_params = torch.empty((0, emb_size)).to(device)\n",
    "for i in model.state_dict():\n",
    "    if '.k.' in i:\n",
    "        k_params = torch.cat((k_params, model.state_dict()[i].flatten().view(1,-1)), dim=0)\n",
    "    elif '.q.' in i:\n",
    "        q_params = torch.cat((q_params, model.state_dict()[i].flatten().view(1,-1)), dim=0)\n",
    "    elif '.v.' in i:\n",
    "        v_params = torch.cat((v_params, model.state_dict()[i].flatten().view(1,-1)), dim=0)\n",
    "    elif '.mh_lin' in i:\n",
    "        lin_params = torch.cat((lin_params, model.state_dict()[i].flatten().view(1,-1)), dim = 0)\n",
    "    elif 'ffn' in i and 'weight' in i:\n",
    "        ffn_w_params = torch.cat((ffn_w_params, model.state_dict()[i].flatten().view(1,-1)), dim = 0)\n",
    "    elif 'ffn' in i and 'bias' in i:\n",
    "        ffn_b_params = torch.cat((ffn_b_params, model.state_dict()[i].flatten().view(1,-1)), dim = 0)\n",
    "    elif 'l_norm' in i and 'weight' in i:\n",
    "        l_norm_w_params = torch.cat((l_norm_w_params, model.state_dict()[i].flatten().view(1,-1)), dim = 0)\n",
    "    elif 'l_norm' in i and 'bias' in i:\n",
    "        l_norm_b_params = torch.cat((l_norm_b_params, model.state_dict()[i].flatten().view(1,-1)), dim = 0)"
   ]
  },
  {
   "cell_type": "code",
   "execution_count": 363,
   "metadata": {},
   "outputs": [],
   "source": [
    "class WideModel(torch.nn.Module):\n",
    "    def __init__(self, big=True):\n",
    "        super(WideModel, self).__init__()\n",
    "        self.embedding = torch.nn.Embedding(vocab_size, new_emb_size if big else emb_size)\n",
    "        self.pe = PositionalEncoding(new_emb_size if big else emb_size)\n",
    "        self.block1 = Block(big=big)\n",
    "        self.block2 = Block(big=big)\n",
    "        self.block3 = Block(big=big)\n",
    "        self.block4 = Block(big=big)\n",
    "        self.f_lin = torch.nn.Linear(new_emb_size if big else emb_size, vocab_size)\n",
    "        self.drop = torch.nn.Dropout(0.1)\n",
    "    def forward(self, inp):\n",
    "        e = self.embedding(inp)\n",
    "        e = self.pe(e)\n",
    "        m = self.block1(e)\n",
    "        m = self.block2(m)\n",
    "        m = self.block3(m)\n",
    "        m = self.block4(m)\n",
    "        r = self.f_lin(self.drop(m))\n",
    "        return r"
   ]
  },
  {
   "cell_type": "markdown",
   "metadata": {},
   "source": [
    "G_zero -----------------------------------------------------------------------------------------------------------------\n",
    "\n",
    "1  0\n",
    "\n",
    "0  0"
   ]
  },
  {
   "cell_type": "code",
   "execution_count": 364,
   "metadata": {},
   "outputs": [],
   "source": [
    "wideModel = WideModel().to(device)"
   ]
  },
  {
   "cell_type": "code",
   "execution_count": 365,
   "metadata": {},
   "outputs": [],
   "source": [
    "def G_zero_emb_or_f_lin(emb):\n",
    "    zero_tensor = torch.zeros(emb.shape).to(device)\n",
    "    return torch.cat((emb, zero_tensor), dim=1)"
   ]
  },
  {
   "cell_type": "code",
   "execution_count": 366,
   "metadata": {},
   "outputs": [],
   "source": [
    "def G_zero_1d(l_norm):\n",
    "    l_zero = torch.zeros(l_norm.shape).to(device)\n",
    "    return torch.cat((l_norm, l_zero), dim=0)"
   ]
  },
  {
   "cell_type": "code",
   "execution_count": 367,
   "metadata": {},
   "outputs": [],
   "source": [
    "def G_zero(weight):\n",
    "    zero_tensor = torch.zeros(weight.shape).to(device)\n",
    "    temp_1= torch.cat((weight, zero_tensor), dim=1)\n",
    "    temp_2= torch.cat((zero_tensor, zero_tensor), dim=1)\n",
    "    return torch.cat((temp_1, temp_2), dim=0)"
   ]
  },
  {
   "cell_type": "markdown",
   "metadata": {},
   "source": [
    "1  0\n",
    "\n",
    "0  0"
   ]
  },
  {
   "cell_type": "code",
   "execution_count": 368,
   "metadata": {},
   "outputs": [],
   "source": [
    "@torch.no_grad()\n",
    "def initWideExtendGZero(has_bias=False):\n",
    "    # Embedding layer\n",
    "    emb = model.embedding.weight\n",
    "    wide_emb = G_zero_emb_or_f_lin(emb)\n",
    "    setattr(wideModel.embedding, 'weight', torch.nn.Parameter(wide_emb, requires_grad=True).to(device))\n",
    "    # f_lin layer weight\n",
    "    f_lin_weight = model.f_lin.weight\n",
    "    wide_f_lin_weight = G_zero_emb_or_f_lin(f_lin_weight)\n",
    "    setattr(wideModel.f_lin, 'weight', torch.nn.Parameter(wide_f_lin_weight, requires_grad=True).to(device))\n",
    "    # f_lin layer bias\n",
    "    if has_bias == True:\n",
    "        f_lin_bias = model.f_lin.bias\n",
    "        wide_f_lin_bias = G_zero_emb_or_f_lin(f_lin_bias)\n",
    "        setattr(wideModel.f_lin, 'bias', torch.nn.Parameter(wide_f_lin_bias, requires_grad=True).to(device))\n",
    "\n",
    "    \n",
    "    ii_list = [1,2,3,4]\n",
    "    for i in range(1, num_small_layers+1):\n",
    "        ii = ii_list[i-1]\n",
    "        small_block = getattr(model, f'block{ii}')\n",
    "        wide_block = getattr(wideModel, f'block{i}')\n",
    "    \n",
    "        # Setting FFN Weights\n",
    "        wide_ffn_weight = G_zero(small_block.ffn.weight)\n",
    "        setattr(wide_block.ffn, 'weight', torch.nn.Parameter((wide_ffn_weight), requires_grad=True).to(device))\n",
    "        if has_bias == True:\n",
    "            wide_ffn_bias = G_zero(small_block.ffn.bias)\n",
    "            setattr(wide_block.ffn, 'bias', torch.nn.Parameter((wide_ffn_bias), requires_grad=True).to(device))\n",
    "\n",
    "        # Setting Norm Layers\n",
    "        l_norm_1_weight = G_zero_1d(small_block.l_norm_1.weight)\n",
    "        l_norm_2_weight = G_zero_1d(small_block.l_norm_2.weight)\n",
    "        setattr(wide_block.l_norm_1, 'weight', torch.nn.Parameter((l_norm_1_weight), requires_grad=True).to(device))\n",
    "        setattr(wide_block.l_norm_2, 'weight', torch.nn.Parameter((l_norm_2_weight), requires_grad=True).to(device))\n",
    "        if has_bias == True:\n",
    "            l_norm_1_bias = G_zero_1d(small_block.l_norm_1.bias)\n",
    "            l_norm_2_bias = G_zero_1d(small_block.l_norm_2.bias)\n",
    "            setattr(wide_block.l_norm_1, 'bias', torch.nn.Parameter((l_norm_1_bias), requires_grad=True).to(device))\n",
    "            setattr(wide_block.l_norm_2, 'bias', torch.nn.Parameter((l_norm_2_bias), requires_grad=True).to(device))\n",
    "\n",
    "        # Setting Multi-Head Attention\n",
    "        wide_mh_lin_weight = G_zero(small_block.multihead.mh_lin.weight)\n",
    "        setattr(wide_block.multihead.mh_lin, 'weight', torch.nn.Parameter((wide_mh_lin_weight), requires_grad=True))\n",
    "\n",
    "        for h in range(1, multi_heads+1):\n",
    "            head = getattr(wide_block.multihead, f'head{h}')\n",
    "            small_head = getattr(small_block.multihead, f'head{h}')\n",
    "\n",
    "            new_k = G_zero(small_head.k.weight)\n",
    "            new_q = G_zero(small_head.q.weight)\n",
    "            new_v = G_zero(small_head.v.weight)\n",
    "            setattr(head.k, 'weight', torch.nn.Parameter((new_k), requires_grad=True).to(device))\n",
    "            setattr(head.q, 'weight', torch.nn.Parameter((new_q), requires_grad=True).to(device))\n",
    "            setattr(head.v, 'weight', torch.nn.Parameter((new_v), requires_grad=True).to(device))"
   ]
  },
  {
   "cell_type": "code",
   "execution_count": 369,
   "metadata": {},
   "outputs": [],
   "source": [
    "initWideExtendGZero()"
   ]
  },
  {
   "cell_type": "code",
   "execution_count": 370,
   "metadata": {},
   "outputs": [],
   "source": [
    "wideModel.train()\n",
    "optim_b = torch.optim.Adam(params=wideModel.parameters(), lr = 1e-3)\n"
   ]
  },
  {
   "cell_type": "code",
   "execution_count": 371,
   "metadata": {},
   "outputs": [
    {
     "name": "stdout",
     "output_type": "stream",
     "text": [
      "Epoch 1, Train Loss: 0.0001, Val Loss: 0.0329\n",
      "Epoch 2, Train Loss: 0.0066, Val Loss: 0.0304\n",
      "Epoch 3, Train Loss: 0.0010, Val Loss: 0.0305\n"
     ]
    }
   ],
   "source": [
    "\n",
    "WME_train_loss, WME_val_loss = train(wideModel, optim_b, epochs, train_dataloader, val_dataloader)\n",
    "\n"
   ]
  },
  {
   "cell_type": "markdown",
   "metadata": {},
   "source": [
    "v2 -----------------------------------------------------------------------------------------------------------------\n",
    "\n",
    "1    0\n",
    "\n",
    "0    1"
   ]
  },
  {
   "cell_type": "code",
   "execution_count": 373,
   "metadata": {},
   "outputs": [],
   "source": [
    "def G_zero_v2(weight):\n",
    "    zero_tensor = torch.zeros(weight.shape).to(device)\n",
    "    temp_1= torch.cat((weight, zero_tensor), dim=1)\n",
    "    temp_2= torch.cat((zero_tensor, weight), dim=1)\n",
    "    return torch.cat((temp_1, temp_2), dim=0)"
   ]
  },
  {
   "cell_type": "code",
   "execution_count": 374,
   "metadata": {},
   "outputs": [],
   "source": [
    "wideModel = WideModel().to(device)"
   ]
  },
  {
   "cell_type": "code",
   "execution_count": 375,
   "metadata": {},
   "outputs": [],
   "source": [
    "@torch.no_grad()\n",
    "def initWideExtendGZeroV2(has_bias=False):\n",
    "    # Embedding layer\n",
    "    emb = model.embedding.weight\n",
    "    wide_emb = G_zero_emb_or_f_lin(emb)\n",
    "    setattr(wideModel.embedding, 'weight', torch.nn.Parameter(wide_emb, requires_grad=True).to(device))\n",
    "    # f_lin layer weight\n",
    "    f_lin_weight = model.f_lin.weight\n",
    "    wide_f_lin_weight = G_zero_emb_or_f_lin(f_lin_weight)\n",
    "    setattr(wideModel.f_lin, 'weight', torch.nn.Parameter(wide_f_lin_weight, requires_grad=True).to(device))\n",
    "    # f_lin layer bias\n",
    "    if has_bias == True:\n",
    "        f_lin_bias = model.f_lin.bias\n",
    "        wide_f_lin_bias = G_zero_emb_or_f_lin(f_lin_bias)\n",
    "        setattr(wideModel.f_lin, 'bias', torch.nn.Parameter(wide_f_lin_bias, requires_grad=True).to(device))\n",
    "\n",
    "    \n",
    "    ii_list = [1,2,3,4]\n",
    "    for i in range(1, num_small_layers+1):\n",
    "        ii = ii_list[i-1]\n",
    "        small_block = getattr(model, f'block{ii}')\n",
    "        wide_block = getattr(wideModel, f'block{i}')\n",
    "    \n",
    "        # Setting FFN Weights\n",
    "        wide_ffn_weight = G_zero_v2(small_block.ffn.weight)\n",
    "        setattr(wide_block.ffn, 'weight', torch.nn.Parameter((wide_ffn_weight), requires_grad=True).to(device))\n",
    "        if has_bias == True:\n",
    "            wide_ffn_bias = G_zero_v2(small_block.ffn.bias)\n",
    "            setattr(wide_block.ffn, 'bias', torch.nn.Parameter((wide_ffn_bias), requires_grad=True).to(device))\n",
    "\n",
    "        # Setting Norm Layers\n",
    "        l_norm_1_weight = G_zero_1d(small_block.l_norm_1.weight)\n",
    "        l_norm_2_weight = G_zero_1d(small_block.l_norm_2.weight)\n",
    "        setattr(wide_block.l_norm_1, 'weight', torch.nn.Parameter((l_norm_1_weight), requires_grad=True).to(device))\n",
    "        setattr(wide_block.l_norm_2, 'weight', torch.nn.Parameter((l_norm_2_weight), requires_grad=True).to(device))\n",
    "        if has_bias == True:\n",
    "            l_norm_1_bias = G_zero_1d(small_block.l_norm_1.bias)\n",
    "            l_norm_2_bias = G_zero_1d(small_block.l_norm_2.bias)\n",
    "            setattr(wide_block.l_norm_1, 'bias', torch.nn.Parameter((l_norm_1_bias), requires_grad=True).to(device))\n",
    "            setattr(wide_block.l_norm_2, 'bias', torch.nn.Parameter((l_norm_2_bias), requires_grad=True).to(device))\n",
    "\n",
    "        # Setting Multi-Head Attention\n",
    "        wide_mh_lin_weight = G_zero_v2(small_block.multihead.mh_lin.weight)\n",
    "        setattr(wide_block.multihead.mh_lin, 'weight', torch.nn.Parameter((wide_mh_lin_weight), requires_grad=True))\n",
    "\n",
    "        for h in range(1, multi_heads+1):\n",
    "            head = getattr(wide_block.multihead, f'head{h}')\n",
    "            small_head = getattr(small_block.multihead, f'head{h}')\n",
    "\n",
    "            new_k = G_zero_v2(small_head.k.weight)\n",
    "            new_q = G_zero_v2(small_head.q.weight)\n",
    "            new_v = G_zero_v2(small_head.v.weight)\n",
    "            setattr(head.k, 'weight', torch.nn.Parameter((new_k), requires_grad=True).to(device))\n",
    "            setattr(head.q, 'weight', torch.nn.Parameter((new_q), requires_grad=True).to(device))\n",
    "            setattr(head.v, 'weight', torch.nn.Parameter((new_v), requires_grad=True).to(device))"
   ]
  },
  {
   "cell_type": "code",
   "execution_count": 376,
   "metadata": {},
   "outputs": [],
   "source": [
    "initWideExtendGZeroV2()"
   ]
  },
  {
   "cell_type": "code",
   "execution_count": 377,
   "metadata": {},
   "outputs": [
    {
     "name": "stdout",
     "output_type": "stream",
     "text": [
      "Epoch 1, Train Loss: 1.3965, Val Loss: 2.8944\n",
      "Epoch 2, Train Loss: 2.7447, Val Loss: 2.8321\n",
      "Epoch 3, Train Loss: 2.7118, Val Loss: 2.7956\n"
     ]
    }
   ],
   "source": [
    "wideModel.train()\n",
    "optim_b = torch.optim.Adam(params=wideModel.parameters(), lr = 1e-3)\n",
    "\n",
    "WEZ_train_loss, WEZ_val_loss = train(wideModel, optim_b, epochs, train_dataloader, val_dataloader)\n"
   ]
  },
  {
   "cell_type": "markdown",
   "metadata": {},
   "source": [
    "G_rand -----------------------------------------------------------------------------------------------------------------"
   ]
  },
  {
   "cell_type": "code",
   "execution_count": 379,
   "metadata": {},
   "outputs": [],
   "source": [
    "def G_rand_emb_or_f_lin(emb):\n",
    "    zero_tensor = torch.rand(emb.shape).to(device)\n",
    "    return torch.cat((emb, zero_tensor), dim=1)"
   ]
  },
  {
   "cell_type": "code",
   "execution_count": 380,
   "metadata": {},
   "outputs": [],
   "source": [
    "def G_rand_1d(l_norm):\n",
    "    l_zero = torch.rand(l_norm.shape).to(device)\n",
    "    return torch.cat((l_norm, l_zero), dim=0)"
   ]
  },
  {
   "cell_type": "code",
   "execution_count": 381,
   "metadata": {},
   "outputs": [],
   "source": [
    "def G_rand(weight):\n",
    "    zero_tensor = torch.rand(weight.shape).to(device)\n",
    "    temp_1= torch.cat((weight, zero_tensor), dim=1)\n",
    "    temp_2= torch.cat((zero_tensor, zero_tensor), dim=1)\n",
    "    return torch.cat((temp_1, temp_2), dim=0)"
   ]
  },
  {
   "cell_type": "code",
   "execution_count": 382,
   "metadata": {},
   "outputs": [],
   "source": [
    "wideModelRandom = WideModel().to(device)"
   ]
  },
  {
   "cell_type": "code",
   "execution_count": 383,
   "metadata": {},
   "outputs": [],
   "source": [
    "@torch.no_grad()\n",
    "def initWideExtendGRand(has_bias=False):\n",
    "    # Embedding layer\n",
    "    emb = model.embedding.weight\n",
    "    wide_emb = G_rand_emb_or_f_lin(emb)\n",
    "    setattr(wideModelRandom.embedding, 'weight', torch.nn.Parameter(wide_emb, requires_grad=True).to(device))\n",
    "    # f_lin layer weight\n",
    "    f_lin_weight = model.f_lin.weight\n",
    "    wide_f_lin_weight = G_rand_emb_or_f_lin(f_lin_weight)\n",
    "    setattr(wideModelRandom.f_lin, 'weight', torch.nn.Parameter(wide_f_lin_weight, requires_grad=True).to(device))\n",
    "    # f_lin layer bias\n",
    "    if has_bias == True:\n",
    "        f_lin_bias = model.f_lin.bias\n",
    "        wide_f_lin_bias = G_rand_emb_or_f_lin(f_lin_bias)\n",
    "        setattr(wideModelRandom.f_lin, 'bias', torch.nn.Parameter(wide_f_lin_bias, requires_grad=True).to(device))\n",
    "\n",
    "    \n",
    "    ii_list = [1,2,3,4]\n",
    "    for i in range(1, num_small_layers+1):\n",
    "        ii = ii_list[i-1]\n",
    "        small_block = getattr(model, f'block{ii}')\n",
    "        wide_block = getattr(wideModelRandom, f'block{i}')\n",
    "    \n",
    "        # Setting FFN Weights\n",
    "        wide_ffn_weight = G_rand(small_block.ffn.weight)\n",
    "        setattr(wide_block.ffn, 'weight', torch.nn.Parameter((wide_ffn_weight), requires_grad=True).to(device))\n",
    "        if has_bias == True:\n",
    "            wide_ffn_bias = G_rand(small_block.ffn.bias)\n",
    "            setattr(wide_block.ffn, 'bias', torch.nn.Parameter((wide_ffn_bias), requires_grad=True).to(device))\n",
    "\n",
    "        # Setting Norm Layers\n",
    "        l_norm_1_weight = G_rand_1d(small_block.l_norm_1.weight)\n",
    "        l_norm_2_weight = G_rand_1d(small_block.l_norm_2.weight)\n",
    "        setattr(wide_block.l_norm_1, 'weight', torch.nn.Parameter((l_norm_1_weight), requires_grad=True).to(device))\n",
    "        setattr(wide_block.l_norm_2, 'weight', torch.nn.Parameter((l_norm_2_weight), requires_grad=True).to(device))\n",
    "        if has_bias == True:\n",
    "            l_norm_1_bias = G_rand_1d(small_block.l_norm_1.bias)\n",
    "            l_norm_2_bias = G_rand_1d(small_block.l_norm_2.bias)\n",
    "            setattr(wide_block.l_norm_1, 'bias', torch.nn.Parameter((l_norm_1_bias), requires_grad=True).to(device))\n",
    "            setattr(wide_block.l_norm_2, 'bias', torch.nn.Parameter((l_norm_2_bias), requires_grad=True).to(device))\n",
    "\n",
    "        # Setting Multi-Head Attention\n",
    "        wide_mh_lin_weight = G_rand(small_block.multihead.mh_lin.weight)\n",
    "        setattr(wide_block.multihead.mh_lin, 'weight', torch.nn.Parameter((wide_mh_lin_weight), requires_grad=True))\n",
    "\n",
    "        for h in range(1, multi_heads+1):\n",
    "            head = getattr(wide_block.multihead, f'head{h}')\n",
    "            small_head = getattr(small_block.multihead, f'head{h}')\n",
    "\n",
    "            new_k = G_rand(small_head.k.weight)\n",
    "            new_q = G_rand(small_head.q.weight)\n",
    "            new_v = G_rand(small_head.v.weight)\n",
    "            setattr(head.k, 'weight', torch.nn.Parameter((new_k), requires_grad=True).to(device))\n",
    "            setattr(head.q, 'weight', torch.nn.Parameter((new_q), requires_grad=True).to(device))\n",
    "            setattr(head.v, 'weight', torch.nn.Parameter((new_v), requires_grad=True).to(device))"
   ]
  },
  {
   "cell_type": "code",
   "execution_count": 384,
   "metadata": {},
   "outputs": [],
   "source": [
    "initWideExtendGRand()"
   ]
  },
  {
   "cell_type": "code",
   "execution_count": 385,
   "metadata": {},
   "outputs": [
    {
     "name": "stdout",
     "output_type": "stream",
     "text": [
      "Epoch 1, Train Loss: 3.7324, Val Loss: 3.5403\n",
      "Epoch 2, Train Loss: 3.4645, Val Loss: 3.5316\n",
      "Epoch 3, Train Loss: 3.4547, Val Loss: 3.5430\n"
     ]
    }
   ],
   "source": [
    "wideModelRandom.train()\n",
    "optim_b = torch.optim.Adam(params=wideModelRandom.parameters(), lr = 1e-3)\n",
    "\n",
    "WMR_train_losses, WMR_val_losses = train(wideModelRandom, optim_b, epochs, train_dataloader, val_dataloader)\n"
   ]
  },
  {
   "cell_type": "code",
   "execution_count": 387,
   "metadata": {},
   "outputs": [],
   "source": [
    "# ------------------------------------------------------------------------------------------------------------------------------------------------------\n",
    "# 1 R\n",
    "# R 1"
   ]
  },
  {
   "cell_type": "code",
   "execution_count": 388,
   "metadata": {},
   "outputs": [],
   "source": [
    "def G_rand_v2(weight):\n",
    "    zero_tensor = torch.rand(weight.shape).to(device)\n",
    "    temp_1= torch.cat((weight, zero_tensor), dim=1)\n",
    "    temp_2= torch.cat((zero_tensor, weight), dim=1)\n",
    "    return torch.cat((temp_1, temp_2), dim=0)"
   ]
  },
  {
   "cell_type": "code",
   "execution_count": 389,
   "metadata": {},
   "outputs": [],
   "source": [
    "wideModelRandom = WideModel().to(device)"
   ]
  },
  {
   "cell_type": "code",
   "execution_count": 390,
   "metadata": {},
   "outputs": [],
   "source": [
    "@torch.no_grad()\n",
    "def initWideExtendGRandV2(has_bias=False):\n",
    "    # Embedding layer\n",
    "    emb = model.embedding.weight\n",
    "    wide_emb = G_rand_emb_or_f_lin(emb)\n",
    "    setattr(wideModelRandom.embedding, 'weight', torch.nn.Parameter(wide_emb, requires_grad=True).to(device))\n",
    "    # f_lin layer weight\n",
    "    f_lin_weight = model.f_lin.weight\n",
    "    wide_f_lin_weight = G_rand_emb_or_f_lin(f_lin_weight)\n",
    "    setattr(wideModelRandom.f_lin, 'weight', torch.nn.Parameter(wide_f_lin_weight, requires_grad=True).to(device))\n",
    "    # f_lin layer bias\n",
    "    if has_bias == True:\n",
    "        f_lin_bias = model.f_lin.bias\n",
    "        wide_f_lin_bias = G_rand_emb_or_f_lin(f_lin_bias)\n",
    "        setattr(wideModelRandom.f_lin, 'bias', torch.nn.Parameter(wide_f_lin_bias, requires_grad=True).to(device))\n",
    "\n",
    "    \n",
    "    ii_list = [1,2,3,4]\n",
    "    for i in range(1, num_small_layers+1):\n",
    "        ii = ii_list[i-1]\n",
    "        small_block = getattr(model, f'block{ii}')\n",
    "        wide_block = getattr(wideModelRandom, f'block{i}')\n",
    "    \n",
    "        # Setting FFN Weights\n",
    "        wide_ffn_weight = G_rand_v2(small_block.ffn.weight)\n",
    "        setattr(wide_block.ffn, 'weight', torch.nn.Parameter((wide_ffn_weight), requires_grad=True).to(device))\n",
    "        if has_bias == True:\n",
    "            wide_ffn_bias = G_rand_v2(small_block.ffn.bias)\n",
    "            setattr(wide_block.ffn, 'bias', torch.nn.Parameter((wide_ffn_bias), requires_grad=True).to(device))\n",
    "\n",
    "        # Setting Norm Layers\n",
    "        l_norm_1_weight = G_rand_1d(small_block.l_norm_1.weight)\n",
    "        l_norm_2_weight = G_rand_1d(small_block.l_norm_2.weight)\n",
    "        setattr(wide_block.l_norm_1, 'weight', torch.nn.Parameter((l_norm_1_weight), requires_grad=True).to(device))\n",
    "        setattr(wide_block.l_norm_2, 'weight', torch.nn.Parameter((l_norm_2_weight), requires_grad=True).to(device))\n",
    "        if has_bias == True:\n",
    "            l_norm_1_bias = G_rand_1d(small_block.l_norm_1.bias)\n",
    "            l_norm_2_bias = G_rand_1d(small_block.l_norm_2.bias)\n",
    "            setattr(wide_block.l_norm_1, 'bias', torch.nn.Parameter((l_norm_1_bias), requires_grad=True).to(device))\n",
    "            setattr(wide_block.l_norm_2, 'bias', torch.nn.Parameter((l_norm_2_bias), requires_grad=True).to(device))\n",
    "\n",
    "        # Setting Multi-Head Attention\n",
    "        wide_mh_lin_weight = G_rand_v2(small_block.multihead.mh_lin.weight)\n",
    "        setattr(wide_block.multihead.mh_lin, 'weight', torch.nn.Parameter((wide_mh_lin_weight), requires_grad=True))\n",
    "\n",
    "        for h in range(1, multi_heads+1):\n",
    "            head = getattr(wide_block.multihead, f'head{h}')\n",
    "            small_head = getattr(small_block.multihead, f'head{h}')\n",
    "\n",
    "            new_k = G_rand_v2(small_head.k.weight)\n",
    "            new_q = G_rand_v2(small_head.q.weight)\n",
    "            new_v = G_rand_v2(small_head.v.weight)\n",
    "            setattr(head.k, 'weight', torch.nn.Parameter((new_k), requires_grad=True).to(device))\n",
    "            setattr(head.q, 'weight', torch.nn.Parameter((new_q), requires_grad=True).to(device))\n",
    "            setattr(head.v, 'weight', torch.nn.Parameter((new_v), requires_grad=True).to(device))"
   ]
  },
  {
   "cell_type": "code",
   "execution_count": 391,
   "metadata": {},
   "outputs": [],
   "source": [
    "initWideExtendGRandV2()"
   ]
  },
  {
   "cell_type": "code",
   "execution_count": 392,
   "metadata": {},
   "outputs": [
    {
     "name": "stdout",
     "output_type": "stream",
     "text": [
      "Epoch 1, Train Loss: 3.7659, Val Loss: 3.5668\n",
      "Epoch 2, Train Loss: 3.4684, Val Loss: 3.5615\n",
      "Epoch 3, Train Loss: 3.4559, Val Loss: 3.5346\n"
     ]
    }
   ],
   "source": [
    "wideModelRandom.train()\n",
    "optim_b = torch.optim.Adam(params=wideModelRandom.parameters(), lr = 1e-3)\n",
    "\n",
    "WMR_train_losses_v2, WMR_val_losses_v2 = train(wideModelRandom, optim_b, epochs, train_dataloader, val_dataloader)\n"
   ]
  },
  {
   "cell_type": "code",
   "execution_count": null,
   "metadata": {},
   "outputs": [],
   "source": []
  },
  {
   "cell_type": "markdown",
   "metadata": {},
   "source": [
    "raw wide model -----------------------------------------------------------------------------------------------------------------"
   ]
  },
  {
   "cell_type": "code",
   "execution_count": 394,
   "metadata": {},
   "outputs": [
    {
     "name": "stdout",
     "output_type": "stream",
     "text": [
      "Epoch 1, Train Loss: 0.2003, Val Loss: 0.0301\n",
      "Epoch 2, Train Loss: 0.0036, Val Loss: 0.0256\n",
      "Epoch 3, Train Loss: 0.0000, Val Loss: 0.0256\n"
     ]
    }
   ],
   "source": [
    "rawWideModel = WideModel().to(device)\n",
    "optim_b = torch.optim.Adam(params=rawWideModel.parameters(), lr = 1e-3)\n",
    "RWM_train_losses, RWM_val_losses = train(rawWideModel, optim_b, epochs, train_dataloader, val_dataloader)\n"
   ]
  },
  {
   "cell_type": "markdown",
   "metadata": {},
   "source": [
    "Become Deeper + Wider -----------------------------------------------------------------------------------------------------------------"
   ]
  },
  {
   "cell_type": "code",
   "execution_count": 396,
   "metadata": {},
   "outputs": [],
   "source": [
    "class BigModel(torch.nn.Module):\n",
    "    def __init__(self, big=True):\n",
    "        super(BigModel, self).__init__()\n",
    "        self.embedding = torch.nn.Embedding(vocab_size, new_emb_size if big else emb_size)\n",
    "        self.pe = PositionalEncoding(new_emb_size if big else emb_size)\n",
    "        self.block1 = Block(big=big)\n",
    "        self.block2 = Block(big=big)\n",
    "        self.block3 = Block(big=big)\n",
    "        self.block4 = Block(big=big)\n",
    "        self.block5 = Block(big=big)\n",
    "        self.block6 = Block(big=big)\n",
    "        self.block7 = Block(big=big)\n",
    "        self.block8 = Block(big=big)\n",
    "        self.f_lin = torch.nn.Linear(new_emb_size if big else emb_size, vocab_size)\n",
    "        self.drop = torch.nn.Dropout(0.1)\n",
    "    def forward(self, inp):\n",
    "        e = self.embedding(inp)\n",
    "        e = self.pe(e)\n",
    "        m = self.block1(e)\n",
    "        m = self.block2(m)\n",
    "        m = self.block3(m)\n",
    "        m = self.block4(m)\n",
    "        m = self.block5(m)\n",
    "        m = self.block6(m)\n",
    "        m = self.block7(m)\n",
    "        m = self.block8(m)\n",
    "        r = self.f_lin(self.drop(m))\n",
    "        return r"
   ]
  },
  {
   "cell_type": "code",
   "execution_count": 397,
   "metadata": {},
   "outputs": [],
   "source": [
    "wideBigModel = BigModel().to(device)"
   ]
  },
  {
   "cell_type": "code",
   "execution_count": 398,
   "metadata": {},
   "outputs": [],
   "source": [
    "num_big_layers = 8\n",
    "multi_heads = 2"
   ]
  },
  {
   "cell_type": "code",
   "execution_count": 399,
   "metadata": {},
   "outputs": [],
   "source": [
    "@torch.no_grad()\n",
    "def initWideExtendGZero_doubleStack(has_bias=False):\n",
    "    # Embedding layer\n",
    "    emb = model.embedding.weight\n",
    "    wide_emb = G_zero_emb_or_f_lin(emb)\n",
    "    setattr(wideBigModel.embedding, 'weight', torch.nn.Parameter(wide_emb, requires_grad=True).to(device))\n",
    "    # f_lin layer weight\n",
    "    f_lin_weight = model.f_lin.weight\n",
    "    wide_f_lin_weight = G_zero_emb_or_f_lin(f_lin_weight)\n",
    "    setattr(wideBigModel.f_lin, 'weight', torch.nn.Parameter(wide_f_lin_weight, requires_grad=True).to(device))\n",
    "    # f_lin layer bias\n",
    "    if has_bias == True:\n",
    "        f_lin_bias = model.f_lin.bias\n",
    "        wide_f_lin_bias = G_zero_emb_or_f_lin(f_lin_bias)\n",
    "        setattr(wideBigModel.f_lin, 'bias', torch.nn.Parameter(wide_f_lin_bias, requires_grad=True).to(device))\n",
    "\n",
    "    \n",
    "    ii_list = [1,2,3,4,1,2,3,4]\n",
    "    for i in range(1, num_big_layers+1):\n",
    "        ii = ii_list[i-1]\n",
    "        small_block = getattr(model, f'block{ii}')\n",
    "        wide_block = getattr(wideBigModel, f'block{i}')\n",
    "    \n",
    "        # Setting FFN Weights\n",
    "        wide_ffn_weight = G_zero(small_block.ffn.weight)\n",
    "        setattr(wide_block.ffn, 'weight', torch.nn.Parameter((wide_ffn_weight), requires_grad=True).to(device))\n",
    "        if has_bias == True:\n",
    "            wide_ffn_bias = G_zero(small_block.ffn.bias)\n",
    "            setattr(wide_block.ffn, 'bias', torch.nn.Parameter((wide_ffn_bias), requires_grad=True).to(device))\n",
    "\n",
    "        # Setting Norm Layers\n",
    "        l_norm_1_weight = G_zero_1d(small_block.l_norm_1.weight)\n",
    "        l_norm_2_weight = G_zero_1d(small_block.l_norm_2.weight)\n",
    "        setattr(wide_block.l_norm_1, 'weight', torch.nn.Parameter((l_norm_1_weight), requires_grad=True).to(device))\n",
    "        setattr(wide_block.l_norm_2, 'weight', torch.nn.Parameter((l_norm_2_weight), requires_grad=True).to(device))\n",
    "        if has_bias == True:\n",
    "            l_norm_1_bias = G_zero_1d(small_block.l_norm_1.bias)\n",
    "            l_norm_2_bias = G_zero_1d(small_block.l_norm_2.bias)\n",
    "            setattr(wide_block.l_norm_1, 'bias', torch.nn.Parameter((l_norm_1_bias), requires_grad=True).to(device))\n",
    "            setattr(wide_block.l_norm_2, 'bias', torch.nn.Parameter((l_norm_2_bias), requires_grad=True).to(device))\n",
    "\n",
    "        # Setting Multi-Head Attention\n",
    "        wide_mh_lin_weight = G_zero(small_block.multihead.mh_lin.weight)\n",
    "        setattr(wide_block.multihead.mh_lin, 'weight', torch.nn.Parameter((wide_mh_lin_weight), requires_grad=True))\n",
    "\n",
    "        for h in range(1, multi_heads+1):\n",
    "            head = getattr(wide_block.multihead, f'head{h}')\n",
    "            small_head = getattr(small_block.multihead, f'head{h}')\n",
    "\n",
    "            new_k = G_zero(small_head.k.weight)\n",
    "            new_q = G_zero(small_head.q.weight)\n",
    "            new_v = G_zero(small_head.v.weight)\n",
    "            setattr(head.k, 'weight', torch.nn.Parameter((new_k), requires_grad=True).to(device))\n",
    "            setattr(head.q, 'weight', torch.nn.Parameter((new_q), requires_grad=True).to(device))\n",
    "            setattr(head.v, 'weight', torch.nn.Parameter((new_v), requires_grad=True).to(device))"
   ]
  },
  {
   "cell_type": "code",
   "execution_count": 400,
   "metadata": {},
   "outputs": [],
   "source": [
    "initWideExtendGZero_doubleStack()"
   ]
  },
  {
   "cell_type": "code",
   "execution_count": 401,
   "metadata": {},
   "outputs": [
    {
     "name": "stdout",
     "output_type": "stream",
     "text": [
      "Epoch 1, Train Loss: 0.0149, Val Loss: 0.0325\n",
      "Epoch 2, Train Loss: 0.0012, Val Loss: 0.0313\n",
      "Epoch 3, Train Loss: 0.0000, Val Loss: 0.0313\n"
     ]
    }
   ],
   "source": [
    "optim_b = torch.optim.Adam(params=wideBigModel.parameters(), lr = 1e-3)\n",
    "WEZ_train_losses_doubleStack, WEZ_val_losses_doubleStack = train(wideBigModel, optim_b, epochs, train_dataloader, val_dataloader)\n"
   ]
  },
  {
   "cell_type": "code",
   "execution_count": 403,
   "metadata": {},
   "outputs": [],
   "source": [
    "wideBigModel = BigModel().to(device)"
   ]
  },
  {
   "cell_type": "code",
   "execution_count": 404,
   "metadata": {},
   "outputs": [],
   "source": [
    "@torch.no_grad()\n",
    "def initWideExtendGZero_doubleStac_v2(has_bias=False):\n",
    "    # Embedding layer\n",
    "    emb = model.embedding.weight\n",
    "    wide_emb = G_zero_emb_or_f_lin(emb)\n",
    "    setattr(wideBigModel.embedding, 'weight', torch.nn.Parameter(wide_emb, requires_grad=True).to(device))\n",
    "    # f_lin layer weight\n",
    "    f_lin_weight = model.f_lin.weight\n",
    "    wide_f_lin_weight = G_zero_emb_or_f_lin(f_lin_weight)\n",
    "    setattr(wideBigModel.f_lin, 'weight', torch.nn.Parameter(wide_f_lin_weight, requires_grad=True).to(device))\n",
    "    # f_lin layer bias\n",
    "    if has_bias == True:\n",
    "        f_lin_bias = model.f_lin.bias\n",
    "        wide_f_lin_bias = G_zero_emb_or_f_lin(f_lin_bias)\n",
    "        setattr(wideBigModel.f_lin, 'bias', torch.nn.Parameter(wide_f_lin_bias, requires_grad=True).to(device))\n",
    "\n",
    "    \n",
    "    ii_list = [1,2,3,4,1,2,3,4]\n",
    "    for i in range(1, num_big_layers+1):\n",
    "        ii = ii_list[i-1]\n",
    "        small_block = getattr(model, f'block{ii}')\n",
    "        wide_block = getattr(wideBigModel, f'block{i}')\n",
    "    \n",
    "        # Setting FFN Weights\n",
    "        wide_ffn_weight = G_zero_v2(small_block.ffn.weight)\n",
    "        setattr(wide_block.ffn, 'weight', torch.nn.Parameter((wide_ffn_weight), requires_grad=True).to(device))\n",
    "        if has_bias == True:\n",
    "            wide_ffn_bias = G_zero_v2(small_block.ffn.bias)\n",
    "            setattr(wide_block.ffn, 'bias', torch.nn.Parameter((wide_ffn_bias), requires_grad=True).to(device))\n",
    "\n",
    "        # Setting Norm Layers\n",
    "        l_norm_1_weight = G_zero_1d(small_block.l_norm_1.weight)\n",
    "        l_norm_2_weight = G_zero_1d(small_block.l_norm_2.weight)\n",
    "        setattr(wide_block.l_norm_1, 'weight', torch.nn.Parameter((l_norm_1_weight), requires_grad=True).to(device))\n",
    "        setattr(wide_block.l_norm_2, 'weight', torch.nn.Parameter((l_norm_2_weight), requires_grad=True).to(device))\n",
    "        if has_bias == True:\n",
    "            l_norm_1_bias = G_zero_1d(small_block.l_norm_1.bias)\n",
    "            l_norm_2_bias = G_zero_1d(small_block.l_norm_2.bias)\n",
    "            setattr(wide_block.l_norm_1, 'bias', torch.nn.Parameter((l_norm_1_bias), requires_grad=True).to(device))\n",
    "            setattr(wide_block.l_norm_2, 'bias', torch.nn.Parameter((l_norm_2_bias), requires_grad=True).to(device))\n",
    "\n",
    "        # Setting Multi-Head Attention\n",
    "        wide_mh_lin_weight = G_zero_v2(small_block.multihead.mh_lin.weight)\n",
    "        setattr(wide_block.multihead.mh_lin, 'weight', torch.nn.Parameter((wide_mh_lin_weight), requires_grad=True))\n",
    "\n",
    "        for h in range(1, multi_heads+1):\n",
    "            head = getattr(wide_block.multihead, f'head{h}')\n",
    "            small_head = getattr(small_block.multihead, f'head{h}')\n",
    "\n",
    "            new_k = G_zero_v2(small_head.k.weight)\n",
    "            new_q = G_zero_v2(small_head.q.weight)\n",
    "            new_v = G_zero_v2(small_head.v.weight)\n",
    "            setattr(head.k, 'weight', torch.nn.Parameter((new_k), requires_grad=True).to(device))\n",
    "            setattr(head.q, 'weight', torch.nn.Parameter((new_q), requires_grad=True).to(device))\n",
    "            setattr(head.v, 'weight', torch.nn.Parameter((new_v), requires_grad=True).to(device))"
   ]
  },
  {
   "cell_type": "code",
   "execution_count": 405,
   "metadata": {},
   "outputs": [],
   "source": [
    "initWideExtendGZero_doubleStac_v2()"
   ]
  },
  {
   "cell_type": "code",
   "execution_count": 406,
   "metadata": {},
   "outputs": [
    {
     "name": "stdout",
     "output_type": "stream",
     "text": [
      "Epoch 1, Train Loss: 0.0132, Val Loss: 0.0313\n",
      "Epoch 2, Train Loss: 0.0003, Val Loss: 0.0303\n",
      "Epoch 3, Train Loss: 0.0000, Val Loss: 0.0308\n"
     ]
    }
   ],
   "source": [
    "optim_b = torch.optim.Adam(params=wideBigModel.parameters(), lr = 1e-3)\n",
    "WEZ_train_losses_doubleStack_v2, WEZ_val_losses_doubleStack_v2 = train(wideBigModel, optim_b, epochs, train_dataloader, val_dataloader)\n"
   ]
  },
  {
   "cell_type": "code",
   "execution_count": 408,
   "metadata": {},
   "outputs": [],
   "source": [
    "## Random Double stack -----------------------------------------------------------------------------------------------------------------------------------------------\n",
    "## 1 R\n",
    "## R R\n",
    "## 1 2 3 4 1 2 3 4"
   ]
  },
  {
   "cell_type": "code",
   "execution_count": 409,
   "metadata": {},
   "outputs": [],
   "source": [
    "wideBigModel = BigModel().to(device)"
   ]
  },
  {
   "cell_type": "code",
   "execution_count": 410,
   "metadata": {},
   "outputs": [],
   "source": [
    "@torch.no_grad()\n",
    "def initWideExtendGRand_doubleStack(has_bias=False):\n",
    "    # Embedding layer\n",
    "    emb = model.embedding.weight\n",
    "    wide_emb = G_rand_emb_or_f_lin(emb)\n",
    "    setattr(wideBigModel.embedding, 'weight', torch.nn.Parameter(wide_emb, requires_grad=True).to(device))\n",
    "    # f_lin layer weight\n",
    "    f_lin_weight = model.f_lin.weight\n",
    "    wide_f_lin_weight = G_rand_emb_or_f_lin(f_lin_weight)\n",
    "    setattr(wideBigModel.f_lin, 'weight', torch.nn.Parameter(wide_f_lin_weight, requires_grad=True).to(device))\n",
    "    # f_lin layer bias\n",
    "    if has_bias == True:\n",
    "        f_lin_bias = model.f_lin.bias\n",
    "        wide_f_lin_bias = G_rand_emb_or_f_lin(f_lin_bias)\n",
    "        setattr(wideBigModel.f_lin, 'bias', torch.nn.Parameter(wide_f_lin_bias, requires_grad=True).to(device))\n",
    "\n",
    "    \n",
    "    ii_list = [1,2,3,4,1,2,3,4]\n",
    "    for i in range(1, num_big_layers+1):\n",
    "        ii = ii_list[i-1]\n",
    "        small_block = getattr(model, f'block{ii}')\n",
    "        wide_block = getattr(wideBigModel, f'block{i}')\n",
    "    \n",
    "        # Setting FFN Weights\n",
    "        wide_ffn_weight = G_rand(small_block.ffn.weight)\n",
    "        setattr(wide_block.ffn, 'weight', torch.nn.Parameter((wide_ffn_weight), requires_grad=True).to(device))\n",
    "        if has_bias == True:\n",
    "            wide_ffn_bias = G_rand(small_block.ffn.bias)\n",
    "            setattr(wide_block.ffn, 'bias', torch.nn.Parameter((wide_ffn_bias), requires_grad=True).to(device))\n",
    "\n",
    "        # Setting Norm Layers\n",
    "        l_norm_1_weight = G_rand_1d(small_block.l_norm_1.weight)\n",
    "        l_norm_2_weight = G_rand_1d(small_block.l_norm_2.weight)\n",
    "        setattr(wide_block.l_norm_1, 'weight', torch.nn.Parameter((l_norm_1_weight), requires_grad=True).to(device))\n",
    "        setattr(wide_block.l_norm_2, 'weight', torch.nn.Parameter((l_norm_2_weight), requires_grad=True).to(device))\n",
    "        if has_bias == True:\n",
    "            l_norm_1_bias = G_rand_1d(small_block.l_norm_1.bias)\n",
    "            l_norm_2_bias = G_rand_1d(small_block.l_norm_2.bias)\n",
    "            setattr(wide_block.l_norm_1, 'bias', torch.nn.Parameter((l_norm_1_bias), requires_grad=True).to(device))\n",
    "            setattr(wide_block.l_norm_2, 'bias', torch.nn.Parameter((l_norm_2_bias), requires_grad=True).to(device))\n",
    "\n",
    "        # Setting Multi-Head Attention\n",
    "        wide_mh_lin_weight = G_rand(small_block.multihead.mh_lin.weight)\n",
    "        setattr(wide_block.multihead.mh_lin, 'weight', torch.nn.Parameter((wide_mh_lin_weight), requires_grad=True))\n",
    "\n",
    "        for h in range(1, multi_heads+1):\n",
    "            head = getattr(wide_block.multihead, f'head{h}')\n",
    "            small_head = getattr(small_block.multihead, f'head{h}')\n",
    "\n",
    "            new_k = G_rand(small_head.k.weight)\n",
    "            new_q = G_rand(small_head.q.weight)\n",
    "            new_v = G_rand(small_head.v.weight)\n",
    "            setattr(head.k, 'weight', torch.nn.Parameter((new_k), requires_grad=True).to(device))\n",
    "            setattr(head.q, 'weight', torch.nn.Parameter((new_q), requires_grad=True).to(device))\n",
    "            setattr(head.v, 'weight', torch.nn.Parameter((new_v), requires_grad=True).to(device))"
   ]
  },
  {
   "cell_type": "code",
   "execution_count": 411,
   "metadata": {},
   "outputs": [],
   "source": [
    "initWideExtendGRand_doubleStack()"
   ]
  },
  {
   "cell_type": "code",
   "execution_count": 412,
   "metadata": {},
   "outputs": [
    {
     "name": "stdout",
     "output_type": "stream",
     "text": [
      "Epoch 1, Train Loss: 3.7653, Val Loss: 3.5877\n",
      "Epoch 2, Train Loss: 3.4742, Val Loss: 3.5498\n",
      "Epoch 3, Train Loss: 3.4561, Val Loss: 3.5482\n"
     ]
    }
   ],
   "source": [
    "optim_b = torch.optim.Adam(params=wideBigModel.parameters(), lr = 1e-3)\n",
    "WEZ_train_losses_doubleStack_R, WEZ_val_losses_doubleStack_R = train(wideBigModel, optim_b, epochs, train_dataloader, val_dataloader)\n"
   ]
  },
  {
   "cell_type": "code",
   "execution_count": 414,
   "metadata": {},
   "outputs": [],
   "source": [
    "## Random Double stack V2-----------------------------------------------------------------------------------------------------------------------------------------------\n",
    "## 1 R\n",
    "## R 1\n",
    "## 1 2 3 4 1 2 3 4"
   ]
  },
  {
   "cell_type": "code",
   "execution_count": 415,
   "metadata": {},
   "outputs": [],
   "source": [
    "wideBigModel = BigModel().to(device)"
   ]
  },
  {
   "cell_type": "code",
   "execution_count": 416,
   "metadata": {},
   "outputs": [],
   "source": [
    "@torch.no_grad()\n",
    "def initWideExtendGRandV2_doubleStack(has_bias=False):\n",
    "    # Embedding layer\n",
    "    emb = model.embedding.weight\n",
    "    wide_emb = G_rand_emb_or_f_lin(emb)\n",
    "    setattr(wideBigModel.embedding, 'weight', torch.nn.Parameter(wide_emb, requires_grad=True).to(device))\n",
    "    # f_lin layer weight\n",
    "    f_lin_weight = model.f_lin.weight\n",
    "    wide_f_lin_weight = G_rand_emb_or_f_lin(f_lin_weight)\n",
    "    setattr(wideBigModel.f_lin, 'weight', torch.nn.Parameter(wide_f_lin_weight, requires_grad=True).to(device))\n",
    "    # f_lin layer bias\n",
    "    if has_bias == True:\n",
    "        f_lin_bias = model.f_lin.bias\n",
    "        wide_f_lin_bias = G_rand_emb_or_f_lin(f_lin_bias)\n",
    "        setattr(wideBigModel.f_lin, 'bias', torch.nn.Parameter(wide_f_lin_bias, requires_grad=True).to(device))\n",
    "\n",
    "    \n",
    "    ii_list = [1,2,3,4,1,2,3,4]\n",
    "    for i in range(1, num_big_layers+1):\n",
    "        ii = ii_list[i-1]\n",
    "        small_block = getattr(model, f'block{ii}')\n",
    "        wide_block = getattr(wideBigModel, f'block{i}')\n",
    "    \n",
    "        # Setting FFN Weights\n",
    "        wide_ffn_weight = G_rand_v2(small_block.ffn.weight)\n",
    "        setattr(wide_block.ffn, 'weight', torch.nn.Parameter((wide_ffn_weight), requires_grad=True).to(device))\n",
    "        if has_bias == True:\n",
    "            wide_ffn_bias = G_rand_v2(small_block.ffn.bias)\n",
    "            setattr(wide_block.ffn, 'bias', torch.nn.Parameter((wide_ffn_bias), requires_grad=True).to(device))\n",
    "\n",
    "        # Setting Norm Layers\n",
    "        l_norm_1_weight = G_rand_1d(small_block.l_norm_1.weight)\n",
    "        l_norm_2_weight = G_rand_1d(small_block.l_norm_2.weight)\n",
    "        setattr(wide_block.l_norm_1, 'weight', torch.nn.Parameter((l_norm_1_weight), requires_grad=True).to(device))\n",
    "        setattr(wide_block.l_norm_2, 'weight', torch.nn.Parameter((l_norm_2_weight), requires_grad=True).to(device))\n",
    "        if has_bias == True:\n",
    "            l_norm_1_bias = G_rand_1d(small_block.l_norm_1.bias)\n",
    "            l_norm_2_bias = G_rand_1d(small_block.l_norm_2.bias)\n",
    "            setattr(wide_block.l_norm_1, 'bias', torch.nn.Parameter((l_norm_1_bias), requires_grad=True).to(device))\n",
    "            setattr(wide_block.l_norm_2, 'bias', torch.nn.Parameter((l_norm_2_bias), requires_grad=True).to(device))\n",
    "\n",
    "        # Setting Multi-Head Attention\n",
    "        wide_mh_lin_weight = G_rand_v2(small_block.multihead.mh_lin.weight)\n",
    "        setattr(wide_block.multihead.mh_lin, 'weight', torch.nn.Parameter((wide_mh_lin_weight), requires_grad=True))\n",
    "\n",
    "        for h in range(1, multi_heads+1):\n",
    "            head = getattr(wide_block.multihead, f'head{h}')\n",
    "            small_head = getattr(small_block.multihead, f'head{h}')\n",
    "\n",
    "            new_k = G_rand_v2(small_head.k.weight)\n",
    "            new_q = G_rand_v2(small_head.q.weight)\n",
    "            new_v = G_rand_v2(small_head.v.weight)\n",
    "            setattr(head.k, 'weight', torch.nn.Parameter((new_k), requires_grad=True).to(device))\n",
    "            setattr(head.q, 'weight', torch.nn.Parameter((new_q), requires_grad=True).to(device))\n",
    "            setattr(head.v, 'weight', torch.nn.Parameter((new_v), requires_grad=True).to(device))"
   ]
  },
  {
   "cell_type": "code",
   "execution_count": 417,
   "metadata": {},
   "outputs": [],
   "source": [
    "initWideExtendGRandV2_doubleStack()"
   ]
  },
  {
   "cell_type": "code",
   "execution_count": 418,
   "metadata": {},
   "outputs": [
    {
     "name": "stdout",
     "output_type": "stream",
     "text": [
      "Epoch 1, Train Loss: 3.7363, Val Loss: 3.5507\n",
      "Epoch 2, Train Loss: 3.4644, Val Loss: 3.5381\n",
      "Epoch 3, Train Loss: 3.4574, Val Loss: 3.5295\n"
     ]
    }
   ],
   "source": [
    "optim_b = torch.optim.Adam(params=wideBigModel.parameters(), lr = 1e-3)\n",
    "train_losses_doubleStack_R_v2, val_losses_doubleStack_R_v2 = train(wideBigModel, optim_b, epochs, train_dataloader, val_dataloader)\n"
   ]
  },
  {
   "cell_type": "code",
   "execution_count": null,
   "metadata": {},
   "outputs": [],
   "source": []
  },
  {
   "cell_type": "code",
   "execution_count": 420,
   "metadata": {},
   "outputs": [],
   "source": [
    "## Train scratch(raw) Wide and Big Model ------------------------------------------------------------------------------------------------------------------------------------------------------\n",
    "##"
   ]
  },
  {
   "cell_type": "code",
   "execution_count": 421,
   "metadata": {},
   "outputs": [
    {
     "name": "stdout",
     "output_type": "stream",
     "text": [
      "Epoch 1, Train Loss: 0.2189, Val Loss: 0.0322\n",
      "Epoch 2, Train Loss: 0.0049, Val Loss: 0.0263\n",
      "Epoch 3, Train Loss: 0.0001, Val Loss: 0.0262\n"
     ]
    }
   ],
   "source": [
    "wideBigModel_scratch = BigModel().to(device)\n",
    "optim_b = torch.optim.Adam(params=wideBigModel_scratch.parameters(), lr = 1e-3)\n",
    "WBMS_train_losses, WBMS_val_losses = train(wideBigModel_scratch, optim_b, epochs, train_dataloader, val_dataloader)\n",
    "torch.save(wideBigModel_scratch.state_dict(), 'models_ZONG/wide_model_big_scratch.pth')"
   ]
  },
  {
   "cell_type": "code",
   "execution_count": 422,
   "metadata": {},
   "outputs": [
    {
     "data": {
      "text/plain": [
       "BigModel(\n",
       "  (embedding): Embedding(50258, 512)\n",
       "  (pe): PositionalEncoding(\n",
       "    (dropout): Dropout(p=0.1, inplace=False)\n",
       "  )\n",
       "  (block1): Block(\n",
       "    (multihead): MultiHead(\n",
       "      (head1): AttentionHead(\n",
       "        (k): Linear(in_features=512, out_features=512, bias=False)\n",
       "        (q): Linear(in_features=512, out_features=512, bias=False)\n",
       "        (v): Linear(in_features=512, out_features=512, bias=False)\n",
       "      )\n",
       "      (head2): AttentionHead(\n",
       "        (k): Linear(in_features=512, out_features=512, bias=False)\n",
       "        (q): Linear(in_features=512, out_features=512, bias=False)\n",
       "        (v): Linear(in_features=512, out_features=512, bias=False)\n",
       "      )\n",
       "      (mh_lin): Linear(in_features=1024, out_features=512, bias=False)\n",
       "      (drop): Dropout(p=0.1, inplace=False)\n",
       "    )\n",
       "    (l_norm_1): LayerNorm((512,), eps=1e-05, elementwise_affine=True)\n",
       "    (l_norm_2): LayerNorm((512,), eps=1e-05, elementwise_affine=True)\n",
       "    (ffn): Linear(in_features=512, out_features=512, bias=True)\n",
       "    (drop): Dropout(p=0.1, inplace=False)\n",
       "  )\n",
       "  (block2): Block(\n",
       "    (multihead): MultiHead(\n",
       "      (head1): AttentionHead(\n",
       "        (k): Linear(in_features=512, out_features=512, bias=False)\n",
       "        (q): Linear(in_features=512, out_features=512, bias=False)\n",
       "        (v): Linear(in_features=512, out_features=512, bias=False)\n",
       "      )\n",
       "      (head2): AttentionHead(\n",
       "        (k): Linear(in_features=512, out_features=512, bias=False)\n",
       "        (q): Linear(in_features=512, out_features=512, bias=False)\n",
       "        (v): Linear(in_features=512, out_features=512, bias=False)\n",
       "      )\n",
       "      (mh_lin): Linear(in_features=1024, out_features=512, bias=False)\n",
       "      (drop): Dropout(p=0.1, inplace=False)\n",
       "    )\n",
       "    (l_norm_1): LayerNorm((512,), eps=1e-05, elementwise_affine=True)\n",
       "    (l_norm_2): LayerNorm((512,), eps=1e-05, elementwise_affine=True)\n",
       "    (ffn): Linear(in_features=512, out_features=512, bias=True)\n",
       "    (drop): Dropout(p=0.1, inplace=False)\n",
       "  )\n",
       "  (block3): Block(\n",
       "    (multihead): MultiHead(\n",
       "      (head1): AttentionHead(\n",
       "        (k): Linear(in_features=512, out_features=512, bias=False)\n",
       "        (q): Linear(in_features=512, out_features=512, bias=False)\n",
       "        (v): Linear(in_features=512, out_features=512, bias=False)\n",
       "      )\n",
       "      (head2): AttentionHead(\n",
       "        (k): Linear(in_features=512, out_features=512, bias=False)\n",
       "        (q): Linear(in_features=512, out_features=512, bias=False)\n",
       "        (v): Linear(in_features=512, out_features=512, bias=False)\n",
       "      )\n",
       "      (mh_lin): Linear(in_features=1024, out_features=512, bias=False)\n",
       "      (drop): Dropout(p=0.1, inplace=False)\n",
       "    )\n",
       "    (l_norm_1): LayerNorm((512,), eps=1e-05, elementwise_affine=True)\n",
       "    (l_norm_2): LayerNorm((512,), eps=1e-05, elementwise_affine=True)\n",
       "    (ffn): Linear(in_features=512, out_features=512, bias=True)\n",
       "    (drop): Dropout(p=0.1, inplace=False)\n",
       "  )\n",
       "  (block4): Block(\n",
       "    (multihead): MultiHead(\n",
       "      (head1): AttentionHead(\n",
       "        (k): Linear(in_features=512, out_features=512, bias=False)\n",
       "        (q): Linear(in_features=512, out_features=512, bias=False)\n",
       "        (v): Linear(in_features=512, out_features=512, bias=False)\n",
       "      )\n",
       "      (head2): AttentionHead(\n",
       "        (k): Linear(in_features=512, out_features=512, bias=False)\n",
       "        (q): Linear(in_features=512, out_features=512, bias=False)\n",
       "        (v): Linear(in_features=512, out_features=512, bias=False)\n",
       "      )\n",
       "      (mh_lin): Linear(in_features=1024, out_features=512, bias=False)\n",
       "      (drop): Dropout(p=0.1, inplace=False)\n",
       "    )\n",
       "    (l_norm_1): LayerNorm((512,), eps=1e-05, elementwise_affine=True)\n",
       "    (l_norm_2): LayerNorm((512,), eps=1e-05, elementwise_affine=True)\n",
       "    (ffn): Linear(in_features=512, out_features=512, bias=True)\n",
       "    (drop): Dropout(p=0.1, inplace=False)\n",
       "  )\n",
       "  (block5): Block(\n",
       "    (multihead): MultiHead(\n",
       "      (head1): AttentionHead(\n",
       "        (k): Linear(in_features=512, out_features=512, bias=False)\n",
       "        (q): Linear(in_features=512, out_features=512, bias=False)\n",
       "        (v): Linear(in_features=512, out_features=512, bias=False)\n",
       "      )\n",
       "      (head2): AttentionHead(\n",
       "        (k): Linear(in_features=512, out_features=512, bias=False)\n",
       "        (q): Linear(in_features=512, out_features=512, bias=False)\n",
       "        (v): Linear(in_features=512, out_features=512, bias=False)\n",
       "      )\n",
       "      (mh_lin): Linear(in_features=1024, out_features=512, bias=False)\n",
       "      (drop): Dropout(p=0.1, inplace=False)\n",
       "    )\n",
       "    (l_norm_1): LayerNorm((512,), eps=1e-05, elementwise_affine=True)\n",
       "    (l_norm_2): LayerNorm((512,), eps=1e-05, elementwise_affine=True)\n",
       "    (ffn): Linear(in_features=512, out_features=512, bias=True)\n",
       "    (drop): Dropout(p=0.1, inplace=False)\n",
       "  )\n",
       "  (block6): Block(\n",
       "    (multihead): MultiHead(\n",
       "      (head1): AttentionHead(\n",
       "        (k): Linear(in_features=512, out_features=512, bias=False)\n",
       "        (q): Linear(in_features=512, out_features=512, bias=False)\n",
       "        (v): Linear(in_features=512, out_features=512, bias=False)\n",
       "      )\n",
       "      (head2): AttentionHead(\n",
       "        (k): Linear(in_features=512, out_features=512, bias=False)\n",
       "        (q): Linear(in_features=512, out_features=512, bias=False)\n",
       "        (v): Linear(in_features=512, out_features=512, bias=False)\n",
       "      )\n",
       "      (mh_lin): Linear(in_features=1024, out_features=512, bias=False)\n",
       "      (drop): Dropout(p=0.1, inplace=False)\n",
       "    )\n",
       "    (l_norm_1): LayerNorm((512,), eps=1e-05, elementwise_affine=True)\n",
       "    (l_norm_2): LayerNorm((512,), eps=1e-05, elementwise_affine=True)\n",
       "    (ffn): Linear(in_features=512, out_features=512, bias=True)\n",
       "    (drop): Dropout(p=0.1, inplace=False)\n",
       "  )\n",
       "  (block7): Block(\n",
       "    (multihead): MultiHead(\n",
       "      (head1): AttentionHead(\n",
       "        (k): Linear(in_features=512, out_features=512, bias=False)\n",
       "        (q): Linear(in_features=512, out_features=512, bias=False)\n",
       "        (v): Linear(in_features=512, out_features=512, bias=False)\n",
       "      )\n",
       "      (head2): AttentionHead(\n",
       "        (k): Linear(in_features=512, out_features=512, bias=False)\n",
       "        (q): Linear(in_features=512, out_features=512, bias=False)\n",
       "        (v): Linear(in_features=512, out_features=512, bias=False)\n",
       "      )\n",
       "      (mh_lin): Linear(in_features=1024, out_features=512, bias=False)\n",
       "      (drop): Dropout(p=0.1, inplace=False)\n",
       "    )\n",
       "    (l_norm_1): LayerNorm((512,), eps=1e-05, elementwise_affine=True)\n",
       "    (l_norm_2): LayerNorm((512,), eps=1e-05, elementwise_affine=True)\n",
       "    (ffn): Linear(in_features=512, out_features=512, bias=True)\n",
       "    (drop): Dropout(p=0.1, inplace=False)\n",
       "  )\n",
       "  (block8): Block(\n",
       "    (multihead): MultiHead(\n",
       "      (head1): AttentionHead(\n",
       "        (k): Linear(in_features=512, out_features=512, bias=False)\n",
       "        (q): Linear(in_features=512, out_features=512, bias=False)\n",
       "        (v): Linear(in_features=512, out_features=512, bias=False)\n",
       "      )\n",
       "      (head2): AttentionHead(\n",
       "        (k): Linear(in_features=512, out_features=512, bias=False)\n",
       "        (q): Linear(in_features=512, out_features=512, bias=False)\n",
       "        (v): Linear(in_features=512, out_features=512, bias=False)\n",
       "      )\n",
       "      (mh_lin): Linear(in_features=1024, out_features=512, bias=False)\n",
       "      (drop): Dropout(p=0.1, inplace=False)\n",
       "    )\n",
       "    (l_norm_1): LayerNorm((512,), eps=1e-05, elementwise_affine=True)\n",
       "    (l_norm_2): LayerNorm((512,), eps=1e-05, elementwise_affine=True)\n",
       "    (ffn): Linear(in_features=512, out_features=512, bias=True)\n",
       "    (drop): Dropout(p=0.1, inplace=False)\n",
       "  )\n",
       "  (f_lin): Linear(in_features=512, out_features=50258, bias=True)\n",
       "  (drop): Dropout(p=0.1, inplace=False)\n",
       ")"
      ]
     },
     "execution_count": 422,
     "metadata": {},
     "output_type": "execute_result"
    }
   ],
   "source": [
    "wideBigModel_scratch"
   ]
  },
  {
   "cell_type": "code",
   "execution_count": 423,
   "metadata": {},
   "outputs": [
    {
     "data": {
      "text/plain": [
       "<Figure size 1000x500 with 0 Axes>"
      ]
     },
     "metadata": {},
     "output_type": "display_data"
    },
    {
     "data": {
      "image/png": "[encoded data removed]",
      "text/plain": [
       "<Figure size 640x480 with 1 Axes>"
      ]
     },
     "metadata": {},
     "output_type": "display_data"
    },
    {
     "data": {
      "text/plain": [
       "<Figure size 1000x500 with 0 Axes>"
      ]
     },
     "metadata": {},
     "output_type": "display_data"
    },
    {
     "data": {
      "image/png": "[encoded data removed]",
      "text/plain": [
       "<Figure size 640x480 with 1 Axes>"
      ]
     },
     "metadata": {},
     "output_type": "display_data"
    }
   ],
   "source": [
    "import pandas as pd\n",
    "import matplotlib.pyplot as plt\n",
    "\n",
    "\n",
    "# Create DataFrames for training and validation losses\n",
    "train_data = {\n",
    "    'Wide Model': WME_train_loss,\n",
    "    'Wide Model V2': WEZ_train_loss,\n",
    "    'Wide Model V2 Double Stack': WEZ_train_losses_doubleStack,\n",
    "    'Wide Model V2 Double Stack V2': WEZ_train_losses_doubleStack_v2,\n",
    "    'Wide Model Random': WMR_train_losses,\n",
    "    'Wide Model Random V2': WMR_train_losses_v2,\n",
    "    'Wide Model Random Double Stack': WEZ_train_losses_doubleStack_R,\n",
    "    'Wide Model Random Double Stack V2': train_losses_doubleStack_R_v2,\n",
    "    'Wide Model Raw': RWM_train_losses,\n",
    "    'Wide Model Big': WBMS_train_losses\n",
    "}\n",
    "\n",
    "val_data = {\n",
    "    'Wide Model': WME_val_loss,\n",
    "    'Wide Model V2': WEZ_val_loss,\n",
    "    'Wide Model V2 Double Stack': WEZ_val_losses_doubleStack,\n",
    "    'Wide Model V2 Double Stack V2': WEZ_val_losses_doubleStack_v2,\n",
    "    'Wide Model Random': WMR_val_losses,\n",
    "    'Wide Model Random V2': WMR_val_losses_v2,\n",
    "    'Wide Model Random Double Stack': WEZ_val_losses_doubleStack_R,\n",
    "    'Wide Model Random Double Stack V2': val_losses_doubleStack_R_v2,\n",
    "    'Wide Model Raw': RWM_val_losses,\n",
    "    'Wide Model Big': WBMS_val_losses\n",
    "    \n",
    "}\n",
    "\n",
    "df_train = pd.DataFrame(train_data)\n",
    "df_val = pd.DataFrame(val_data)\n",
    "\n",
    "# Plot the training loss\n",
    "plt.figure(figsize=(10, 5))\n",
    "df_train.plot()\n",
    "plt.title('Training Loss')\n",
    "plt.xlabel('Batch Index (per 100)')\n",
    "plt.ylabel('Loss')\n",
    "plt.legend(loc='upper right')\n",
    "plt.grid(True)\n",
    "plt.show()\n",
    "\n",
    "# Plot the validation loss\n",
    "plt.figure(figsize=(10, 5))\n",
    "df_val.plot()\n",
    "plt.title('Validation Loss')\n",
    "plt.xlabel('Batch Index (per 100)')\n",
    "plt.ylabel('Loss')\n",
    "plt.legend(loc='upper right')\n",
    "plt.grid(True)\n",
    "plt.show()"
   ]
  }
 ],
 "metadata": {
  "kernelspec": {
   "display_name": "Python 3 (ipykernel)",
   "language": "python",
   "name": "python3"
  },
  "language_info": {
   "codemirror_mode": {
    "name": "ipython",
    "version": 3
   },
   "file_extension": ".py",
   "mimetype": "text/x-python",
   "name": "python",
   "nbconvert_exporter": "python",
   "pygments_lexer": "ipython3",
   "version": "3.12.3"
  }
 },
 "nbformat": 4,
 "nbformat_minor": 4
}
