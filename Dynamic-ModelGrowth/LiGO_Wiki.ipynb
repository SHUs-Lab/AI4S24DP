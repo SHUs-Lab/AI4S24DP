{
 "cells": [
  {
   "cell_type": "code",
   "execution_count": 1,
   "metadata": {},
   "outputs": [
    {
     "name": "stderr",
     "output_type": "stream",
     "text": [
      "2024-07-20 15:51:42.327399: I tensorflow/core/util/port.cc:113] oneDNN custom operations are on. You may see slightly different numerical results due to floating-point round-off errors from different computation orders. To turn them off, set the environment variable `TF_ENABLE_ONEDNN_OPTS=0`.\n",
      "2024-07-20 15:51:42.368669: E external/local_xla/xla/stream_executor/cuda/cuda_dnn.cc:9261] Unable to register cuDNN factory: Attempting to register factory for plugin cuDNN when one has already been registered\n",
      "2024-07-20 15:51:42.368701: E external/local_xla/xla/stream_executor/cuda/cuda_fft.cc:607] Unable to register cuFFT factory: Attempting to register factory for plugin cuFFT when one has already been registered\n",
      "2024-07-20 15:51:42.369800: E external/local_xla/xla/stream_executor/cuda/cuda_blas.cc:1515] Unable to register cuBLAS factory: Attempting to register factory for plugin cuBLAS when one has already been registered\n",
      "2024-07-20 15:51:42.376393: I tensorflow/core/platform/cpu_feature_guard.cc:182] This TensorFlow binary is optimized to use available CPU instructions in performance-critical operations.\n",
      "To enable the following instructions: AVX2 AVX512F AVX512_VNNI FMA, in other operations, rebuild TensorFlow with the appropriate compiler flags.\n",
      "2024-07-20 15:51:43.176985: W tensorflow/compiler/tf2tensorrt/utils/py_utils.cc:38] TF-TRT Warning: Could not find TensorRT\n"
     ]
    }
   ],
   "source": [
    "import math, sys\n",
    "import torch\n",
    "import torch.nn.functional as F\n",
    "from torch.utils.data import DataLoader\n",
    "from transformers import GPT2Tokenizer, DataCollatorForLanguageModeling\n",
    "from datasets import load_dataset"
   ]
  },
  {
   "cell_type": "code",
   "execution_count": 2,
   "metadata": {},
   "outputs": [],
   "source": [
    "LiGO_bool = True\n",
    "emb_size = 128\n",
    "new_emb_size = 256\n",
    "block_size = 64\n",
    "multi_heads = 2\n",
    "batch_size = 512\n",
    "epochs = 3\n",
    "learning_rate = 3e-4\n",
    "device = torch.device('cuda:1')\n",
    "num_small_layers = 4\n",
    "multi_heads = 2\n",
    "num_large_layers = 8\n",
    "batches_per_epoch = 10"
   ]
  },
  {
   "cell_type": "code",
   "execution_count": 3,
   "metadata": {},
   "outputs": [],
   "source": [
    "# Dataset wikitext-2\n",
    "dataset = load_dataset('wikitext', 'wikitext-2-v1')\n",
    "\n",
    "# Dataset wikitext-103\n",
    "# dataset = load_dataset('wikitext', 'wikitext-103-raw-v1')\n",
    "\n",
    "tokenizer = GPT2Tokenizer.from_pretrained('gpt2')\n",
    "\n",
    "# padding token \n",
    "tokenizer.add_special_tokens({'pad_token': '[PAD]'})\n",
    "vocab_size = len(tokenizer)\n",
    "\n",
    "def tokenize_function(examples):\n",
    "    return tokenizer(examples['text'], return_tensors='pt', truncation=True, padding='max_length', max_length=block_size)\n",
    "\n",
    "tokenized_datasets = dataset.map(tokenize_function, batched=True, remove_columns=[\"text\"])\n",
    "data_collator = DataCollatorForLanguageModeling(tokenizer=tokenizer, mlm=False)\n",
    "\n",
    "train_dataset = tokenized_datasets[\"train\"]\n",
    "val_dataset = tokenized_datasets[\"validation\"]\n",
    "train_dataloader = DataLoader(train_dataset, shuffle=True, batch_size=batch_size, collate_fn=data_collator)\n",
    "val_dataloader = DataLoader(val_dataset, shuffle=False, batch_size=batch_size, collate_fn=data_collator)\n"
   ]
  },
  {
   "cell_type": "code",
   "execution_count": 4,
   "metadata": {},
   "outputs": [],
   "source": [
    "train_dataloader = list(train_dataloader)\n",
    "val_dataloader = list(val_dataloader)"
   ]
  },
  {
   "cell_type": "code",
   "execution_count": 5,
   "metadata": {},
   "outputs": [],
   "source": [
    "@torch.no_grad()\n",
    "def validate(mdl, dataloader, device=device):\n",
    "    loss_fn = torch.nn.CrossEntropyLoss()\n",
    "    mdl.eval()\n",
    "    total_loss = 0\n",
    "    num_batches = 0\n",
    "    ix = torch.randint(len(dataloader), tuple([5]))\n",
    "    # dataloader = list(dataloader)\n",
    "    for index in ix:\n",
    "        batch = dataloader[index]\n",
    "        inputs = batch[\"input_ids\"].detach().clone().detach().squeeze(1).to(device)\n",
    "        labels = batch[\"labels\"].detach().clone().detach().to(device)\n",
    "        outputs = mdl(inputs)\n",
    "        loss = loss_fn(outputs.view(-1, vocab_size), labels.view(-1))\n",
    "        total_loss += loss.item()\n",
    "        num_batches += 1\n",
    "        del loss\n",
    "        del outputs\n",
    "    return total_loss / num_batches\n",
    "\n",
    "@torch.enable_grad()\n",
    "def train(mdl, optim, epochs, train_dataloader=train_dataloader, val_dataloader=val_dataloader, device=device):\n",
    "    loss_fn = torch.nn.CrossEntropyLoss()\n",
    "    mdl.to(device)\n",
    "    val_losses_epoch = []\n",
    "    # train_dataloader = list(train_dataloader)\n",
    "    for epoch in range(epochs):\n",
    "        mdl.train()\n",
    "        total_loss = 0\n",
    "        num_batches = 0\n",
    "        ix = torch.randint(len(train_dataloader), tuple([batches_per_epoch]))\n",
    "        for index in ix:\n",
    "            batch = train_dataloader[index]\n",
    "            # print(f\"Processing Batch: {index} in Epoch: {epoch}\")\n",
    "            inputs = batch[\"input_ids\"].detach().clone().detach().to(device).squeeze(1)\n",
    "            optim.zero_grad()\n",
    "            outputs = mdl(inputs)\n",
    "            labels = batch[\"labels\"].detach().clone().detach().to(device)\n",
    "            loss = loss_fn(outputs.view(-1, vocab_size), labels.view(-1))\n",
    "            loss.backward()\n",
    "            optim.step()\n",
    "            total_loss += loss.item()\n",
    "            num_batches += 1\n",
    "            del loss\n",
    "            del outputs\n",
    "        avg_loss = total_loss / num_batches\n",
    "        val_loss = validate(mdl, val_dataloader, device=device)\n",
    "        val_losses_epoch.append(val_loss)\n",
    "        print(f\"Epoch {epoch+1}, Train Loss: {avg_loss:.4f}, Val Loss: {val_loss:.4f}\")\n",
    "    \n",
    "    return val_losses_epoch"
   ]
  },
  {
   "cell_type": "code",
   "execution_count": 6,
   "metadata": {
    "collapsed": false
   },
   "outputs": [],
   "source": [
    "class PositionalEncoding(torch.nn.Module):\n",
    "\n",
    "    def __init__(self, d_model: int, dropout: float = 0.1, max_len: int = 5000):\n",
    "        super().__init__()\n",
    "        self.dropout = torch.nn.Dropout(p=dropout)\n",
    "\n",
    "        position = torch.arange(max_len).unsqueeze(1)\n",
    "        div_term = torch.exp(torch.arange(0, d_model, 2) * (-math.log(10000.0) / d_model))\n",
    "        pe = torch.zeros(max_len, 1, d_model)\n",
    "        pe[:, 0, 0::2] = torch.sin(position * div_term)\n",
    "        pe[:, 0, 1::2] = torch.cos(position * div_term)\n",
    "        self.register_buffer('pe', pe)\n",
    "\n",
    "    def forward(self, x: torch.Tensor) -> torch.Tensor:\n",
    "        x = x + self.pe[:x.size(0)]\n",
    "        return self.dropout(x)"
   ]
  },
  {
   "cell_type": "code",
   "execution_count": 7,
   "metadata": {},
   "outputs": [],
   "source": [
    "class AttentionHead(torch.nn.Module):\n",
    "    def __init__(self, big=False):\n",
    "        super(AttentionHead, self).__init__()\n",
    "        self.k = torch.nn.Linear(new_emb_size if big else emb_size, new_emb_size if big else emb_size, bias=False)\n",
    "        self.q = torch.nn.Linear(new_emb_size if big else emb_size, new_emb_size if big else emb_size, bias=False)\n",
    "        self.v = torch.nn.Linear(new_emb_size if big else emb_size, new_emb_size if big else emb_size, bias=False)\n",
    "        self.register_buffer('tril', torch.tril(torch.ones(block_size,block_size)))\n",
    "    def forward(self, e):\n",
    "        keys = self.k(e)\n",
    "        queries = self.q(e)\n",
    "        values = self.v(e)\n",
    "        ret = keys @ queries.transpose(1, 2)*(1.0/math.sqrt(keys.size(-1)))\n",
    "        ret = torch.masked_fill(ret, self.tril==0, -torch.inf)\n",
    "        ret = torch.softmax(ret, 2)\n",
    "        ret = ret @ values\n",
    "        return ret"
   ]
  },
  {
   "cell_type": "code",
   "execution_count": 8,
   "metadata": {},
   "outputs": [],
   "source": [
    "class MultiHead(torch.nn.Module):\n",
    "    def __init__(self, big=False):\n",
    "        super(MultiHead, self).__init__()\n",
    "        self.head1 = AttentionHead(big)\n",
    "        self.head2 = AttentionHead(big)\n",
    "        self.mh_lin = torch.nn.Linear(multi_heads*(new_emb_size if big else emb_size), new_emb_size if big else emb_size, bias=False)\n",
    "        self.drop = torch.nn.Dropout(0.1)\n",
    "    def forward(self, inp):\n",
    "        x1 = self.head1(inp)\n",
    "        x2 = self.head2(inp)\n",
    "        return self.mh_lin(self.drop(torch.cat([x1,x2], dim=2))).relu()\n"
   ]
  },
  {
   "cell_type": "code",
   "execution_count": 9,
   "metadata": {},
   "outputs": [],
   "source": [
    "class Block(torch.nn.Module):\n",
    "    def __init__(self, big=False):\n",
    "        super(Block, self).__init__()\n",
    "        self.multihead = MultiHead(big)\n",
    "        self.l_norm_1 = torch.nn.LayerNorm(new_emb_size if big else emb_size)\n",
    "        self.l_norm_2 = torch.nn.LayerNorm(new_emb_size if big else emb_size)\n",
    "        self.ffn = torch.nn.Linear(new_emb_size if big else emb_size, new_emb_size if big else emb_size)\n",
    "        self.drop = torch.nn.Dropout(0.1)\n",
    "    def forward(self, inp):\n",
    "        m = self.l_norm_1(inp + self.multihead(inp))\n",
    "        m = self.l_norm_2(m + self.ffn(self.drop(m)).relu())\n",
    "        return m"
   ]
  },
  {
   "cell_type": "code",
   "execution_count": 10,
   "metadata": {},
   "outputs": [],
   "source": [
    "class Model(torch.nn.Module):\n",
    "    def __init__(self):\n",
    "        super(Model, self).__init__()\n",
    "        self.embedding = torch.nn.Embedding(vocab_size, emb_size)\n",
    "        self.pe = PositionalEncoding(d_model=emb_size)\n",
    "        self.block1 = Block()\n",
    "        self.block2 = Block()\n",
    "        self.block3 = Block()\n",
    "        self.block4 = Block()\n",
    "        self.f_lin = torch.nn.Linear(emb_size, vocab_size)\n",
    "        self.drop = torch.nn.Dropout(0.1)\n",
    "    def forward(self, inp):\n",
    "        e = self.embedding(inp)\n",
    "        e = self.pe(e)\n",
    "        m = self.block1(e)\n",
    "        m = self.block2(m)\n",
    "        m = self.block3(m)\n",
    "        m = self.block4(m)\n",
    "        r = self.f_lin(self.drop(m))\n",
    "        return r"
   ]
  },
  {
   "cell_type": "code",
   "execution_count": 11,
   "metadata": {},
   "outputs": [],
   "source": [
    "model = Model().to(device)\n",
    "optimizer = torch.optim.Adam(model.parameters(), lr = 1e-3)"
   ]
  },
  {
   "cell_type": "code",
   "execution_count": 12,
   "metadata": {},
   "outputs": [
    {
     "name": "stdout",
     "output_type": "stream",
     "text": [
      "Epoch 1, Train Loss: 9.9972, Val Loss: 8.8549\n",
      "Epoch 2, Train Loss: 8.3246, Val Loss: 7.3921\n",
      "Epoch 3, Train Loss: 7.0151, Val Loss: 6.2205\n",
      "Epoch 4, Train Loss: 5.9484, Val Loss: 5.3980\n",
      "Epoch 5, Train Loss: 5.1729, Val Loss: 4.5981\n",
      "Epoch 6, Train Loss: 4.5596, Val Loss: 4.0080\n",
      "Epoch 7, Train Loss: 4.0960, Val Loss: 3.5522\n",
      "Epoch 8, Train Loss: 3.7145, Val Loss: 3.1477\n",
      "Epoch 9, Train Loss: 3.3227, Val Loss: 2.7479\n",
      "Epoch 10, Train Loss: 2.9870, Val Loss: 2.4471\n"
     ]
    }
   ],
   "source": [
    "small_model_curve = train(model, optimizer, 10)"
   ]
  },
  {
   "cell_type": "code",
   "execution_count": 14,
   "metadata": {},
   "outputs": [],
   "source": [
    "k_params = torch.empty((0,emb_size*emb_size)).to(device)\n",
    "q_params = torch.empty((0,emb_size*emb_size)).to(device)\n",
    "v_params = torch.empty((0,emb_size*emb_size)).to(device)\n",
    "lin_params = torch.empty((0, 2*emb_size*emb_size)).to(device)\n",
    "ffn_w_params = torch.empty((0, emb_size*emb_size)).to(device)\n",
    "ffn_b_params = torch.empty((0, emb_size)).to(device)\n",
    "l_norm_w_params = torch.empty((0, emb_size)).to(device)\n",
    "l_norm_b_params = torch.empty((0, emb_size)).to(device)\n",
    "for i in model.state_dict():\n",
    "    if '.k.' in i:\n",
    "        k_params = torch.cat((k_params, model.state_dict()[i].flatten().view(1,-1)), dim=0)\n",
    "    elif '.q.' in i:\n",
    "        q_params = torch.cat((q_params, model.state_dict()[i].flatten().view(1,-1)), dim=0)\n",
    "    elif '.v.' in i:\n",
    "        v_params = torch.cat((v_params, model.state_dict()[i].flatten().view(1,-1)), dim=0)\n",
    "    elif '.mh_lin' in i:\n",
    "        lin_params = torch.cat((lin_params, model.state_dict()[i].flatten().view(1,-1)), dim = 0)\n",
    "    elif 'ffn' in i and 'weight' in i:\n",
    "        ffn_w_params = torch.cat((ffn_w_params, model.state_dict()[i].flatten().view(1,-1)), dim = 0)\n",
    "    elif 'ffn' in i and 'bias' in i:\n",
    "        ffn_b_params = torch.cat((ffn_b_params, model.state_dict()[i].flatten().view(1,-1)), dim = 0)\n",
    "    elif 'l_norm' in i and 'weight' in i:\n",
    "        l_norm_w_params = torch.cat((l_norm_w_params, model.state_dict()[i].flatten().view(1,-1)), dim = 0)\n",
    "    elif 'l_norm' in i and 'bias' in i:\n",
    "        l_norm_b_params = torch.cat((l_norm_b_params, model.state_dict()[i].flatten().view(1,-1)), dim = 0)"
   ]
  },
  {
   "cell_type": "code",
   "execution_count": 15,
   "metadata": {
    "collapsed": false
   },
   "outputs": [],
   "source": [
    "class FusedEmbedding(torch.nn.Module):\n",
    "    def __init__(self, emb_params, static=True, width=False, width_static=True):\n",
    "        super(FusedEmbedding, self).__init__()\n",
    "        self.static = static\n",
    "        self.width_static = width_static\n",
    "        self.width=width\n",
    "        if static:\n",
    "            if width:\n",
    "                if width_static:\n",
    "                    self.emb_params = torch.cat((emb_params, emb_params)).view(vocab_size, -1)\n",
    "                else:\n",
    "                    self.emb_params = emb_params.view(vocab_size, -1)\n",
    "                    self.width_w = torch.nn.Linear(emb_size, new_emb_size, bias=False)\n",
    "            else:\n",
    "                self.emb_params = emb_params.view(vocab_size, -1)\n",
    "        else:\n",
    "            self.width = width\n",
    "            self.emb_params = emb_params\n",
    "    def forward(self, inp):\n",
    "        emb = self.emb_params\n",
    "        if self.static:\n",
    "            if self.width:\n",
    "                if self.width_static:\n",
    "                    return torch.nn.functional.embedding(inp, emb)\n",
    "                return torch.nn.functional.embedding(inp, self.width_w(emb))\n",
    "        emb = emb.view(vocab_size, -1)\n",
    "        return torch.nn.functional.embedding(inp, emb)"
   ]
  },
  {
   "cell_type": "code",
   "execution_count": 16,
   "metadata": {},
   "outputs": [],
   "source": [
    "class FusedLin(torch.nn.Module):\n",
    "    def __init__(self, num_layers, in_dim, out_dim, small_params_w, small_params_b = None, static = False, width_static=True, width=False, old_in_dim = emb_size, old_out_dim = emb_size):\n",
    "        super( FusedLin, self).__init__()\n",
    "        self.in_dim = in_dim\n",
    "        self.out_dim = out_dim\n",
    "        self.static = static\n",
    "        self.width = width\n",
    "        self.old_in_dim = old_in_dim\n",
    "        self.old_out_dim = old_out_dim\n",
    "        self.width_static = width_static\n",
    "        self.final = True if out_dim == vocab_size else False\n",
    "        if not self.final and static:\n",
    "            if width:\n",
    "                if width_static:\n",
    "                    self.register_buffer('small_params_w', torch.kron(torch.eye(int(out_dim/old_out_dim), int(in_dim/old_in_dim)).to(device), small_params_w).view(out_dim, in_dim))\n",
    "                    if small_params_b is not None:\n",
    "                        if old_out_dim == out_dim:\n",
    "                            self.register_buffer('small_params_b', small_params_b)\n",
    "                        else:\n",
    "                            self.register_buffer('small_params_b', torch.cat((small_params_b, small_params_b)))\n",
    "                    else:\n",
    "                        self.small_params_b = None\n",
    "                else:\n",
    "                    self.register_buffer('small_params_w', small_params_w)\n",
    "                    self.width_wa = torch.nn.Linear(old_out_dim, out_dim, bias=False) if width else None\n",
    "                    self.width_wb = torch.nn.Linear(old_in_dim, in_dim, bias=False) if width else None\n",
    "                    if small_params_b is not None:\n",
    "                        self.register_buffer('small_params_b', small_params_b)\n",
    "                    else:\n",
    "                        self.small_params_b = None\n",
    "                    self.width_b = torch.nn.Linear(old_out_dim, out_dim, bias=False) if width and small_params_b is not None else None\n",
    "            else:\n",
    "                self.register_buffer('small_params_w', small_params_w.view(out_dim, in_dim))\n",
    "                if small_params_b is not None:\n",
    "                    self.register_buffer('small_params_b', small_params_b)\n",
    "                else:\n",
    "                    self.small_params_b = None\n",
    "        else:\n",
    "            self.width_wa = torch.nn.Linear(old_out_dim, out_dim, bias=False) if width and not self.final else None\n",
    "            self.width_wb = torch.nn.Linear(old_in_dim, in_dim, bias=False) if width else None\n",
    "            self.width_b = torch.nn.Linear(old_out_dim, out_dim, bias=False) if width and small_params_b is not None and not self.final else None\n",
    "            if not self.final:\n",
    "                self.lin_w = torch.nn.Parameter(torch.rand(num_layers))\n",
    "                if small_params_b is not None:\n",
    "                    self.lin_b = torch.nn.Parameter(torch.rand(num_layers))\n",
    "            self.register_buffer('small_params_w', small_params_w)\n",
    "            if small_params_b is not None:\n",
    "                self.register_buffer('small_params_b', small_params_b)\n",
    "            else:\n",
    "                self.small_params_b = None\n",
    "    def forward(self, inp):\n",
    "        if self.static and not self.final:\n",
    "            weight=self.small_params_w\n",
    "            bias=self.small_params_b\n",
    "            if not self.width_static:\n",
    "                weight = self.width_wb(weight.view(self.old_out_dim, self.old_in_dim))\n",
    "                weight = self.width_wa(weight.T).T\n",
    "                if bias is not None:\n",
    "                    bias = self.width_b(bias)\n",
    "            return torch.nn.functional.linear(inp, weight=weight, bias=bias)\n",
    "        if self.final:\n",
    "            weight = self.small_params_w\n",
    "            bias = self.small_params_b\n",
    "        else:\n",
    "            weight = self.small_params_w.T @ self.lin_w\n",
    "            bias = None\n",
    "            if self.small_params_b is not None:\n",
    "                bias = self.small_params_b.T@self.lin_b    \n",
    "        if self.width:\n",
    "            if not self.final:\n",
    "                weight = self.width_wb(weight.view(self.old_out_dim, self.old_in_dim))\n",
    "                weight = self.width_wa(weight.T).T\n",
    "            else:\n",
    "                weight = self.width_wb(weight.view(self.old_out_dim, self.old_in_dim))\n",
    "        if self.width_b is not None:\n",
    "            bias = self.width_b(bias)\n",
    "        weight = weight.view(self.out_dim, self.in_dim)\n",
    "        return torch.nn.functional.linear(inp, weight, bias = bias)"
   ]
  },
  {
   "cell_type": "code",
   "execution_count": 17,
   "metadata": {},
   "outputs": [],
   "source": [
    "class FusedNorm(torch.nn.Module):\n",
    "    def __init__(self, num_layers, small_params_w, small_params_b, static=False, width_static = True, width=False):\n",
    "        super(FusedNorm, self).__init__()\n",
    "        self.static = static\n",
    "        self.width = width\n",
    "        self.width_static = width_static\n",
    "        if not static:\n",
    "            self.register_buffer('small_params_w', small_params_w)\n",
    "            self.register_buffer('small_params_b', small_params_b)\n",
    "            self.lin_w = torch.nn.Parameter(torch.randn(num_layers))\n",
    "            self.lin_b = torch.nn.Parameter(torch.randn(num_layers))\n",
    "            if width:\n",
    "                self.width_w = torch.nn.Linear(emb_size, new_emb_size, bias=False)\n",
    "                self.width_b = torch.nn.Linear(emb_size, new_emb_size, bias=False)\n",
    "        else:\n",
    "            if width:\n",
    "                if width_static:\n",
    "                    self.register_buffer('small_params_w', torch.cat((small_params_w, small_params_w)))\n",
    "                    self.register_buffer('small_params_b', torch.cat((small_params_b, small_params_b)))\n",
    "                else:\n",
    "                    self.register_buffer('small_params_w', small_params_w)\n",
    "                    self.register_buffer('small_params_b', small_params_b)\n",
    "                    self.width_w = torch.nn.Linear(emb_size, new_emb_size, bias=False)\n",
    "                    self.width_b = torch.nn.Linear(emb_size, new_emb_size, bias=False)\n",
    "            else:\n",
    "                self.register_buffer('small_params_w', small_params_w)\n",
    "                self.register_buffer('small_params_b', small_params_b)\n",
    "    def forward(self, inp):\n",
    "        if self.static:\n",
    "            weight = self.small_params_w\n",
    "            bias = self.small_params_b\n",
    "            e_s = emb_size if not self.width else new_emb_size\n",
    "            if not self.width_static:\n",
    "                weight = self.width_w(weight)\n",
    "                bias = self.width_b(bias)\n",
    "            return torch.nn.functional.layer_norm(inp, tuple([e_s]), weight=weight, bias=bias)\n",
    "        weight = self.small_params_w.T @ self.lin_w\n",
    "        bias = self.small_params_b.T @ self.lin_b\n",
    "        if self.width:\n",
    "            weight = self.width_w(weight)\n",
    "            bias = self.width_b(bias)\n",
    "        e_s = emb_size if not self.width else new_emb_size\n",
    "        return torch.nn.functional.layer_norm(inp, tuple([e_s]), weight=weight, bias=bias)"
   ]
  },
  {
   "cell_type": "code",
   "execution_count": 18,
   "metadata": {},
   "outputs": [],
   "source": [
    "class FusedAttentionHead(torch.nn.Module):\n",
    "    def __init__(self, static=False, layerNum=None, width=False, width_static = True):\n",
    "        super( FusedAttentionHead, self).__init__()\n",
    "        self.static = static\n",
    "        self.width_static = width_static\n",
    "        if not static:\n",
    "            self.k = FusedLin(num_small_layers*multi_heads, emb_size if not width else new_emb_size, emb_size if not width else new_emb_size, k_params, width=width, width_static=width_static)\n",
    "            self.q = FusedLin(num_small_layers*multi_heads, emb_size if not width else new_emb_size, emb_size if not width else new_emb_size, q_params, width=width, width_static=width_static)\n",
    "            self.v = FusedLin(num_small_layers*multi_heads, emb_size if not width else new_emb_size, emb_size if not width else new_emb_size, v_params, width=width, width_static=width_static)\n",
    "        else:\n",
    "            self.k = FusedLin(num_small_layers*multi_heads, emb_size if not width else new_emb_size, emb_size if not width else new_emb_size, k_params[layerNum], static=True, width=width, width_static=width_static)\n",
    "            self.q = FusedLin(num_small_layers*multi_heads, emb_size if not width else new_emb_size, emb_size if not width else new_emb_size, q_params[layerNum], static=True, width=width, width_static=width_static)\n",
    "            self.v = FusedLin(num_small_layers*multi_heads, emb_size if not width else new_emb_size, emb_size if not width else new_emb_size, v_params[layerNum], static=True, width=width, width_static=width_static)\n",
    "        self.register_buffer('tril', torch.tril(torch.ones(block_size,block_size)))\n",
    "    def forward(self, e):\n",
    "        keys = self.k(e)\n",
    "        queries = self.q(e)\n",
    "        values = self.v(e)\n",
    "        ret = keys @ queries.transpose(1, 2)*(1.0/math.sqrt(keys.size(-1)))\n",
    "        ret = torch.masked_fill(ret, self.tril==0, -torch.inf)\n",
    "        ret = torch.softmax(ret, 2)\n",
    "        ret = ret @ values\n",
    "        return ret\n"
   ]
  },
  {
   "cell_type": "code",
   "execution_count": 19,
   "metadata": {},
   "outputs": [],
   "source": [
    "class FusedMultiHead(torch.nn.Module):\n",
    "    def __init__(self, static=False, layerNum=None, width=False, width_static = True):\n",
    "        super( FusedMultiHead, self).__init__()\n",
    "        self.drop = torch.nn.Dropout(0.1)\n",
    "        self.width_static = width_static\n",
    "        if not static:\n",
    "            self.head1 = FusedAttentionHead(width=width, width_static=width_static)\n",
    "            self.head2 = FusedAttentionHead(width=width, width_static=width_static)\n",
    "            self.mh_lin = FusedLin(num_small_layers, multi_heads*(emb_size if not width else new_emb_size), emb_size if not width else new_emb_size, lin_params, width=width, old_in_dim=multi_heads*emb_size , old_out_dim=emb_size, width_static=width_static)\n",
    "        else:\n",
    "            self.head1 = FusedAttentionHead(static=True, layerNum=2*layerNum, width=width, width_static=width_static)\n",
    "            self.head2 = FusedAttentionHead(static=True, layerNum=2*layerNum+1, width=width, width_static=width_static)\n",
    "            self.mh_lin = FusedLin(num_small_layers, multi_heads*(emb_size if not width else new_emb_size), emb_size if not width else new_emb_size, lin_params[layerNum], static=True, width=width, width_static=width_static, old_in_dim=multi_heads*emb_size, old_out_dim=emb_size)\n",
    "    def forward(self, inp):\n",
    "        x1 = self.head1(inp)\n",
    "        x2 = self.head2(inp)\n",
    "        return self.mh_lin(self.drop(torch.cat([x1,x2], dim=2))).relu()"
   ]
  },
  {
   "cell_type": "code",
   "execution_count": 20,
   "metadata": {},
   "outputs": [],
   "source": [
    "class FusedBlock(torch.nn.Module):\n",
    "    def __init__(self, static=False, layerNum=None, width=False, width_static = True):\n",
    "        super(FusedBlock, self).__init__()\n",
    "        self.static = static\n",
    "        self.width_static = width_static\n",
    "        self.drop = torch.nn.Dropout(0.1)\n",
    "        if not static:\n",
    "            self.multiHead = FusedMultiHead(width=width, width_static=width_static)\n",
    "            self.norm_1 = FusedNorm(num_small_layers*2, l_norm_w_params, l_norm_b_params, width=width, width_static=width_static)\n",
    "            self.norm_2 = FusedNorm(num_small_layers*2, l_norm_w_params, l_norm_b_params, width=width, width_static=width_static)\n",
    "            self.ffn = FusedLin(num_small_layers, emb_size if not width else new_emb_size, emb_size if not width else new_emb_size, ffn_w_params, ffn_b_params, width=width, width_static=width_static)\n",
    "        else:\n",
    "            self.multiHead = FusedMultiHead(static=True, layerNum=layerNum, width=width, width_static=width_static)\n",
    "            self.norm_1 = FusedNorm(num_small_layers*2, l_norm_w_params[layerNum*2], l_norm_b_params[layerNum*2], static=True, width=width, width_static=width_static)\n",
    "            self.norm_2 = FusedNorm(num_small_layers*2, l_norm_w_params[layerNum*2+1], l_norm_b_params[layerNum*2+1], static=True, width=width, width_static=width_static)\n",
    "            self.ffn = FusedLin(num_small_layers, emb_size if not width else new_emb_size, emb_size if not width else new_emb_size, ffn_w_params[layerNum], ffn_b_params[layerNum], static=True, width=width, width_static=width_static)\n",
    "    def forward(self, inp):\n",
    "        m = self.norm_1(inp + self.multiHead(inp))\n",
    "        m = self.norm_2(m + self.ffn(self.drop(m)).relu())\n",
    "        return m\n",
    "        "
   ]
  },
  {
   "cell_type": "code",
   "execution_count": 21,
   "metadata": {},
   "outputs": [],
   "source": [
    "class StackLiGO(torch.nn.Module):\n",
    "    def __init__(self, width=False) -> None:\n",
    "        super(StackLiGO, self).__init__()\n",
    "        self.emb = FusedEmbedding(emb_params=model.embedding.weight.flatten().clone(), width=width, static=True)\n",
    "        self.pe = PositionalEncoding(d_model=new_emb_size if width else emb_size)\n",
    "        self.block1 = FusedBlock(static=True, layerNum=0, width=width)\n",
    "        self.block2 = FusedBlock(static=True, layerNum=1, width=width)\n",
    "        self.block3 = FusedBlock(static=True, layerNum=2, width=width)\n",
    "        self.block4 = FusedBlock(static=True, layerNum=3, width=width)\n",
    "        self.block5 = FusedBlock(width=width)\n",
    "        self.block6 = FusedBlock(width=width)\n",
    "        self.block7 = FusedBlock(width=width)\n",
    "        self.block8 = FusedBlock(width=width)\n",
    "        self.drop = torch.nn.Dropout(0.1)\n",
    "        self.f_lin = FusedLin(1, in_dim=emb_size if not width else new_emb_size, out_dim=vocab_size, static=True, small_params_w= model.f_lin.weight.flatten().clone(), small_params_b=model.f_lin.bias.clone(), width=width, old_in_dim=emb_size, old_out_dim=vocab_size)\n",
    "    def forward(self, inp):\n",
    "        e = self.emb(inp)\n",
    "        e = self.pe(e)\n",
    "        m = self.block1(e)\n",
    "        m = self.block2(m)\n",
    "        m = self.block3(m)\n",
    "        m = self.block4(m)\n",
    "        m = self.block5(m)\n",
    "        m = self.block6(m)\n",
    "        m = self.block7(m)\n",
    "        m = self.block8(m)\n",
    "        return self.f_lin(self.drop(m))"
   ]
  },
  {
   "cell_type": "code",
   "execution_count": 22,
   "metadata": {},
   "outputs": [],
   "source": [
    "class StackLiGOv2(torch.nn.Module):\n",
    "    def __init__(self, width=False) -> None:\n",
    "        super(StackLiGOv2, self).__init__()\n",
    "        self.emb = FusedEmbedding(emb_params=model.embedding.weight.flatten().clone(), width=width, static=True, width_static=False)\n",
    "        self.pe = PositionalEncoding(d_model=new_emb_size if width else emb_size)\n",
    "        self.block1 = FusedBlock(static=True, layerNum=0, width=width, width_static=False)\n",
    "        self.block2 = FusedBlock(static=True, layerNum=1, width=width, width_static=False)\n",
    "        self.block3 = FusedBlock(static=True, layerNum=2, width=width, width_static=False)\n",
    "        self.block4 = FusedBlock(static=True, layerNum=3, width=width, width_static=False)\n",
    "        self.block5 = FusedBlock(width=width)\n",
    "        self.block6 = FusedBlock(width=width)\n",
    "        self.block7 = FusedBlock(width=width)\n",
    "        self.block8 = FusedBlock(width=width)\n",
    "        self.drop = torch.nn.Dropout(0.1)\n",
    "        self.f_lin = FusedLin(1, in_dim=emb_size if not width else new_emb_size, out_dim=vocab_size, static=True, small_params_w= model.f_lin.weight.flatten().clone(), small_params_b=model.f_lin.bias.clone(), width=width, old_in_dim=emb_size, old_out_dim=vocab_size)\n",
    "    def forward(self, inp):\n",
    "        e = self.emb(inp)\n",
    "        e = self.pe(e)\n",
    "        m = self.block1(e)\n",
    "        m = self.block2(m)\n",
    "        m = self.block3(m)\n",
    "        m = self.block4(m)\n",
    "        m = self.block5(m)\n",
    "        m = self.block6(m)\n",
    "        m = self.block7(m)\n",
    "        m = self.block8(m)\n",
    "        return self.f_lin(self.drop(m))"
   ]
  },
  {
   "cell_type": "code",
   "execution_count": 23,
   "metadata": {},
   "outputs": [],
   "source": [
    "class LiGO(torch.nn.Module):\n",
    "    def __init__(self, width=False) -> None:\n",
    "        super(LiGO, self).__init__()\n",
    "        self.emb = FusedEmbedding(emb_params=model.embedding.weight.flatten().clone(), width=width, static=True, width_static=False)\n",
    "        self.pe = PositionalEncoding(d_model=new_emb_size if width else emb_size)\n",
    "        self.block1 = FusedBlock(width=width, width_static=False)\n",
    "        self.block2 = FusedBlock(width=width, width_static=False)\n",
    "        self.block3 = FusedBlock(width=width, width_static=False)\n",
    "        self.block4 = FusedBlock(width=width, width_static=False)\n",
    "        self.block5 = FusedBlock(width=width, width_static=False)\n",
    "        self.block6 = FusedBlock(width=width, width_static=False)\n",
    "        self.block7 = FusedBlock(width=width, width_static=False)\n",
    "        self.block8 = FusedBlock(width=width, width_static=False)\n",
    "        self.drop = torch.nn.Dropout(0.1)\n",
    "        self.f_lin = FusedLin(1, in_dim=emb_size if not width else new_emb_size, out_dim=vocab_size, static=True, small_params_w= model.f_lin.weight.flatten().clone(), small_params_b=model.f_lin.bias.clone(), width=width, old_in_dim=emb_size, old_out_dim=vocab_size)\n",
    "    def forward(self, inp):\n",
    "        e = self.emb(inp)\n",
    "        e = self.pe(e)\n",
    "        m = self.block1(e)\n",
    "        m = self.block2(m)\n",
    "        m = self.block3(m)\n",
    "        m = self.block4(m)\n",
    "        m = self.block5(m)\n",
    "        m = self.block6(m)\n",
    "        m = self.block7(m)\n",
    "        m = self.block8(m)\n",
    "        return self.f_lin(self.drop(m))"
   ]
  },
  {
   "cell_type": "code",
   "execution_count": 24,
   "metadata": {},
   "outputs": [],
   "source": [
    "class LiGO_W(torch.nn.Module):\n",
    "    def __init__(self, width=True) -> None:\n",
    "        super(LiGO_W, self).__init__()\n",
    "        self.emb = FusedEmbedding(emb_params=model.embedding.weight.flatten(), width=width, static=True, width_static=False)\n",
    "        self.pe = PositionalEncoding(d_model=new_emb_size if width else emb_size)\n",
    "        self.block1 = FusedBlock(width=width, static=True, layerNum=0, width_static=False)\n",
    "        self.block2 = FusedBlock(width=width, static=True, layerNum=1, width_static=False)\n",
    "        self.block3 = FusedBlock(width=width, static=True, layerNum=2, width_static=False)\n",
    "        self.block4 = FusedBlock(width=width, static=True, layerNum=3, width_static=False)\n",
    "        self.drop = torch.nn.Dropout(0.1)\n",
    "        self.f_lin = FusedLin(1, in_dim=emb_size if not width else new_emb_size, out_dim=vocab_size, static=True, small_params_w= model.f_lin.weight.flatten(), small_params_b=model.f_lin.bias, width=width, old_in_dim=emb_size, old_out_dim=vocab_size)\n",
    "    def forward(self, inp):\n",
    "        e = self.emb(inp)\n",
    "        e = self.pe(e)\n",
    "        m = self.block1(e)\n",
    "        m = self.block2(m)\n",
    "        m = self.block3(m)\n",
    "        m = self.block4(m)\n",
    "        return self.f_lin(self.drop(m))"
   ]
  },
  {
   "cell_type": "code",
   "execution_count": 25,
   "metadata": {},
   "outputs": [],
   "source": [
    "class CrossLiGO(torch.nn.Module):\n",
    "    def __init__(self, width=False) -> None:\n",
    "        super(CrossLiGO, self).__init__()\n",
    "        self.emb = FusedEmbedding(emb_params=model.embedding.weight.flatten().detach().clone(), width=width, static=True, width_static=False)\n",
    "        self.pe = PositionalEncoding(d_model=new_emb_size if width else emb_size)\n",
    "        self.block1 = FusedBlock(static=True, layerNum=0, width=width)\n",
    "        self.block3 = FusedBlock(static=True, layerNum=1, width=width)\n",
    "        self.block5 = FusedBlock(static=True, layerNum=2, width=width)\n",
    "        self.block7 = FusedBlock(static=True, layerNum=3, width=width)\n",
    "        self.block2 = FusedBlock(width=width, width_static=False)\n",
    "        self.block4 = FusedBlock(width=width, width_static=False)\n",
    "        self.block6 = FusedBlock(width=width, width_static=False)\n",
    "        self.block8 = FusedBlock(width=width, width_static=False)\n",
    "        self.drop = torch.nn.Dropout(0.1)\n",
    "        self.f_lin = FusedLin(1, in_dim=emb_size if not width else new_emb_size, out_dim=vocab_size, static=True, small_params_w= model.f_lin.weight.flatten().clone().to(device), small_params_b=model.f_lin.bias.detach().clone().to(device), width=width, old_in_dim=emb_size, old_out_dim=vocab_size)\n",
    "    def forward(self, inp):\n",
    "        e = self.emb(inp)\n",
    "        e = self.pe(e)\n",
    "        m = self.block1(e)\n",
    "        m = self.block2(m)\n",
    "        m = self.block3(m)\n",
    "        m = self.block4(m)\n",
    "        m = self.block5(m)\n",
    "        m = self.block6(m)\n",
    "        m = self.block7(m)\n",
    "        m = self.block8(m)\n",
    "        return self.f_lin(self.drop(m))"
   ]
  },
  {
   "cell_type": "code",
   "execution_count": 26,
   "metadata": {},
   "outputs": [],
   "source": [
    "class CrossLiGOv2(torch.nn.Module):\n",
    "    def __init__(self, width=False) -> None:\n",
    "        super(CrossLiGOv2, self).__init__()\n",
    "        self.emb = FusedEmbedding(emb_params=model.embedding.weight.flatten().clone(), width=width, static=True, width_static=False)\n",
    "        self.pe = PositionalEncoding(d_model=new_emb_size if width else emb_size)\n",
    "        self.block1 = FusedBlock(static=True, layerNum=0, width=width, width_static=False)\n",
    "        self.block3 = FusedBlock(static=True, layerNum=1, width=width, width_static=False)\n",
    "        self.block5 = FusedBlock(static=True, layerNum=2, width=width, width_static=False)\n",
    "        self.block7 = FusedBlock(static=True, layerNum=3, width=width, width_static=False)\n",
    "        self.block2 = FusedBlock(width=width, width_static=False)\n",
    "        self.block4 = FusedBlock(width=width, width_static=False)\n",
    "        self.block6 = FusedBlock(width=width, width_static=False)\n",
    "        self.block8 = FusedBlock(width=width, width_static=False)\n",
    "        self.drop = torch.nn.Dropout(0.1)\n",
    "        self.f_lin = FusedLin(1, in_dim=emb_size if not width else new_emb_size, out_dim=vocab_size, static=True, small_params_w= model.f_lin.weight.flatten().clone(), small_params_b=model.f_lin.bias.clone(), width=width, old_in_dim=emb_size, old_out_dim=vocab_size)\n",
    "    def forward(self, inp):\n",
    "        e = self.emb(inp)\n",
    "        e = self.pe(e)\n",
    "        m = self.block1(e)\n",
    "        m = self.block2(m)\n",
    "        m = self.block3(m)\n",
    "        m = self.block4(m)\n",
    "        m = self.block5(m)\n",
    "        m = self.block6(m)\n",
    "        m = self.block7(m)\n",
    "        m = self.block8(m)\n",
    "        return self.f_lin(self.drop(m))"
   ]
  },
  {
   "cell_type": "code",
   "execution_count": 27,
   "metadata": {},
   "outputs": [],
   "source": [
    "class BigModel(torch.nn.Module):\n",
    "    def __init__(self, big=False):\n",
    "        super(BigModel, self).__init__()\n",
    "        self.embedding = torch.nn.Embedding(vocab_size, new_emb_size if big else emb_size)\n",
    "        self.pe = PositionalEncoding(d_model= new_emb_size if big else emb_size)\n",
    "        self.block1 = Block(big=big)\n",
    "        self.block2 = Block(big=big)\n",
    "        self.block3 = Block(big=big)\n",
    "        self.block4 = Block(big=big)\n",
    "        self.block5 = Block(big=big)\n",
    "        self.block6 = Block(big=big)\n",
    "        self.block7 = Block(big=big)\n",
    "        self.block8 = Block(big=big)\n",
    "        self.f_lin = torch.nn.Linear(new_emb_size if big else emb_size, vocab_size)\n",
    "        self.drop = torch.nn.Dropout(0.1)\n",
    "    def forward(self, inp):\n",
    "        e = self.embedding(inp)\n",
    "        e = self.pe(e)\n",
    "        m = self.block1(e)\n",
    "        m = self.block2(m)\n",
    "        m = self.block3(m)\n",
    "        m = self.block4(m)\n",
    "        m = self.block5(m)\n",
    "        m = self.block6(m)\n",
    "        m = self.block7(m)\n",
    "        m = self.block8(m)\n",
    "        r = self.f_lin(self.drop(m))\n",
    "        return r"
   ]
  },
  {
   "cell_type": "code",
   "execution_count": 28,
   "metadata": {},
   "outputs": [],
   "source": [
    "@torch.no_grad()\n",
    "def initLiGO(stackLiGO, bigModel):\n",
    "    # Embedding layer\n",
    "    emb = stackLiGO.emb.emb_params\n",
    "    if stackLiGO.emb.width and not stackLiGO.emb.width_static:\n",
    "        emb = stackLiGO.emb.width_w(emb)\n",
    "    setattr(bigModel.embedding, 'weight', torch.nn.Parameter(emb, requires_grad=True).to(device))\n",
    "    # Final Linear layer\n",
    "    f_lin_w = stackLiGO.f_lin.small_params_w.view(vocab_size, -1)\n",
    "    f_lin_b = stackLiGO.f_lin.small_params_b\n",
    "    if stackLiGO.f_lin.width:\n",
    "        f_lin_w = (stackLiGO.f_lin.width_wb(f_lin_w))\n",
    "        # f_lin_w = (stackLiGO.f_lin.width_wa(f_lin_w.T)).T     Issues with big vocab size\n",
    "        # f_lin_b = stackLiGO.f_lin.width_b.weight@f_lin_b\n",
    "    setattr(bigModel.f_lin, 'weight', torch.nn.Parameter(f_lin_w.view(vocab_size, -1), requires_grad=True).to(device))\n",
    "    setattr(bigModel.f_lin, 'bias', torch.nn.Parameter(f_lin_b, requires_grad=True).to(device))\n",
    "    num_layers = num_large_layers if type(stackLiGO) is not LiGO_W else num_small_layers\n",
    "    for i in range(1, num_layers+1):\n",
    "        fused_block = getattr(stackLiGO, f'block{i}')\n",
    "        big_block = getattr(bigModel, f'block{i}')\n",
    "        # Setting FFN Weights\n",
    "        if fused_block.ffn.static:\n",
    "            if fused_block.ffn.width:\n",
    "                if fused_block.ffn.width_static:\n",
    "                    fb_w = fused_block.ffn.small_params_w.view(new_emb_size, new_emb_size)\n",
    "                    fb_b = fused_block.ffn.small_params_b\n",
    "                else:\n",
    "                    fb_w = fused_block.ffn.small_params_w.view(emb_size, emb_size)\n",
    "                    fb_b = fused_block.ffn.small_params_b\n",
    "                    fb_w = fused_block.ffn.width_wb(fb_w)\n",
    "                    fb_w = fused_block.ffn.width_wa(fb_w.T).T\n",
    "                    fb_b = fused_block.ffn.width_b.weight@fb_b\n",
    "            else:\n",
    "                fb_w = fused_block.ffn.small_params_w.view(emb_size, emb_size)\n",
    "                fb_b = fused_block.ffn.small_params_b\n",
    "        else:\n",
    "            fb_w = (ffn_w_params.T@fused_block.ffn.lin_w).view(emb_size, emb_size)\n",
    "            fb_b = (ffn_b_params.T@fused_block.ffn.lin_b)\n",
    "            if fused_block.ffn.width:\n",
    "                fb_w = fused_block.ffn.width_wb(fb_w)\n",
    "                fb_w = fused_block.ffn.width_wa(fb_w.T).T\n",
    "                fb_b = fused_block.ffn.width_b.weight@fb_b\n",
    "        setattr(big_block.ffn, 'weight', torch.nn.Parameter(fb_w, requires_grad=True).to(device))\n",
    "        setattr(big_block.ffn, 'bias', torch.nn.Parameter(fb_b, requires_grad=True).to(device))\n",
    "        # Setting Norm Layers\n",
    "        if fused_block.static:\n",
    "            n_w_1 = fused_block.norm_1.small_params_w\n",
    "            n_b_1 = fused_block.norm_1.small_params_b\n",
    "            n_w_2 = fused_block.norm_2.small_params_w\n",
    "            n_b_2 = fused_block.norm_2.small_params_b\n",
    "            if not fused_block.width_static:\n",
    "                n_w_1 = fused_block.norm_1.width_w.weight@n_w_1\n",
    "                n_b_1 = fused_block.norm_1.width_b.weight@n_b_1\n",
    "                n_w_2 = fused_block.norm_2.width_w.weight@n_w_2\n",
    "                n_b_2 = fused_block.norm_2.width_b.weight@n_b_2  \n",
    "        else:\n",
    "            n_w_1 = (l_norm_w_params.T@fused_block.norm_1.lin_w)\n",
    "            n_b_1 = (l_norm_b_params.T@fused_block.norm_1.lin_b)\n",
    "            n_w_2 = (l_norm_w_params.T@fused_block.norm_2.lin_w)\n",
    "            n_b_2 = (l_norm_b_params.T@fused_block.norm_2.lin_b)\n",
    "            if fused_block.norm_1.width:\n",
    "                n_w_1 = fused_block.norm_1.width_w.weight@n_w_1\n",
    "                n_b_1 = fused_block.norm_1.width_b.weight@n_b_1\n",
    "                n_w_2 = fused_block.norm_2.width_w.weight@n_w_2\n",
    "                n_b_2 = fused_block.norm_2.width_b.weight@n_b_2\n",
    "        setattr(big_block.l_norm_1, 'weight', torch.nn.Parameter(n_w_1, requires_grad=True).to(device))\n",
    "        setattr(big_block.l_norm_1, 'bias', torch.nn.Parameter(n_b_1, requires_grad=True).to(device))\n",
    "        setattr(big_block.l_norm_2, 'weight', torch.nn.Parameter(n_w_2, requires_grad=True).to(device))\n",
    "        setattr(big_block.l_norm_2, 'bias', torch.nn.Parameter(n_b_2, requires_grad=True).to(device))\n",
    "        # Setting Multi-Head Attention\n",
    "        if fused_block.static:\n",
    "            mh = fused_block.multiHead.mh_lin.small_params_w\n",
    "            if not fused_block.width_static:\n",
    "                mh = fused_block.multiHead.mh_lin.width_wb(mh.view(emb_size, multi_heads*emb_size))\n",
    "                mh = fused_block.multiHead.mh_lin.width_wa(mh.T).T\n",
    "        else:\n",
    "            mh = (lin_params.T@fused_block.multiHead.mh_lin.lin_w).view(emb_size, emb_size*multi_heads)\n",
    "            if fused_block.multiHead.mh_lin.width:\n",
    "                mh = fused_block.multiHead.mh_lin.width_wb(mh)\n",
    "                mh = fused_block.multiHead.mh_lin.width_wa(mh.T).T\n",
    "        setattr(big_block.multihead.mh_lin, 'weight', torch.nn.Parameter(mh, requires_grad=True))\n",
    "        for h in range(1, multi_heads+1):\n",
    "            head = getattr(big_block.multihead, f'head{h}')\n",
    "            fused_head = getattr(fused_block.multiHead, f'head{h}')\n",
    "            if fused_head.static:\n",
    "                k = fused_head.k.small_params_w\n",
    "                q = fused_head.q.small_params_w\n",
    "                v = fused_head.v.small_params_w\n",
    "                if not fused_block.width_static:\n",
    "                    k = fused_head.k.width_wb(k.view(emb_size, emb_size))\n",
    "                    k = fused_head.k.width_wa(k.T).T\n",
    "                    q = fused_head.q.width_wb(q.view(emb_size, emb_size))\n",
    "                    q = fused_head.q.width_wa(q.T).T\n",
    "                    v = fused_head.v.width_wb(v.view(emb_size, emb_size))\n",
    "                    v = fused_head.v.width_wa(v.T).T\n",
    "            else:\n",
    "                k = (k_params.T@fused_head.k.lin_w).view(emb_size, emb_size)\n",
    "                q = (q_params.T@fused_head.q.lin_w).view(emb_size, emb_size)\n",
    "                v = (v_params.T@fused_head.v.lin_w).view(emb_size, emb_size)\n",
    "                if fused_head.k.width:\n",
    "                    k = fused_head.k.width_wb(k)\n",
    "                    k = fused_head.k.width_wa(k.T).T\n",
    "                    q = fused_head.q.width_wb(q)\n",
    "                    q = fused_head.q.width_wa(q.T).T\n",
    "                    v = fused_head.v.width_wb(v)\n",
    "                    v = fused_head.v.width_wa(v.T).T\n",
    "            setattr(head.k, 'weight', torch.nn.Parameter(k, requires_grad=True).to(device))\n",
    "            setattr(head.q, 'weight', torch.nn.Parameter(q, requires_grad=True).to(device))\n",
    "            setattr(head.v, 'weight', torch.nn.Parameter(v, requires_grad=True).to(device))"
   ]
  },
  {
   "cell_type": "markdown",
   "metadata": {},
   "source": [
    "CrossLiGO depth+width"
   ]
  },
  {
   "cell_type": "code",
   "execution_count": 29,
   "metadata": {},
   "outputs": [],
   "source": [
    "cl_dw = CrossLiGO(width=True).to(device)\n",
    "optim_ldw = torch.optim.Adam(cl_dw.parameters(), lr=1e-3)"
   ]
  },
  {
   "cell_type": "code",
   "execution_count": 30,
   "metadata": {},
   "outputs": [
    {
     "name": "stdout",
     "output_type": "stream",
     "text": [
      "Epoch 1, Train Loss: 8.1850, Val Loss: 6.8372\n",
      "Epoch 2, Train Loss: 6.3931, Val Loss: 5.2509\n",
      "Epoch 3, Train Loss: 5.1054, Val Loss: 4.1294\n",
      "Epoch 4, Train Loss: 4.0487, Val Loss: 3.0282\n",
      "Epoch 5, Train Loss: 3.1853, Val Loss: 2.3658\n"
     ]
    }
   ],
   "source": [
    "_=train(cl_dw, optim_ldw, 5)"
   ]
  },
  {
   "cell_type": "code",
   "execution_count": 31,
   "metadata": {},
   "outputs": [
    {
     "name": "stdout",
     "output_type": "stream",
     "text": [
      "Epoch 1, Train Loss: 2.6213, Val Loss: 1.6890\n",
      "Epoch 2, Train Loss: 1.8361, Val Loss: 1.2842\n",
      "Epoch 3, Train Loss: 1.3857, Val Loss: 1.0356\n",
      "Epoch 4, Train Loss: 1.0800, Val Loss: 0.8006\n",
      "Epoch 5, Train Loss: 0.8557, Val Loss: 0.5834\n",
      "Epoch 6, Train Loss: 0.7037, Val Loss: 0.4820\n",
      "Epoch 7, Train Loss: 0.5778, Val Loss: 0.4035\n",
      "Epoch 8, Train Loss: 0.4973, Val Loss: 0.2814\n",
      "Epoch 9, Train Loss: 0.4119, Val Loss: 0.3433\n",
      "Epoch 10, Train Loss: 0.3546, Val Loss: 0.2395\n",
      "Epoch 11, Train Loss: 0.3117, Val Loss: 0.2398\n",
      "Epoch 12, Train Loss: 0.2796, Val Loss: 0.1245\n",
      "Epoch 13, Train Loss: 0.2429, Val Loss: 0.1307\n",
      "Epoch 14, Train Loss: 0.2115, Val Loss: 0.1002\n",
      "Epoch 15, Train Loss: 0.1949, Val Loss: 0.1534\n",
      "Epoch 16, Train Loss: 0.1725, Val Loss: 0.1311\n",
      "Epoch 17, Train Loss: 0.1612, Val Loss: 0.0777\n",
      "Epoch 18, Train Loss: 0.1359, Val Loss: 0.0713\n",
      "Epoch 19, Train Loss: 0.1226, Val Loss: 0.0662\n",
      "Epoch 20, Train Loss: 0.1132, Val Loss: 0.0796\n"
     ]
    }
   ],
   "source": [
    "bigModel = BigModel(big=True).to(device)\n",
    "initLiGO(cl_dw, bigModel)\n",
    "optim_b = torch.optim.Adam(params=bigModel.parameters(), lr=1e-3)\n",
    "cl_depth_width_curve = train(bigModel, optim_b, 20)"
   ]
  },
  {
   "cell_type": "markdown",
   "metadata": {},
   "source": [
    "CrossLiGO depth only"
   ]
  },
  {
   "cell_type": "code",
   "execution_count": 32,
   "metadata": {},
   "outputs": [],
   "source": [
    "cl_d = CrossLiGO(width=False).to(device)\n",
    "optim_ldw = torch.optim.Adam(cl_d.parameters(), lr=1e-2)"
   ]
  },
  {
   "cell_type": "code",
   "execution_count": 33,
   "metadata": {},
   "outputs": [
    {
     "name": "stdout",
     "output_type": "stream",
     "text": [
      "Epoch 1, Train Loss: 7.5002, Val Loss: 4.1216\n",
      "Epoch 2, Train Loss: 3.9728, Val Loss: 2.6808\n",
      "Epoch 3, Train Loss: 2.8685, Val Loss: 2.0459\n",
      "Epoch 4, Train Loss: 2.4661, Val Loss: 1.9038\n",
      "Epoch 5, Train Loss: 2.2036, Val Loss: 1.7409\n"
     ]
    }
   ],
   "source": [
    "_=train(cl_d, optim_ldw, 5)"
   ]
  },
  {
   "cell_type": "code",
   "execution_count": 34,
   "metadata": {},
   "outputs": [
    {
     "name": "stdout",
     "output_type": "stream",
     "text": [
      "Epoch 1, Train Loss: 1.7627, Val Loss: 1.2616\n",
      "Epoch 2, Train Loss: 1.4077, Val Loss: 0.9092\n",
      "Epoch 3, Train Loss: 1.2115, Val Loss: 0.7793\n",
      "Epoch 4, Train Loss: 1.0802, Val Loss: 0.6809\n",
      "Epoch 5, Train Loss: 0.9575, Val Loss: 0.6753\n",
      "Epoch 6, Train Loss: 0.8497, Val Loss: 0.5211\n",
      "Epoch 7, Train Loss: 0.7835, Val Loss: 0.5758\n",
      "Epoch 8, Train Loss: 0.7099, Val Loss: 0.4349\n",
      "Epoch 9, Train Loss: 0.6338, Val Loss: 0.4225\n",
      "Epoch 10, Train Loss: 0.5858, Val Loss: 0.5008\n",
      "Epoch 11, Train Loss: 0.5351, Val Loss: 0.4590\n",
      "Epoch 12, Train Loss: 0.5025, Val Loss: 0.2860\n",
      "Epoch 13, Train Loss: 0.4466, Val Loss: 0.3091\n",
      "Epoch 14, Train Loss: 0.4043, Val Loss: 0.2818\n",
      "Epoch 15, Train Loss: 0.3880, Val Loss: 0.2221\n",
      "Epoch 16, Train Loss: 0.3500, Val Loss: 0.1836\n",
      "Epoch 17, Train Loss: 0.3225, Val Loss: 0.1841\n",
      "Epoch 18, Train Loss: 0.3116, Val Loss: 0.2178\n",
      "Epoch 19, Train Loss: 0.2769, Val Loss: 0.1758\n",
      "Epoch 20, Train Loss: 0.2648, Val Loss: 0.2244\n"
     ]
    }
   ],
   "source": [
    "bigModel = BigModel(big=False).to(device)\n",
    "initLiGO(cl_d, bigModel)\n",
    "optim_b = torch.optim.Adam(params=bigModel.parameters(), lr=1e-3)\n",
    "cl_depth_curve = train(bigModel, optim_b, 20, device=device)"
   ]
  },
  {
   "cell_type": "markdown",
   "metadata": {},
   "source": [
    "LiGO depth+width"
   ]
  },
  {
   "cell_type": "code",
   "execution_count": 35,
   "metadata": {},
   "outputs": [
    {
     "name": "stdout",
     "output_type": "stream",
     "text": [
      "Epoch 1, Train Loss: 8.8228, Val Loss: 7.1335\n",
      "Epoch 2, Train Loss: 6.6995, Val Loss: 5.6549\n",
      "Epoch 3, Train Loss: 5.2266, Val Loss: 3.9411\n",
      "Epoch 4, Train Loss: 3.8260, Val Loss: 2.4716\n",
      "Epoch 5, Train Loss: 2.5213, Val Loss: 1.4229\n"
     ]
    }
   ],
   "source": [
    "LiGO_dw = LiGO(width=True).to(device)\n",
    "optim_ldw = torch.optim.Adam(LiGO_dw.parameters(), lr=1e-3)\n",
    "_=train(LiGO_dw, optim_ldw, 5)"
   ]
  },
  {
   "cell_type": "code",
   "execution_count": 36,
   "metadata": {},
   "outputs": [
    {
     "name": "stdout",
     "output_type": "stream",
     "text": [
      "Epoch 1, Train Loss: 1.8764, Val Loss: 0.9268\n",
      "Epoch 2, Train Loss: 1.1824, Val Loss: 0.7422\n",
      "Epoch 3, Train Loss: 0.8469, Val Loss: 0.4727\n",
      "Epoch 4, Train Loss: 0.6651, Val Loss: 0.5151\n",
      "Epoch 5, Train Loss: 0.5529, Val Loss: 0.3158\n",
      "Epoch 6, Train Loss: 0.4575, Val Loss: 0.3198\n",
      "Epoch 7, Train Loss: 0.3934, Val Loss: 0.3306\n",
      "Epoch 8, Train Loss: 0.3593, Val Loss: 0.2468\n",
      "Epoch 9, Train Loss: 0.2967, Val Loss: 0.1794\n",
      "Epoch 10, Train Loss: 0.2757, Val Loss: 0.1247\n",
      "Epoch 11, Train Loss: 0.2369, Val Loss: 0.1093\n",
      "Epoch 12, Train Loss: 0.2103, Val Loss: 0.1216\n",
      "Epoch 13, Train Loss: 0.1874, Val Loss: 0.1582\n",
      "Epoch 14, Train Loss: 0.1692, Val Loss: 0.1427\n",
      "Epoch 15, Train Loss: 0.1559, Val Loss: 0.0923\n",
      "Epoch 16, Train Loss: 0.1409, Val Loss: 0.1145\n",
      "Epoch 17, Train Loss: 0.1279, Val Loss: 0.0514\n",
      "Epoch 18, Train Loss: 0.1172, Val Loss: 0.0723\n",
      "Epoch 19, Train Loss: 0.1084, Val Loss: 0.0955\n",
      "Epoch 20, Train Loss: 0.0977, Val Loss: 0.0546\n"
     ]
    }
   ],
   "source": [
    "bigModel = BigModel(big=True).to(device)\n",
    "initLiGO(LiGO_dw, bigModel)\n",
    "optim_b = torch.optim.Adam(params=bigModel.parameters(), lr=1e-3)\n",
    "ligo_depth_width_curve = train(bigModel, optim_b, 20)"
   ]
  },
  {
   "cell_type": "markdown",
   "metadata": {},
   "source": [
    "LiGO depth"
   ]
  },
  {
   "cell_type": "code",
   "execution_count": 37,
   "metadata": {},
   "outputs": [
    {
     "name": "stdout",
     "output_type": "stream",
     "text": [
      "Epoch 1, Train Loss: 8.3157, Val Loss: 4.3917\n",
      "Epoch 2, Train Loss: 3.5778, Val Loss: 1.7292\n",
      "Epoch 3, Train Loss: 1.6463, Val Loss: 0.8080\n",
      "Epoch 4, Train Loss: 0.9426, Val Loss: 0.5096\n",
      "Epoch 5, Train Loss: 0.6257, Val Loss: 0.2937\n"
     ]
    }
   ],
   "source": [
    "LiGO_d = LiGO(width=False).to(device)\n",
    "optim_ld = torch.optim.Adam(params=LiGO_d.parameters(), lr=1e-2)\n",
    "_=train(LiGO_d, optim_ld, 5)"
   ]
  },
  {
   "cell_type": "code",
   "execution_count": 38,
   "metadata": {},
   "outputs": [
    {
     "name": "stdout",
     "output_type": "stream",
     "text": [
      "Epoch 1, Train Loss: 0.3570, Val Loss: 0.2259\n",
      "Epoch 2, Train Loss: 0.2932, Val Loss: 0.2306\n",
      "Epoch 3, Train Loss: 0.2837, Val Loss: 0.1570\n",
      "Epoch 4, Train Loss: 0.2614, Val Loss: 0.1544\n",
      "Epoch 5, Train Loss: 0.2566, Val Loss: 0.1630\n",
      "Epoch 6, Train Loss: 0.2217, Val Loss: 0.1871\n",
      "Epoch 7, Train Loss: 0.2177, Val Loss: 0.1377\n",
      "Epoch 8, Train Loss: 0.2051, Val Loss: 0.1082\n",
      "Epoch 9, Train Loss: 0.1966, Val Loss: 0.1986\n",
      "Epoch 10, Train Loss: 0.1860, Val Loss: 0.1875\n",
      "Epoch 11, Train Loss: 0.1562, Val Loss: 0.1342\n",
      "Epoch 12, Train Loss: 0.1540, Val Loss: 0.0871\n",
      "Epoch 13, Train Loss: 0.1440, Val Loss: 0.1171\n",
      "Epoch 14, Train Loss: 0.1356, Val Loss: 0.1092\n",
      "Epoch 15, Train Loss: 0.1278, Val Loss: 0.0590\n",
      "Epoch 16, Train Loss: 0.1215, Val Loss: 0.0706\n",
      "Epoch 17, Train Loss: 0.1073, Val Loss: 0.0887\n",
      "Epoch 18, Train Loss: 0.1049, Val Loss: 0.0578\n",
      "Epoch 19, Train Loss: 0.0950, Val Loss: 0.1074\n",
      "Epoch 20, Train Loss: 0.0902, Val Loss: 0.0415\n"
     ]
    }
   ],
   "source": [
    "bigModel = BigModel(big=False).to(device)\n",
    "initLiGO(LiGO_d, bigModel)\n",
    "optim_b = torch.optim.Adam(params=bigModel.parameters(), lr=1e-3)\n",
    "ligo_depth_curve = train(bigModel, optim_b, 20)"
   ]
  },
  {
   "cell_type": "markdown",
   "metadata": {},
   "source": [
    "LiGO width"
   ]
  },
  {
   "cell_type": "code",
   "execution_count": 39,
   "metadata": {},
   "outputs": [
    {
     "name": "stdout",
     "output_type": "stream",
     "text": [
      "Epoch 1, Train Loss: 10.7683, Val Loss: 10.7542\n",
      "Epoch 2, Train Loss: 10.7687, Val Loss: 10.7756\n",
      "Epoch 3, Train Loss: 10.7676, Val Loss: 10.7578\n",
      "Epoch 4, Train Loss: 10.7687, Val Loss: 10.7599\n",
      "Epoch 5, Train Loss: 10.7684, Val Loss: 10.7756\n"
     ]
    }
   ],
   "source": [
    "LiGO_w = LiGO_W(width=True).to(device)\n",
    "optim_lw = torch.optim.Adam(params=LiGO_w.parameters(), lr=1e-3)\n",
    "_=train(LiGO_w, optim_ld, 5)"
   ]
  },
  {
   "cell_type": "code",
   "execution_count": 40,
   "metadata": {},
   "outputs": [
    {
     "name": "stdout",
     "output_type": "stream",
     "text": [
      "Epoch 1, Train Loss: 8.4330, Val Loss: 6.9386\n",
      "Epoch 2, Train Loss: 6.4427, Val Loss: 5.5008\n",
      "Epoch 3, Train Loss: 5.0627, Val Loss: 4.1411\n",
      "Epoch 4, Train Loss: 3.9949, Val Loss: 3.1106\n",
      "Epoch 5, Train Loss: 3.2054, Val Loss: 2.6350\n",
      "Epoch 6, Train Loss: 2.5605, Val Loss: 1.8627\n",
      "Epoch 7, Train Loss: 2.0808, Val Loss: 1.3525\n",
      "Epoch 8, Train Loss: 1.6827, Val Loss: 1.1763\n",
      "Epoch 9, Train Loss: 1.3821, Val Loss: 0.8726\n",
      "Epoch 10, Train Loss: 1.1659, Val Loss: 0.8566\n",
      "Epoch 11, Train Loss: 0.9782, Val Loss: 0.6702\n",
      "Epoch 12, Train Loss: 0.8506, Val Loss: 0.5670\n",
      "Epoch 13, Train Loss: 0.7088, Val Loss: 0.4437\n",
      "Epoch 14, Train Loss: 0.6259, Val Loss: 0.4093\n",
      "Epoch 15, Train Loss: 0.5500, Val Loss: 0.3613\n",
      "Epoch 16, Train Loss: 0.4996, Val Loss: 0.2869\n",
      "Epoch 17, Train Loss: 0.4474, Val Loss: 0.2852\n",
      "Epoch 18, Train Loss: 0.3886, Val Loss: 0.2245\n",
      "Epoch 19, Train Loss: 0.3604, Val Loss: 0.2214\n",
      "Epoch 20, Train Loss: 0.3302, Val Loss: 0.2168\n"
     ]
    }
   ],
   "source": [
    "bigModel = BigModel(big=True).to(device)\n",
    "initLiGO(LiGO_w, bigModel)\n",
    "optim_b = torch.optim.Adam(params=bigModel.parameters(), lr=1e-3)\n",
    "ligo_width_curve = train(bigModel, optim_b, 20)"
   ]
  },
  {
   "cell_type": "markdown",
   "metadata": {},
   "source": [
    "StackLiGO depth+width"
   ]
  },
  {
   "cell_type": "code",
   "execution_count": 41,
   "metadata": {},
   "outputs": [
    {
     "name": "stdout",
     "output_type": "stream",
     "text": [
      "Epoch 1, Train Loss: 9.0138, Val Loss: 8.0079\n",
      "Epoch 2, Train Loss: 7.7632, Val Loss: 7.0231\n",
      "Epoch 3, Train Loss: 6.8862, Val Loss: 6.3999\n",
      "Epoch 4, Train Loss: 6.3104, Val Loss: 5.9592\n",
      "Epoch 5, Train Loss: 5.9764, Val Loss: 5.7224\n",
      "Epoch 1, Train Loss: 5.5907, Val Loss: 4.8587\n",
      "Epoch 2, Train Loss: 4.6243, Val Loss: 3.7295\n",
      "Epoch 3, Train Loss: 3.7303, Val Loss: 2.7260\n",
      "Epoch 4, Train Loss: 2.8918, Val Loss: 2.0219\n",
      "Epoch 5, Train Loss: 2.1869, Val Loss: 1.6208\n",
      "Epoch 6, Train Loss: 1.6476, Val Loss: 1.2136\n",
      "Epoch 7, Train Loss: 1.2544, Val Loss: 0.9458\n",
      "Epoch 8, Train Loss: 1.0293, Val Loss: 0.7202\n",
      "Epoch 9, Train Loss: 0.8675, Val Loss: 0.5858\n",
      "Epoch 10, Train Loss: 0.7215, Val Loss: 0.4676\n",
      "Epoch 11, Train Loss: 0.6443, Val Loss: 0.4120\n",
      "Epoch 12, Train Loss: 0.5697, Val Loss: 0.3437\n",
      "Epoch 13, Train Loss: 0.4750, Val Loss: 0.3498\n",
      "Epoch 14, Train Loss: 0.4405, Val Loss: 0.3174\n",
      "Epoch 15, Train Loss: 0.4037, Val Loss: 0.3154\n",
      "Epoch 16, Train Loss: 0.3738, Val Loss: 0.2827\n",
      "Epoch 17, Train Loss: 0.3548, Val Loss: 0.2422\n",
      "Epoch 18, Train Loss: 0.3218, Val Loss: 0.3323\n",
      "Epoch 19, Train Loss: 0.3005, Val Loss: 0.1985\n",
      "Epoch 20, Train Loss: 0.2859, Val Loss: 0.2014\n"
     ]
    }
   ],
   "source": [
    "stackLiGOdw = StackLiGO(width=True).to(device)\n",
    "optim_sldw = torch.optim.Adam(params=stackLiGOdw.parameters(), lr=1e-3)\n",
    "_=train(stackLiGOdw, optim_sldw, 5)\n",
    "\n",
    "bigModel = BigModel(big=True).to(device)\n",
    "initLiGO(stackLiGOdw, bigModel)\n",
    "optim_b = torch.optim.Adam(params=bigModel.parameters(), lr=1e-3)\n",
    "sl_depth_width_curve = train(bigModel, optim_b, 20)"
   ]
  },
  {
   "cell_type": "markdown",
   "metadata": {},
   "source": [
    "StackLiGO depth"
   ]
  },
  {
   "cell_type": "code",
   "execution_count": 42,
   "metadata": {},
   "outputs": [
    {
     "name": "stdout",
     "output_type": "stream",
     "text": [
      "Epoch 1, Train Loss: 20.1039, Val Loss: 6.2483\n",
      "Epoch 2, Train Loss: 4.0285, Val Loss: 1.9620\n",
      "Epoch 3, Train Loss: 2.1882, Val Loss: 0.9466\n",
      "Epoch 4, Train Loss: 1.1700, Val Loss: 0.4120\n",
      "Epoch 5, Train Loss: 0.6659, Val Loss: 0.2403\n",
      "Epoch 1, Train Loss: 0.3048, Val Loss: 0.1259\n",
      "Epoch 2, Train Loss: 0.2266, Val Loss: 0.1634\n",
      "Epoch 3, Train Loss: 0.2170, Val Loss: 0.2051\n",
      "Epoch 4, Train Loss: 0.1985, Val Loss: 0.1763\n",
      "Epoch 5, Train Loss: 0.1958, Val Loss: 0.1097\n",
      "Epoch 6, Train Loss: 0.1828, Val Loss: 0.1553\n",
      "Epoch 7, Train Loss: 0.1778, Val Loss: 0.0968\n",
      "Epoch 8, Train Loss: 0.1691, Val Loss: 0.0923\n",
      "Epoch 9, Train Loss: 0.1567, Val Loss: 0.0818\n",
      "Epoch 10, Train Loss: 0.1513, Val Loss: 0.0745\n",
      "Epoch 11, Train Loss: 0.1453, Val Loss: 0.0887\n",
      "Epoch 12, Train Loss: 0.1270, Val Loss: 0.0683\n",
      "Epoch 13, Train Loss: 0.1285, Val Loss: 0.0562\n",
      "Epoch 14, Train Loss: 0.1210, Val Loss: 0.1266\n",
      "Epoch 15, Train Loss: 0.1133, Val Loss: 0.0957\n",
      "Epoch 16, Train Loss: 0.1080, Val Loss: 0.0598\n",
      "Epoch 17, Train Loss: 0.1014, Val Loss: 0.1097\n",
      "Epoch 18, Train Loss: 0.0925, Val Loss: 0.0557\n",
      "Epoch 19, Train Loss: 0.0875, Val Loss: 0.0413\n",
      "Epoch 20, Train Loss: 0.0873, Val Loss: 0.0739\n"
     ]
    }
   ],
   "source": [
    "stackLiGOd = StackLiGO(width=False).to(device)\n",
    "optim_sld = torch.optim.Adam(params=stackLiGOd.parameters(), lr=1e-2)\n",
    "_=train(stackLiGOd, optim_sld, 5)\n",
    "\n",
    "bigModel = BigModel(big=False).to(device)\n",
    "initLiGO(stackLiGOd, bigModel)\n",
    "optim_b = torch.optim.Adam(params=bigModel.parameters(), lr=1e-3)\n",
    "sl_depth_curve = train(bigModel, optim_b, 20)"
   ]
  },
  {
   "cell_type": "markdown",
   "metadata": {},
   "source": [
    "StackLiGOv2 depth+width"
   ]
  },
  {
   "cell_type": "code",
   "execution_count": 43,
   "metadata": {},
   "outputs": [
    {
     "name": "stdout",
     "output_type": "stream",
     "text": [
      "Epoch 1, Train Loss: 9.0201, Val Loss: 7.5145\n",
      "Epoch 2, Train Loss: 6.7563, Val Loss: 5.2546\n",
      "Epoch 3, Train Loss: 4.3092, Val Loss: 2.4264\n",
      "Epoch 4, Train Loss: 2.0438, Val Loss: 0.6423\n",
      "Epoch 5, Train Loss: 0.7360, Val Loss: 0.1729\n",
      "Epoch 1, Train Loss: 0.4643, Val Loss: 0.2047\n",
      "Epoch 2, Train Loss: 0.3157, Val Loss: 0.1946\n",
      "Epoch 3, Train Loss: 0.2850, Val Loss: 0.2147\n",
      "Epoch 4, Train Loss: 0.2308, Val Loss: 0.1862\n",
      "Epoch 5, Train Loss: 0.1999, Val Loss: 0.1828\n",
      "Epoch 6, Train Loss: 0.1956, Val Loss: 0.1216\n",
      "Epoch 7, Train Loss: 0.1770, Val Loss: 0.1165\n",
      "Epoch 8, Train Loss: 0.1533, Val Loss: 0.1318\n",
      "Epoch 9, Train Loss: 0.1326, Val Loss: 0.1255\n",
      "Epoch 10, Train Loss: 0.1360, Val Loss: 0.0768\n",
      "Epoch 11, Train Loss: 0.1097, Val Loss: 0.1290\n",
      "Epoch 12, Train Loss: 0.1081, Val Loss: 0.0885\n",
      "Epoch 13, Train Loss: 0.0904, Val Loss: 0.0833\n",
      "Epoch 14, Train Loss: 0.0905, Val Loss: 0.0766\n",
      "Epoch 15, Train Loss: 0.0825, Val Loss: 0.0483\n",
      "Epoch 16, Train Loss: 0.0743, Val Loss: 0.0444\n",
      "Epoch 17, Train Loss: 0.0703, Val Loss: 0.0357\n",
      "Epoch 18, Train Loss: 0.0649, Val Loss: 0.0713\n",
      "Epoch 19, Train Loss: 0.0569, Val Loss: 0.0671\n",
      "Epoch 20, Train Loss: 0.0552, Val Loss: 0.0360\n"
     ]
    }
   ],
   "source": [
    "stackLiGO2 = StackLiGOv2(width=True).to(device)\n",
    "optim_sld = torch.optim.Adam(params=stackLiGO2.parameters(), lr=1e-3)\n",
    "_=train(stackLiGO2, optim_sld, 5)\n",
    "\n",
    "bigModel = BigModel(big=True).to(device)\n",
    "initLiGO(stackLiGO2, bigModel)\n",
    "optim_b = torch.optim.Adam(params=bigModel.parameters(), lr=1e-3)\n",
    "slv2_depth_width_curve = train(bigModel, optim_b, 20)"
   ]
  },
  {
   "cell_type": "markdown",
   "metadata": {},
   "source": [
    "CrossLiGOv2 depth+width"
   ]
  },
  {
   "cell_type": "code",
   "execution_count": 44,
   "metadata": {},
   "outputs": [
    {
     "name": "stdout",
     "output_type": "stream",
     "text": [
      "Epoch 1, Train Loss: 8.6594, Val Loss: 7.4294\n",
      "Epoch 2, Train Loss: 6.6295, Val Loss: 4.9805\n",
      "Epoch 3, Train Loss: 4.4133, Val Loss: 2.7614\n",
      "Epoch 4, Train Loss: 2.3973, Val Loss: 0.8622\n",
      "Epoch 5, Train Loss: 0.9927, Val Loss: 0.2478\n"
     ]
    }
   ],
   "source": [
    "cl_dw = CrossLiGOv2(width=True).to(device)\n",
    "optim_ldw = torch.optim.Adam(cl_dw.parameters(), lr=1e-3)\n",
    "_=train(cl_dw, optim_ldw, 5)"
   ]
  },
  {
   "cell_type": "code",
   "execution_count": 45,
   "metadata": {},
   "outputs": [
    {
     "name": "stdout",
     "output_type": "stream",
     "text": [
      "Epoch 1, Train Loss: 0.5758, Val Loss: 0.2138\n",
      "Epoch 2, Train Loss: 0.3798, Val Loss: 0.2409\n",
      "Epoch 3, Train Loss: 0.3038, Val Loss: 0.2732\n",
      "Epoch 4, Train Loss: 0.2660, Val Loss: 0.1963\n",
      "Epoch 5, Train Loss: 0.2447, Val Loss: 0.1696\n",
      "Epoch 6, Train Loss: 0.2227, Val Loss: 0.1598\n",
      "Epoch 7, Train Loss: 0.1885, Val Loss: 0.0977\n",
      "Epoch 8, Train Loss: 0.1632, Val Loss: 0.1335\n",
      "Epoch 9, Train Loss: 0.1502, Val Loss: 0.1620\n",
      "Epoch 10, Train Loss: 0.1397, Val Loss: 0.1114\n",
      "Epoch 11, Train Loss: 0.1256, Val Loss: 0.0505\n",
      "Epoch 12, Train Loss: 0.1191, Val Loss: 0.0526\n",
      "Epoch 13, Train Loss: 0.1065, Val Loss: 0.0406\n",
      "Epoch 14, Train Loss: 0.0877, Val Loss: 0.0538\n",
      "Epoch 15, Train Loss: 0.0809, Val Loss: 0.1024\n",
      "Epoch 16, Train Loss: 0.0787, Val Loss: 0.0644\n",
      "Epoch 17, Train Loss: 0.0717, Val Loss: 0.0631\n",
      "Epoch 18, Train Loss: 0.0643, Val Loss: 0.0788\n",
      "Epoch 19, Train Loss: 0.0595, Val Loss: 0.0274\n",
      "Epoch 20, Train Loss: 0.0602, Val Loss: 0.0276\n"
     ]
    }
   ],
   "source": [
    "bigModel = BigModel(big=True).to(device)\n",
    "initLiGO(cl_dw, bigModel)\n",
    "optim_b = torch.optim.Adam(params=bigModel.parameters(), lr=1e-3)\n",
    "clv2_depth_width_curve = train(bigModel, optim_b, 20)"
   ]
  },
  {
   "cell_type": "markdown",
   "metadata": {},
   "source": [
    "Scratch Model depth + width"
   ]
  },
  {
   "cell_type": "code",
   "execution_count": 46,
   "metadata": {
    "collapsed": false
   },
   "outputs": [
    {
     "name": "stdout",
     "output_type": "stream",
     "text": [
      "Epoch 1, Train Loss: 8.6750, Val Loss: 6.5187\n",
      "Epoch 2, Train Loss: 5.9325, Val Loss: 4.8749\n",
      "Epoch 3, Train Loss: 4.7073, Val Loss: 3.9242\n",
      "Epoch 4, Train Loss: 3.9372, Val Loss: 3.1774\n",
      "Epoch 5, Train Loss: 3.3074, Val Loss: 2.7246\n",
      "Epoch 6, Train Loss: 2.7736, Val Loss: 2.1100\n",
      "Epoch 7, Train Loss: 2.3516, Val Loss: 1.8425\n",
      "Epoch 8, Train Loss: 2.0099, Val Loss: 1.4240\n",
      "Epoch 9, Train Loss: 1.7296, Val Loss: 1.2842\n",
      "Epoch 10, Train Loss: 1.4983, Val Loss: 1.2139\n",
      "Epoch 11, Train Loss: 1.3061, Val Loss: 0.9636\n",
      "Epoch 12, Train Loss: 1.1526, Val Loss: 0.8548\n",
      "Epoch 13, Train Loss: 1.0129, Val Loss: 0.6510\n",
      "Epoch 14, Train Loss: 0.8989, Val Loss: 0.5812\n",
      "Epoch 15, Train Loss: 0.8042, Val Loss: 0.6141\n",
      "Epoch 16, Train Loss: 0.7175, Val Loss: 0.5262\n",
      "Epoch 17, Train Loss: 0.6498, Val Loss: 0.5088\n",
      "Epoch 18, Train Loss: 0.5908, Val Loss: 0.4035\n",
      "Epoch 19, Train Loss: 0.5396, Val Loss: 0.3143\n",
      "Epoch 20, Train Loss: 0.4748, Val Loss: 0.3706\n"
     ]
    }
   ],
   "source": [
    "bigModel_scratch = BigModel(big=True).to(device)\n",
    "optim_sb = torch.optim.Adam(params=bigModel_scratch.parameters(), lr=1e-3)\n",
    "scratch_depth_width = train(bigModel_scratch, optim_sb, 20)"
   ]
  },
  {
   "cell_type": "markdown",
   "metadata": {},
   "source": [
    "Big Model Depth"
   ]
  },
  {
   "cell_type": "code",
   "execution_count": 50,
   "metadata": {},
   "outputs": [
    {
     "name": "stdout",
     "output_type": "stream",
     "text": [
      "Epoch 1, Train Loss: 9.8759, Val Loss: 8.6301\n",
      "Epoch 2, Train Loss: 8.1194, Val Loss: 7.1554\n",
      "Epoch 3, Train Loss: 6.8428, Val Loss: 5.9871\n",
      "Epoch 4, Train Loss: 5.8632, Val Loss: 5.1390\n",
      "Epoch 5, Train Loss: 5.1288, Val Loss: 4.4829\n",
      "Epoch 6, Train Loss: 4.5616, Val Loss: 4.0781\n",
      "Epoch 7, Train Loss: 4.1317, Val Loss: 3.8021\n",
      "Epoch 8, Train Loss: 3.7422, Val Loss: 3.1730\n",
      "Epoch 9, Train Loss: 3.3931, Val Loss: 2.7800\n",
      "Epoch 10, Train Loss: 3.0701, Val Loss: 2.6129\n",
      "Epoch 11, Train Loss: 2.7886, Val Loss: 2.5470\n",
      "Epoch 12, Train Loss: 2.5559, Val Loss: 2.0401\n",
      "Epoch 13, Train Loss: 2.3510, Val Loss: 1.8839\n",
      "Epoch 14, Train Loss: 2.1509, Val Loss: 1.5600\n",
      "Epoch 15, Train Loss: 1.9669, Val Loss: 1.5382\n",
      "Epoch 16, Train Loss: 1.8062, Val Loss: 1.5677\n",
      "Epoch 17, Train Loss: 1.6740, Val Loss: 1.4260\n",
      "Epoch 18, Train Loss: 1.5539, Val Loss: 1.1684\n",
      "Epoch 19, Train Loss: 1.4199, Val Loss: 0.9579\n",
      "Epoch 20, Train Loss: 1.3437, Val Loss: 0.9938\n"
     ]
    }
   ],
   "source": [
    "bigModel_scratch = BigModel(big=False).to(device)\n",
    "optim_sb = torch.optim.Adam(params=bigModel_scratch.parameters(), lr=1e-3)\n",
    "scratch_depth = train(bigModel_scratch, optim_sb, 20)"
   ]
  },
  {
   "cell_type": "code",
   "execution_count": 48,
   "metadata": {},
   "outputs": [],
   "source": [
    "import pandas as pd, matplotlib as plt"
   ]
  },
  {
   "cell_type": "code",
   "execution_count": 51,
   "metadata": {},
   "outputs": [],
   "source": [
    "curve_dict = {'CrossLiGOv2 depth+width':clv2_depth_width_curve,'StackLiGOv2 depth+width':slv2_depth_width_curve,'CrossLiGO Depth+Width':cl_depth_width_curve, 'CrossLiGO depth':cl_depth_curve,'Big Model Depth+Width': scratch_depth_width, 'Big Model Depth': scratch_depth,'StackLiGO depth+width': sl_depth_width_curve, 'StackLiGO depth only': sl_depth_curve,'LiGO width only': ligo_width_curve, 'LiGO depth only': ligo_depth_curve, 'LiGO depth + width': ligo_depth_width_curve}"
   ]
  },
  {
   "cell_type": "code",
   "execution_count": 52,
   "metadata": {},
   "outputs": [
    {
     "name": "stdout",
     "output_type": "stream",
     "text": [
      "CrossLiGOv2 depth+width 20\n",
      "StackLiGOv2 depth+width 20\n",
      "CrossLiGO Depth+Width 20\n",
      "CrossLiGO depth 20\n",
      "Big Model Depth+Width 20\n",
      "Big Model Depth 20\n",
      "StackLiGO depth+width 20\n",
      "StackLiGO depth only 20\n",
      "LiGO width only 20\n",
      "LiGO depth only 20\n",
      "LiGO depth + width 20\n"
     ]
    }
   ],
   "source": [
    "for i in curve_dict:\n",
    "    print(i, len(curve_dict[i]))"
   ]
  },
  {
   "cell_type": "code",
   "execution_count": 53,
   "metadata": {},
   "outputs": [],
   "source": [
    "df = pd.DataFrame(curve_dict)"
   ]
  },
  {
   "cell_type": "code",
   "execution_count": 54,
   "metadata": {},
   "outputs": [
    {
     "data": {
      "text/plain": [
       "<Axes: >"
      ]
     },
     "execution_count": 54,
     "metadata": {},
     "output_type": "execute_result"
    },
    {
     "data": {
      "image/png": "[encoded data removed]",
      "text/plain": [
       "<Figure size 640x480 with 1 Axes>"
      ]
     },
     "metadata": {},
     "output_type": "display_data"
    }
   ],
   "source": [
    "df.plot()"
   ]
  },
  {
   "cell_type": "code",
   "execution_count": null,
   "metadata": {},
   "outputs": [],
   "source": [
    "df.to_pickle('Stack_LiGO_curves')"
   ]
  }
 ],
 "metadata": {
  "kernelspec": {
   "display_name": ".venv",
   "language": "python",
   "name": "python3"
  },
  "language_info": {
   "codemirror_mode": {
    "name": "ipython",
    "version": 3
   },
   "file_extension": ".py",
   "mimetype": "text/x-python",
   "name": "python",
   "nbconvert_exporter": "python",
   "pygments_lexer": "ipython3",
   "version": "3.9.18"
  }
 },
 "nbformat": 4,
 "nbformat_minor": 2
}
