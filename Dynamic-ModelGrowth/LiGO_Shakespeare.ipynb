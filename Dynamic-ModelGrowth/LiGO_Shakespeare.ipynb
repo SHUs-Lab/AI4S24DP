{
 "cells": [
  {
   "cell_type": "code",
   "execution_count": 94,
   "metadata": {},
   "outputs": [
    {
     "name": "stdout",
     "output_type": "stream",
     "text": [
      "Length of dataset:  1115393\n"
     ]
    }
   ],
   "source": [
    "import torch, math\n",
    "\n",
    "# Shakespear dataset\n",
    "with open('shakespear_dat.txt', 'r') as f:\n",
    "    dat = f.read()\n",
    "    \n",
    "print(\"Length of dataset: \", len(dat))\n",
    "chars = sorted(list(set(dat)))\n",
    "stoi = {ch:i for i,ch in enumerate(chars)}\n",
    "itos = {i:ch for i,ch in enumerate(chars)}\n",
    "encode = lambda s: [stoi[c] for c in s]\n",
    "decode = lambda i: ''.join([itos[l] for l in i])\n",
    "data = torch.tensor(encode(dat))\n",
    "\n",
    "# train test split\n",
    "n = int(0.9*len(data))\n",
    "train_data = data[:n]\n",
    "val_data = data[n:]"
   ]
  },
  {
   "cell_type": "code",
   "execution_count": 2,
   "metadata": {},
   "outputs": [],
   "source": [
    "# Hyperparameters\n",
    "LiGO_bool = True\n",
    "device = torch.device('cuda:1')\n",
    "block_size = 8\n",
    "batch_size = 2048\n",
    "val_batch_size = 2048\n",
    "vocab_size = len(chars)\n",
    "emb_size = 32\n",
    "new_emb_size = 64\n",
    "num_small_layers = 4\n",
    "multi_heads = 2\n",
    "num_large_layers = 8"
   ]
  },
  {
   "cell_type": "code",
   "execution_count": 3,
   "metadata": {},
   "outputs": [],
   "source": [
    "torch.manual_seed(1337)\n",
    "def get_batch(split):\n",
    "    data = train_data if split == 'train' else val_data\n",
    "    ix = torch.randint(len(data) - block_size, (batch_size if split=='train' else val_batch_size,))\n",
    "    x = torch.stack([data[i:i+block_size] for i in ix])\n",
    "    y = torch.stack([data[i+1:i+block_size+1] for i in ix])\n",
    "    return x, y"
   ]
  },
  {
   "cell_type": "code",
   "execution_count": 4,
   "metadata": {
    "collapsed": false
   },
   "outputs": [],
   "source": [
    "class PositionalEncoding(torch.nn.Module):\n",
    "\n",
    "    def __init__(self, d_model: int, dropout: float = 0.1, max_len: int = 5000):\n",
    "        super().__init__()\n",
    "        self.dropout = torch.nn.Dropout(p=dropout)\n",
    "\n",
    "        position = torch.arange(max_len).unsqueeze(1)\n",
    "        div_term = torch.exp(torch.arange(0, d_model, 2) * (-math.log(10000.0) / d_model))\n",
    "        pe = torch.zeros(max_len, 1, d_model)\n",
    "        pe[:, 0, 0::2] = torch.sin(position * div_term)\n",
    "        pe[:, 0, 1::2] = torch.cos(position * div_term)\n",
    "        self.register_buffer('pe', pe)\n",
    "\n",
    "    def forward(self, x: torch.Tensor) -> torch.Tensor:\n",
    "        x = x + self.pe[:x.size(0)]\n",
    "        return self.dropout(x)"
   ]
  },
  {
   "cell_type": "code",
   "execution_count": 5,
   "metadata": {},
   "outputs": [],
   "source": [
    "class AttentionHead(torch.nn.Module):\n",
    "    def __init__(self, big=False):\n",
    "        super(AttentionHead, self).__init__()\n",
    "        self.k = torch.nn.Linear(new_emb_size if big else emb_size, new_emb_size if big else emb_size, bias=False)\n",
    "        self.q = torch.nn.Linear(new_emb_size if big else emb_size, new_emb_size if big else emb_size, bias=False)\n",
    "        self.v = torch.nn.Linear(new_emb_size if big else emb_size, new_emb_size if big else emb_size, bias=False)\n",
    "        self.register_buffer('tril', torch.tril(torch.ones(block_size,block_size)))\n",
    "    def forward(self, e):\n",
    "        keys = self.k(e)\n",
    "        queries = self.q(e)\n",
    "        values = self.v(e)\n",
    "        ret = keys @ queries.transpose(1, 2)*(1.0/math.sqrt(keys.size(-1)))\n",
    "        ret = torch.masked_fill(ret, self.tril==0, -torch.inf)\n",
    "        ret = torch.softmax(ret, 2)\n",
    "        ret = ret @ values\n",
    "        return ret"
   ]
  },
  {
   "cell_type": "code",
   "execution_count": 6,
   "metadata": {},
   "outputs": [],
   "source": [
    "class MultiHead(torch.nn.Module):\n",
    "    def __init__(self, big=False):\n",
    "        super(MultiHead, self).__init__()\n",
    "        self.head1 = AttentionHead(big)\n",
    "        self.head2 = AttentionHead(big)\n",
    "        self.mh_lin = torch.nn.Linear(multi_heads*(new_emb_size if big else emb_size), new_emb_size if big else emb_size, bias=False)\n",
    "        self.drop = torch.nn.Dropout(0.1)\n",
    "    def forward(self, inp):\n",
    "        x1 = self.head1(inp)\n",
    "        x2 = self.head2(inp)\n",
    "        return self.mh_lin(self.drop(torch.cat([x1,x2], dim=2))).relu()\n"
   ]
  },
  {
   "cell_type": "code",
   "execution_count": 7,
   "metadata": {},
   "outputs": [],
   "source": [
    "class Block(torch.nn.Module):\n",
    "    def __init__(self, big=False):\n",
    "        super(Block, self).__init__()\n",
    "        self.multihead = MultiHead(big)\n",
    "        self.l_norm_1 = torch.nn.LayerNorm(new_emb_size if big else emb_size)\n",
    "        self.l_norm_2 = torch.nn.LayerNorm(new_emb_size if big else emb_size)\n",
    "        self.ffn = torch.nn.Linear(new_emb_size if big else emb_size, new_emb_size if big else emb_size)\n",
    "        self.drop = torch.nn.Dropout(0.1)\n",
    "    def forward(self, inp):\n",
    "        m = self.l_norm_1(inp + self.multihead(inp))\n",
    "        m = self.l_norm_2(m + self.ffn(self.drop(m)).relu())\n",
    "        return m"
   ]
  },
  {
   "cell_type": "code",
   "execution_count": 8,
   "metadata": {},
   "outputs": [],
   "source": [
    "class Model(torch.nn.Module):\n",
    "    def __init__(self):\n",
    "        super(Model, self).__init__()\n",
    "        self.embedding = torch.nn.Embedding(vocab_size, emb_size)\n",
    "        self.pe = PositionalEncoding(d_model=emb_size)\n",
    "        self.block1 = Block()\n",
    "        self.block2 = Block()\n",
    "        self.block3 = Block()\n",
    "        self.block4 = Block()\n",
    "        self.f_lin = torch.nn.Linear(emb_size, vocab_size)\n",
    "        self.drop = torch.nn.Dropout(0.1)\n",
    "    def forward(self, inp):\n",
    "        e = self.embedding(inp)\n",
    "        e = self.pe(e)\n",
    "        m = self.block1(e)\n",
    "        m = self.block2(m)\n",
    "        m = self.block3(m)\n",
    "        m = self.block4(m)\n",
    "        r = self.f_lin(self.drop(m))\n",
    "        return r"
   ]
  },
  {
   "cell_type": "code",
   "execution_count": 9,
   "metadata": {},
   "outputs": [],
   "source": [
    "model = Model().to(device)\n",
    "loss = torch.nn.CrossEntropyLoss()\n",
    "optimizer = torch.optim.Adam(model.parameters(), lr = 1e-3)"
   ]
  },
  {
   "cell_type": "code",
   "execution_count": 10,
   "metadata": {},
   "outputs": [],
   "source": [
    "@torch.no_grad()\n",
    "def validate(mdl):\n",
    "    mdl.eval()\n",
    "    vx, vy = get_batch('val')\n",
    "    out = mdl(vx.to(device))\n",
    "    return loss(out.view(-1, 65), vy.view(-1).to(device)).item()"
   ]
  },
  {
   "cell_type": "code",
   "execution_count": 11,
   "metadata": {},
   "outputs": [],
   "source": [
    "@torch.enable_grad()\n",
    "def train(mdl, optim, epochs):\n",
    "    ind = 0\n",
    "    train_curve = []\n",
    "    for _ in range(epochs):\n",
    "        mdl.train()\n",
    "        optim.zero_grad()\n",
    "        x, y = get_batch('train')\n",
    "        out = mdl(x.to(device))\n",
    "        l = loss(out.view(-1, 65), y.view(-1).to(device))\n",
    "        l.backward()\n",
    "        optim.step()\n",
    "        ind += 1\n",
    "        if ind%10 == 0:\n",
    "            v = validate(mdl)\n",
    "            if ind%100==0:\n",
    "                print(l.item())\n",
    "                print(f\"Validation: {v}\")\n",
    "            train_curve.append(v)\n",
    "    return train_curve"
   ]
  },
  {
   "cell_type": "code",
   "execution_count": 12,
   "metadata": {},
   "outputs": [],
   "source": [
    "small_model_curve = train(model, optimizer, 500)"
   ]
  },
  {
   "cell_type": "code",
   "execution_count": 14,
   "metadata": {},
   "outputs": [],
   "source": [
    "k_params = torch.empty((0,emb_size*emb_size)).to(device)\n",
    "q_params = torch.empty((0,emb_size*emb_size)).to(device)\n",
    "v_params = torch.empty((0,emb_size*emb_size)).to(device)\n",
    "lin_params = torch.empty((0, 2*emb_size*emb_size)).to(device)\n",
    "ffn_w_params = torch.empty((0, emb_size*emb_size)).to(device)\n",
    "ffn_b_params = torch.empty((0, emb_size)).to(device)\n",
    "l_norm_w_params = torch.empty((0, emb_size)).to(device)\n",
    "l_norm_b_params = torch.empty((0, emb_size)).to(device)\n",
    "for i in model.state_dict():\n",
    "    if '.k.' in i:\n",
    "        k_params = torch.cat((k_params, model.state_dict()[i].flatten().view(1,-1)), dim=0)\n",
    "    elif '.q.' in i:\n",
    "        q_params = torch.cat((q_params, model.state_dict()[i].flatten().view(1,-1)), dim=0)\n",
    "    elif '.v.' in i:\n",
    "        v_params = torch.cat((v_params, model.state_dict()[i].flatten().view(1,-1)), dim=0)\n",
    "    elif '.mh_lin' in i:\n",
    "        lin_params = torch.cat((lin_params, model.state_dict()[i].flatten().view(1,-1)), dim = 0)\n",
    "    elif 'ffn' in i and 'weight' in i:\n",
    "        ffn_w_params = torch.cat((ffn_w_params, model.state_dict()[i].flatten().view(1,-1)), dim = 0)\n",
    "    elif 'ffn' in i and 'bias' in i:\n",
    "        ffn_b_params = torch.cat((ffn_b_params, model.state_dict()[i].flatten().view(1,-1)), dim = 0)\n",
    "    elif 'l_norm' in i and 'weight' in i:\n",
    "        l_norm_w_params = torch.cat((l_norm_w_params, model.state_dict()[i].flatten().view(1,-1)), dim = 0)\n",
    "    elif 'l_norm' in i and 'bias' in i:\n",
    "        l_norm_b_params = torch.cat((l_norm_b_params, model.state_dict()[i].flatten().view(1,-1)), dim = 0)"
   ]
  },
  {
   "cell_type": "code",
   "execution_count": 15,
   "metadata": {
    "collapsed": false
   },
   "outputs": [],
   "source": [
    "class FusedEmbedding(torch.nn.Module):\n",
    "    def __init__(self, emb_params, static=True, width=False, width_static=True):\n",
    "        super(FusedEmbedding, self).__init__()\n",
    "        self.static = static\n",
    "        self.width_static = width_static\n",
    "        self.width=width\n",
    "        if static:\n",
    "            if width:\n",
    "                if width_static:\n",
    "                    self.emb_params = torch.cat((emb_params, emb_params)).view(vocab_size, -1)\n",
    "                else:\n",
    "                    self.emb_params = emb_params.view(vocab_size, -1)\n",
    "                    self.width_w = torch.nn.Linear(emb_size, new_emb_size, bias=False)\n",
    "            else:\n",
    "                self.emb_params = emb_params.view(vocab_size, -1)\n",
    "        else:\n",
    "            self.width = width\n",
    "            self.emb_params = emb_params\n",
    "    def forward(self, inp):\n",
    "        emb = self.emb_params\n",
    "        if self.static:\n",
    "            if self.width:\n",
    "                if self.width_static:\n",
    "                    return torch.nn.functional.embedding(inp, emb)\n",
    "                return torch.nn.functional.embedding(inp, self.width_w(emb))\n",
    "        emb = emb.view(vocab_size, -1)\n",
    "        return torch.nn.functional.embedding(inp, emb)"
   ]
  },
  {
   "cell_type": "code",
   "execution_count": 16,
   "metadata": {},
   "outputs": [],
   "source": [
    "class FusedLin(torch.nn.Module):\n",
    "    def __init__(self, num_layers, in_dim, out_dim, small_params_w, small_params_b = None, static = False, width_static=True, width=False, old_in_dim = emb_size, old_out_dim = emb_size):\n",
    "        super( FusedLin, self).__init__()\n",
    "        self.in_dim = in_dim\n",
    "        self.out_dim = out_dim\n",
    "        self.static = static\n",
    "        self.width = width\n",
    "        self.old_in_dim = old_in_dim\n",
    "        self.old_out_dim = old_out_dim\n",
    "        self.width_static = width_static\n",
    "        self.final = True if out_dim == vocab_size else False\n",
    "        if not self.final and static:\n",
    "            if width:\n",
    "                if width_static:\n",
    "                    self.register_buffer('small_params_w', torch.kron(torch.eye(int(out_dim/old_out_dim), int(in_dim/old_in_dim)).to(device), small_params_w).view(out_dim, in_dim))\n",
    "                    if small_params_b is not None:\n",
    "                        if old_out_dim == out_dim:\n",
    "                            self.register_buffer('small_params_b', small_params_b)\n",
    "                        else:\n",
    "                            self.register_buffer('small_params_b', torch.cat((small_params_b, small_params_b)))\n",
    "                    else:\n",
    "                        self.small_params_b = None\n",
    "                else:\n",
    "                    self.register_buffer('small_params_w', small_params_w)\n",
    "                    self.width_wa = torch.nn.Linear(old_out_dim, out_dim, bias=False) if width else None\n",
    "                    self.width_wb = torch.nn.Linear(old_in_dim, in_dim, bias=False) if width else None\n",
    "                    if small_params_b is not None:\n",
    "                        self.register_buffer('small_params_b', small_params_b)\n",
    "                    else:\n",
    "                        self.small_params_b = None\n",
    "                    self.width_b = torch.nn.Linear(old_out_dim, out_dim, bias=False) if width and small_params_b is not None else None\n",
    "            else:\n",
    "                self.register_buffer('small_params_w', small_params_w.view(out_dim, in_dim))\n",
    "                if small_params_b is not None:\n",
    "                    self.register_buffer('small_params_b', small_params_b)\n",
    "                else:\n",
    "                    self.small_params_b = None\n",
    "        else:\n",
    "            self.width_wa = torch.nn.Linear(old_out_dim, out_dim, bias=False) if width else None\n",
    "            self.width_wb = torch.nn.Linear(old_in_dim, in_dim, bias=False) if width else None\n",
    "            self.width_b = torch.nn.Linear(old_out_dim, out_dim, bias=False) if width and small_params_b is not None else None\n",
    "            if not self.final:\n",
    "                self.lin_w = torch.nn.Parameter(torch.rand(num_layers))\n",
    "                if small_params_b is not None:\n",
    "                    self.lin_b = torch.nn.Parameter(torch.rand(num_layers))\n",
    "            self.register_buffer('small_params_w', small_params_w)\n",
    "            if small_params_b is not None:\n",
    "                self.register_buffer('small_params_b', small_params_b)\n",
    "            else:\n",
    "                self.small_params_b = None\n",
    "    def forward(self, inp):\n",
    "        if self.static and not self.final:\n",
    "            weight=self.small_params_w\n",
    "            bias=self.small_params_b\n",
    "            if not self.width_static:\n",
    "                weight = self.width_wb(weight.view(self.old_out_dim, self.old_in_dim))\n",
    "                weight = self.width_wa(weight.T).T\n",
    "                if bias is not None:\n",
    "                    bias = self.width_b(bias)\n",
    "            return torch.nn.functional.linear(inp, weight=weight, bias=bias)\n",
    "        if self.final:\n",
    "            weight = self.small_params_w\n",
    "            bias = self.small_params_b\n",
    "        else:\n",
    "            weight = self.small_params_w.T @ self.lin_w\n",
    "            bias = None\n",
    "            if self.small_params_b is not None:\n",
    "                bias = self.small_params_b.T@self.lin_b    \n",
    "        if self.width:\n",
    "            weight = self.width_wb(weight.view(self.old_out_dim, self.old_in_dim))\n",
    "            weight = self.width_wa(weight.T).T\n",
    "        if self.width_b is not None:\n",
    "            bias = self.width_b(bias)\n",
    "        weight = weight.view(self.out_dim, self.in_dim)\n",
    "        return torch.nn.functional.linear(inp, weight, bias = bias)"
   ]
  },
  {
   "cell_type": "code",
   "execution_count": 17,
   "metadata": {},
   "outputs": [],
   "source": [
    "class FusedNorm(torch.nn.Module):\n",
    "    def __init__(self, num_layers, small_params_w, small_params_b, static=False, width_static = True, width=False):\n",
    "        super(FusedNorm, self).__init__()\n",
    "        self.static = static\n",
    "        self.width = width\n",
    "        self.width_static = width_static\n",
    "        if not static:\n",
    "            self.register_buffer('small_params_w', small_params_w)\n",
    "            self.register_buffer('small_params_b', small_params_b)\n",
    "            self.lin_w = torch.nn.Parameter(torch.randn(num_layers))\n",
    "            self.lin_b = torch.nn.Parameter(torch.randn(num_layers))\n",
    "            if width:\n",
    "                self.width_w = torch.nn.Linear(emb_size, new_emb_size, bias=False)\n",
    "                self.width_b = torch.nn.Linear(emb_size, new_emb_size, bias=False)\n",
    "        else:\n",
    "            if width:\n",
    "                if width_static:\n",
    "                    self.register_buffer('small_params_w', torch.cat((small_params_w, small_params_w)))\n",
    "                    self.register_buffer('small_params_b', torch.cat((small_params_b, small_params_b)))\n",
    "                else:\n",
    "                    self.register_buffer('small_params_w', small_params_w)\n",
    "                    self.register_buffer('small_params_b', small_params_b)\n",
    "                    self.width_w = torch.nn.Linear(emb_size, new_emb_size, bias=False)\n",
    "                    self.width_b = torch.nn.Linear(emb_size, new_emb_size, bias=False)\n",
    "            else:\n",
    "                self.register_buffer('small_params_w', small_params_w)\n",
    "                self.register_buffer('small_params_b', small_params_b)\n",
    "    def forward(self, inp):\n",
    "        if self.static:\n",
    "            weight = self.small_params_w\n",
    "            bias = self.small_params_b\n",
    "            e_s = emb_size if not self.width else new_emb_size\n",
    "            if not self.width_static:\n",
    "                weight = self.width_w(weight)\n",
    "                bias = self.width_b(bias)\n",
    "            return torch.nn.functional.layer_norm(inp, tuple([e_s]), weight=weight, bias=bias)\n",
    "        weight = self.small_params_w.T @ self.lin_w\n",
    "        bias = self.small_params_b.T @ self.lin_b\n",
    "        if self.width:\n",
    "            weight = self.width_w(weight)\n",
    "            bias = self.width_b(bias)\n",
    "        e_s = emb_size if not self.width else new_emb_size\n",
    "        return torch.nn.functional.layer_norm(inp, tuple([e_s]), weight=weight, bias=bias)"
   ]
  },
  {
   "cell_type": "code",
   "execution_count": 18,
   "metadata": {},
   "outputs": [],
   "source": [
    "class FusedAttentionHead(torch.nn.Module):\n",
    "    def __init__(self, static=False, layerNum=None, width=False, width_static = True):\n",
    "        super( FusedAttentionHead, self).__init__()\n",
    "        self.static = static\n",
    "        self.width_static = width_static\n",
    "        if not static:\n",
    "            self.k = FusedLin(num_small_layers*multi_heads, emb_size if not width else new_emb_size, emb_size if not width else new_emb_size, k_params, width=width, width_static=width_static)\n",
    "            self.q = FusedLin(num_small_layers*multi_heads, emb_size if not width else new_emb_size, emb_size if not width else new_emb_size, q_params, width=width, width_static=width_static)\n",
    "            self.v = FusedLin(num_small_layers*multi_heads, emb_size if not width else new_emb_size, emb_size if not width else new_emb_size, v_params, width=width, width_static=width_static)\n",
    "        else:\n",
    "            self.k = FusedLin(num_small_layers*multi_heads, emb_size if not width else new_emb_size, emb_size if not width else new_emb_size, k_params[layerNum], static=True, width=width, width_static=width_static)\n",
    "            self.q = FusedLin(num_small_layers*multi_heads, emb_size if not width else new_emb_size, emb_size if not width else new_emb_size, q_params[layerNum], static=True, width=width, width_static=width_static)\n",
    "            self.v = FusedLin(num_small_layers*multi_heads, emb_size if not width else new_emb_size, emb_size if not width else new_emb_size, v_params[layerNum], static=True, width=width, width_static=width_static)\n",
    "        self.register_buffer('tril', torch.tril(torch.ones(block_size,block_size)))\n",
    "    def forward(self, e):\n",
    "        keys = self.k(e)\n",
    "        queries = self.q(e)\n",
    "        values = self.v(e)\n",
    "        ret = keys @ queries.transpose(1, 2)*(1.0/math.sqrt(keys.size(-1)))\n",
    "        ret = torch.masked_fill(ret, self.tril==0, -torch.inf)\n",
    "        ret = torch.softmax(ret, 2)\n",
    "        ret = ret @ values\n",
    "        return ret\n"
   ]
  },
  {
   "cell_type": "code",
   "execution_count": 19,
   "metadata": {},
   "outputs": [],
   "source": [
    "class FusedMultiHead(torch.nn.Module):\n",
    "    def __init__(self, static=False, layerNum=None, width=False, width_static = True):\n",
    "        super( FusedMultiHead, self).__init__()\n",
    "        self.drop = torch.nn.Dropout(0.1)\n",
    "        self.width_static = width_static\n",
    "        if not static:\n",
    "            self.head1 = FusedAttentionHead(width=width, width_static=width_static)\n",
    "            self.head2 = FusedAttentionHead(width=width, width_static=width_static)\n",
    "            self.mh_lin = FusedLin(num_small_layers, multi_heads*(emb_size if not width else new_emb_size), emb_size if not width else new_emb_size, lin_params, width=width, old_in_dim=multi_heads*emb_size , old_out_dim=emb_size, width_static=width_static)\n",
    "        else:\n",
    "            self.head1 = FusedAttentionHead(static=True, layerNum=2*layerNum, width=width, width_static=width_static)\n",
    "            self.head2 = FusedAttentionHead(static=True, layerNum=2*layerNum+1, width=width, width_static=width_static)\n",
    "            self.mh_lin = FusedLin(num_small_layers, multi_heads*(emb_size if not width else new_emb_size), emb_size if not width else new_emb_size, lin_params[layerNum], static=True, width=width, width_static=width_static, old_in_dim=multi_heads*emb_size, old_out_dim=emb_size)\n",
    "    def forward(self, inp):\n",
    "        x1 = self.head1(inp)\n",
    "        x2 = self.head2(inp)\n",
    "        return self.mh_lin(self.drop(torch.cat([x1,x2], dim=2))).relu()"
   ]
  },
  {
   "cell_type": "code",
   "execution_count": 20,
   "metadata": {},
   "outputs": [],
   "source": [
    "class FusedBlock(torch.nn.Module):\n",
    "    def __init__(self, static=False, layerNum=None, width=False, width_static = True):\n",
    "        super(FusedBlock, self).__init__()\n",
    "        self.static = static\n",
    "        self.width_static = width_static\n",
    "        self.drop = torch.nn.Dropout(0.1)\n",
    "        if not static:\n",
    "            self.multiHead = FusedMultiHead(width=width, width_static=width_static)\n",
    "            self.norm_1 = FusedNorm(num_small_layers*2, l_norm_w_params, l_norm_b_params, width=width, width_static=width_static)\n",
    "            self.norm_2 = FusedNorm(num_small_layers*2, l_norm_w_params, l_norm_b_params, width=width, width_static=width_static)\n",
    "            self.ffn = FusedLin(num_small_layers, emb_size if not width else new_emb_size, emb_size if not width else new_emb_size, ffn_w_params, ffn_b_params, width=width, width_static=width_static)\n",
    "        else:\n",
    "            self.multiHead = FusedMultiHead(static=True, layerNum=layerNum, width=width, width_static=width_static)\n",
    "            self.norm_1 = FusedNorm(num_small_layers*2, l_norm_w_params[layerNum*2], l_norm_b_params[layerNum*2], static=True, width=width, width_static=width_static)\n",
    "            self.norm_2 = FusedNorm(num_small_layers*2, l_norm_w_params[layerNum*2+1], l_norm_b_params[layerNum*2+1], static=True, width=width, width_static=width_static)\n",
    "            self.ffn = FusedLin(num_small_layers, emb_size if not width else new_emb_size, emb_size if not width else new_emb_size, ffn_w_params[layerNum], ffn_b_params[layerNum], static=True, width=width, width_static=width_static)\n",
    "    def forward(self, inp):\n",
    "        m = self.norm_1(inp + self.multiHead(inp))\n",
    "        m = self.norm_2(m + self.ffn(self.drop(m)).relu())\n",
    "        return m\n",
    "        "
   ]
  },
  {
   "cell_type": "code",
   "execution_count": 21,
   "metadata": {},
   "outputs": [],
   "source": [
    "class StackLiGO(torch.nn.Module):\n",
    "    def __init__(self, width=False) -> None:\n",
    "        super(StackLiGO, self).__init__()\n",
    "        self.emb = FusedEmbedding(emb_params=model.embedding.weight.flatten(), width=width, static=True)\n",
    "        self.pe = PositionalEncoding(d_model=new_emb_size if width else emb_size)\n",
    "        self.block1 = FusedBlock(static=True, layerNum=0, width=width)\n",
    "        self.block2 = FusedBlock(static=True, layerNum=1, width=width)\n",
    "        self.block3 = FusedBlock(static=True, layerNum=2, width=width)\n",
    "        self.block4 = FusedBlock(static=True, layerNum=3, width=width)\n",
    "        self.block5 = FusedBlock(width=width)\n",
    "        self.block6 = FusedBlock(width=width)\n",
    "        self.block7 = FusedBlock(width=width)\n",
    "        self.block8 = FusedBlock(width=width)\n",
    "        self.drop = torch.nn.Dropout(0.1)\n",
    "        self.f_lin = FusedLin(1, in_dim=emb_size if not width else new_emb_size, out_dim=vocab_size, static=True, small_params_w= model.f_lin.weight.flatten(), small_params_b=model.f_lin.bias, width=width, old_in_dim=emb_size, old_out_dim=vocab_size)\n",
    "    def forward(self, inp):\n",
    "        e = self.emb(inp)\n",
    "        e = self.pe(e)\n",
    "        m = self.block1(e)\n",
    "        m = self.block2(m)\n",
    "        m = self.block3(m)\n",
    "        m = self.block4(m)\n",
    "        m = self.block5(m)\n",
    "        m = self.block6(m)\n",
    "        m = self.block7(m)\n",
    "        m = self.block8(m)\n",
    "        return self.f_lin(self.drop(m))"
   ]
  },
  {
   "cell_type": "code",
   "execution_count": 22,
   "metadata": {},
   "outputs": [],
   "source": [
    "class StackLiGOv2(torch.nn.Module):\n",
    "    def __init__(self, width=False) -> None:\n",
    "        super(StackLiGOv2, self).__init__()\n",
    "        self.emb = FusedEmbedding(emb_params=model.embedding.weight.flatten(), width=width, static=True, width_static=False)\n",
    "        self.pe = PositionalEncoding(d_model=new_emb_size if width else emb_size)\n",
    "        self.block1 = FusedBlock(static=True, layerNum=0, width=width, width_static=False)\n",
    "        self.block2 = FusedBlock(static=True, layerNum=1, width=width, width_static=False)\n",
    "        self.block3 = FusedBlock(static=True, layerNum=2, width=width, width_static=False)\n",
    "        self.block4 = FusedBlock(static=True, layerNum=3, width=width, width_static=False)\n",
    "        self.block5 = FusedBlock(width=width)\n",
    "        self.block6 = FusedBlock(width=width)\n",
    "        self.block7 = FusedBlock(width=width)\n",
    "        self.block8 = FusedBlock(width=width)\n",
    "        self.drop = torch.nn.Dropout(0.1)\n",
    "        self.f_lin = FusedLin(1, in_dim=emb_size if not width else new_emb_size, out_dim=vocab_size, static=True, small_params_w= model.f_lin.weight.flatten(), small_params_b=model.f_lin.bias, width=width, old_in_dim=emb_size, old_out_dim=vocab_size)\n",
    "    def forward(self, inp):\n",
    "        e = self.emb(inp)\n",
    "        e = self.pe(e)\n",
    "        m = self.block1(e)\n",
    "        m = self.block2(m)\n",
    "        m = self.block3(m)\n",
    "        m = self.block4(m)\n",
    "        m = self.block5(m)\n",
    "        m = self.block6(m)\n",
    "        m = self.block7(m)\n",
    "        m = self.block8(m)\n",
    "        return self.f_lin(self.drop(m))"
   ]
  },
  {
   "cell_type": "code",
   "execution_count": 23,
   "metadata": {},
   "outputs": [],
   "source": [
    "class LiGO(torch.nn.Module):\n",
    "    def __init__(self, width=False) -> None:\n",
    "        super(LiGO, self).__init__()\n",
    "        self.emb = FusedEmbedding(emb_params=model.embedding.weight.flatten(), width=width, static=True, width_static=False)\n",
    "        self.pe = PositionalEncoding(d_model=new_emb_size if width else emb_size)\n",
    "        self.block1 = FusedBlock(width=width, width_static=False)\n",
    "        self.block2 = FusedBlock(width=width, width_static=False)\n",
    "        self.block3 = FusedBlock(width=width, width_static=False)\n",
    "        self.block4 = FusedBlock(width=width, width_static=False)\n",
    "        self.block5 = FusedBlock(width=width, width_static=False)\n",
    "        self.block6 = FusedBlock(width=width, width_static=False)\n",
    "        self.block7 = FusedBlock(width=width, width_static=False)\n",
    "        self.block8 = FusedBlock(width=width, width_static=False)\n",
    "        self.drop = torch.nn.Dropout(0.1)\n",
    "        self.f_lin = FusedLin(1, in_dim=emb_size if not width else new_emb_size, out_dim=vocab_size, static=True, small_params_w= model.f_lin.weight.flatten(), small_params_b=model.f_lin.bias, width=width, old_in_dim=emb_size, old_out_dim=vocab_size)\n",
    "    def forward(self, inp):\n",
    "        e = self.emb(inp)\n",
    "        e = self.pe(e)\n",
    "        m = self.block1(e)\n",
    "        m = self.block2(m)\n",
    "        m = self.block3(m)\n",
    "        m = self.block4(m)\n",
    "        m = self.block5(m)\n",
    "        m = self.block6(m)\n",
    "        m = self.block7(m)\n",
    "        m = self.block8(m)\n",
    "        return self.f_lin(self.drop(m))"
   ]
  },
  {
   "cell_type": "code",
   "execution_count": 24,
   "metadata": {},
   "outputs": [],
   "source": [
    "class LiGO_W(torch.nn.Module):\n",
    "    def __init__(self, width=True) -> None:\n",
    "        super(LiGO_W, self).__init__()\n",
    "        self.emb = FusedEmbedding(emb_params=model.embedding.weight.flatten(), width=width, static=True, width_static=False)\n",
    "        self.pe = PositionalEncoding(d_model=new_emb_size if width else emb_size)\n",
    "        self.block1 = FusedBlock(width=width, static=True, layerNum=0, width_static=False)\n",
    "        self.block2 = FusedBlock(width=width, static=True, layerNum=1, width_static=False)\n",
    "        self.block3 = FusedBlock(width=width, static=True, layerNum=2, width_static=False)\n",
    "        self.block4 = FusedBlock(width=width, static=True, layerNum=3, width_static=False)\n",
    "        self.drop = torch.nn.Dropout(0.1)\n",
    "        self.f_lin = FusedLin(1, in_dim=emb_size if not width else new_emb_size, out_dim=vocab_size, static=True, small_params_w= model.f_lin.weight.flatten(), small_params_b=model.f_lin.bias, width=width, old_in_dim=emb_size, old_out_dim=vocab_size)\n",
    "    def forward(self, inp):\n",
    "        e = self.emb(inp)\n",
    "        e = self.pe(e)\n",
    "        m = self.block1(e)\n",
    "        m = self.block2(m)\n",
    "        m = self.block3(m)\n",
    "        m = self.block4(m)\n",
    "        return self.f_lin(self.drop(m))"
   ]
  },
  {
   "cell_type": "code",
   "execution_count": 25,
   "metadata": {},
   "outputs": [],
   "source": [
    "class CrossLiGO(torch.nn.Module):\n",
    "    def __init__(self, width=False) -> None:\n",
    "        super(CrossLiGO, self).__init__()\n",
    "        self.emb = FusedEmbedding(emb_params=model.embedding.weight.flatten(), width=width, static=True, width_static=False)\n",
    "        self.pe = PositionalEncoding(d_model=new_emb_size if width else emb_size)\n",
    "        self.block1 = FusedBlock(static=True, layerNum=0, width=width)\n",
    "        self.block3 = FusedBlock(static=True, layerNum=1, width=width)\n",
    "        self.block5 = FusedBlock(static=True, layerNum=2, width=width)\n",
    "        self.block7 = FusedBlock(static=True, layerNum=3, width=width)\n",
    "        self.block2 = FusedBlock(width=width, width_static=False)\n",
    "        self.block4 = FusedBlock(width=width, width_static=False)\n",
    "        self.block6 = FusedBlock(width=width, width_static=False)\n",
    "        self.block8 = FusedBlock(width=width, width_static=False)\n",
    "        self.drop = torch.nn.Dropout(0.1)\n",
    "        self.f_lin = FusedLin(1, in_dim=emb_size if not width else new_emb_size, out_dim=vocab_size, static=True, small_params_w= model.f_lin.weight.flatten(), small_params_b=model.f_lin.bias, width=width, old_in_dim=emb_size, old_out_dim=vocab_size)\n",
    "    def forward(self, inp):\n",
    "        e = self.emb(inp)\n",
    "        e = self.pe(e)\n",
    "        m = self.block1(e)\n",
    "        m = self.block2(m)\n",
    "        m = self.block3(m)\n",
    "        m = self.block4(m)\n",
    "        m = self.block5(m)\n",
    "        m = self.block6(m)\n",
    "        m = self.block7(m)\n",
    "        m = self.block8(m)\n",
    "        return self.f_lin(self.drop(m))"
   ]
  },
  {
   "cell_type": "code",
   "execution_count": 43,
   "metadata": {},
   "outputs": [],
   "source": [
    "class CrossLiGOv2(torch.nn.Module):\n",
    "    def __init__(self, width=False) -> None:\n",
    "        super(CrossLiGOv2, self).__init__()\n",
    "        self.emb = FusedEmbedding(emb_params=model.embedding.weight.flatten(), width=width, static=True, width_static=False)\n",
    "        self.pe = PositionalEncoding(d_model=new_emb_size if width else emb_size)\n",
    "        self.block1 = FusedBlock(static=True, layerNum=0, width=width, width_static=False)\n",
    "        self.block3 = FusedBlock(static=True, layerNum=1, width=width, width_static=False)\n",
    "        self.block5 = FusedBlock(static=True, layerNum=2, width=width, width_static=False)\n",
    "        self.block7 = FusedBlock(static=True, layerNum=3, width=width, width_static=False)\n",
    "        self.block2 = FusedBlock(width=width, width_static=False)\n",
    "        self.block4 = FusedBlock(width=width, width_static=False)\n",
    "        self.block6 = FusedBlock(width=width, width_static=False)\n",
    "        self.block8 = FusedBlock(width=width, width_static=False)\n",
    "        self.drop = torch.nn.Dropout(0.1)\n",
    "        self.f_lin = FusedLin(1, in_dim=emb_size if not width else new_emb_size, out_dim=vocab_size, static=True, small_params_w= model.f_lin.weight.flatten(), small_params_b=model.f_lin.bias, width=width, old_in_dim=emb_size, old_out_dim=vocab_size)\n",
    "    def forward(self, inp):\n",
    "        e = self.emb(inp)\n",
    "        e = self.pe(e)\n",
    "        m = self.block1(e)\n",
    "        m = self.block2(m)\n",
    "        m = self.block3(m)\n",
    "        m = self.block4(m)\n",
    "        m = self.block5(m)\n",
    "        m = self.block6(m)\n",
    "        m = self.block7(m)\n",
    "        m = self.block8(m)\n",
    "        return self.f_lin(self.drop(m))"
   ]
  },
  {
   "cell_type": "code",
   "execution_count": 27,
   "metadata": {},
   "outputs": [],
   "source": [
    "class BigModel(torch.nn.Module):\n",
    "    def __init__(self, big=False):\n",
    "        super(BigModel, self).__init__()\n",
    "        self.embedding = torch.nn.Embedding(vocab_size, new_emb_size if big else emb_size)\n",
    "        self.pe = PositionalEncoding(d_model= new_emb_size if big else emb_size)\n",
    "        self.block1 = Block(big=big)\n",
    "        self.block2 = Block(big=big)\n",
    "        self.block3 = Block(big=big)\n",
    "        self.block4 = Block(big=big)\n",
    "        self.block5 = Block(big=big)\n",
    "        self.block6 = Block(big=big)\n",
    "        self.block7 = Block(big=big)\n",
    "        self.block8 = Block(big=big)\n",
    "        self.f_lin = torch.nn.Linear(new_emb_size if big else emb_size, vocab_size)\n",
    "        self.drop = torch.nn.Dropout(0.1)\n",
    "    def forward(self, inp):\n",
    "        e = self.embedding(inp)\n",
    "        e = self.pe(e)\n",
    "        m = self.block1(e)\n",
    "        m = self.block2(m)\n",
    "        m = self.block3(m)\n",
    "        m = self.block4(m)\n",
    "        m = self.block5(m)\n",
    "        m = self.block6(m)\n",
    "        m = self.block7(m)\n",
    "        m = self.block8(m)\n",
    "        r = self.f_lin(self.drop(m))\n",
    "        return r"
   ]
  },
  {
   "cell_type": "code",
   "execution_count": 28,
   "metadata": {},
   "outputs": [],
   "source": [
    "@torch.no_grad()\n",
    "def initLiGO(stackLiGO, bigModel):\n",
    "    # Embedding layer\n",
    "    emb = stackLiGO.emb.emb_params\n",
    "    if stackLiGO.emb.width and not stackLiGO.emb.width_static:\n",
    "        emb = stackLiGO.emb.width_w(emb)\n",
    "    setattr(bigModel.embedding, 'weight', torch.nn.Parameter(emb, requires_grad=True).to(device))\n",
    "    # Final Linear layer\n",
    "    f_lin_w = stackLiGO.f_lin.small_params_w.view(vocab_size, -1)\n",
    "    f_lin_b = stackLiGO.f_lin.small_params_b\n",
    "    if stackLiGO.f_lin.width:\n",
    "        f_lin_w = (stackLiGO.f_lin.width_wb(f_lin_w))\n",
    "        f_lin_w = (stackLiGO.f_lin.width_wa(f_lin_w.T)).T\n",
    "        f_lin_b = stackLiGO.f_lin.width_b.weight@f_lin_b\n",
    "    setattr(bigModel.f_lin, 'weight', torch.nn.Parameter(f_lin_w.view(vocab_size, -1), requires_grad=True).to(device))\n",
    "    setattr(bigModel.f_lin, 'bias', torch.nn.Parameter(f_lin_b, requires_grad=True).to(device))\n",
    "    num_layers = num_large_layers if type(stackLiGO) is not LiGO_W else num_small_layers\n",
    "    for i in range(1, num_layers+1):\n",
    "        fused_block = getattr(stackLiGO, f'block{i}')\n",
    "        big_block = getattr(bigModel, f'block{i}')\n",
    "        # Setting FFN Weights\n",
    "        if fused_block.ffn.static:\n",
    "            if fused_block.ffn.width:\n",
    "                if fused_block.ffn.width_static:\n",
    "                    fb_w = fused_block.ffn.small_params_w.view(new_emb_size, new_emb_size)\n",
    "                    fb_b = fused_block.ffn.small_params_b\n",
    "                else:\n",
    "                    fb_w = fused_block.ffn.small_params_w.view(emb_size, emb_size)\n",
    "                    fb_b = fused_block.ffn.small_params_b\n",
    "                    fb_w = fused_block.ffn.width_wb(fb_w)\n",
    "                    fb_w = fused_block.ffn.width_wa(fb_w.T).T\n",
    "                    fb_b = fused_block.ffn.width_b.weight@fb_b\n",
    "            else:\n",
    "                fb_w = fused_block.ffn.small_params_w.view(emb_size, emb_size)\n",
    "                fb_b = fused_block.ffn.small_params_b\n",
    "        else:\n",
    "            fb_w = (ffn_w_params.T@fused_block.ffn.lin_w).view(emb_size, emb_size)\n",
    "            fb_b = (ffn_b_params.T@fused_block.ffn.lin_b)\n",
    "            if fused_block.ffn.width:\n",
    "                fb_w = fused_block.ffn.width_wb(fb_w)\n",
    "                fb_w = fused_block.ffn.width_wa(fb_w.T).T\n",
    "                fb_b = fused_block.ffn.width_b.weight@fb_b\n",
    "        setattr(big_block.ffn, 'weight', torch.nn.Parameter(fb_w, requires_grad=True).to(device))\n",
    "        setattr(big_block.ffn, 'bias', torch.nn.Parameter(fb_b, requires_grad=True).to(device))\n",
    "        # Setting Norm Layers\n",
    "        if fused_block.static:\n",
    "            n_w_1 = fused_block.norm_1.small_params_w\n",
    "            n_b_1 = fused_block.norm_1.small_params_b\n",
    "            n_w_2 = fused_block.norm_2.small_params_w\n",
    "            n_b_2 = fused_block.norm_2.small_params_b\n",
    "            if not fused_block.width_static:\n",
    "                n_w_1 = fused_block.norm_1.width_w.weight@n_w_1\n",
    "                n_b_1 = fused_block.norm_1.width_b.weight@n_b_1\n",
    "                n_w_2 = fused_block.norm_2.width_w.weight@n_w_2\n",
    "                n_b_2 = fused_block.norm_2.width_b.weight@n_b_2  \n",
    "        else:\n",
    "            n_w_1 = (l_norm_w_params.T@fused_block.norm_1.lin_w)\n",
    "            n_b_1 = (l_norm_b_params.T@fused_block.norm_1.lin_b)\n",
    "            n_w_2 = (l_norm_w_params.T@fused_block.norm_2.lin_w)\n",
    "            n_b_2 = (l_norm_b_params.T@fused_block.norm_2.lin_b)\n",
    "            if fused_block.norm_1.width:\n",
    "                n_w_1 = fused_block.norm_1.width_w.weight@n_w_1\n",
    "                n_b_1 = fused_block.norm_1.width_b.weight@n_b_1\n",
    "                n_w_2 = fused_block.norm_2.width_w.weight@n_w_2\n",
    "                n_b_2 = fused_block.norm_2.width_b.weight@n_b_2\n",
    "        setattr(big_block.l_norm_1, 'weight', torch.nn.Parameter(n_w_1, requires_grad=True).to(device))\n",
    "        setattr(big_block.l_norm_1, 'bias', torch.nn.Parameter(n_b_1, requires_grad=True).to(device))\n",
    "        setattr(big_block.l_norm_2, 'weight', torch.nn.Parameter(n_w_2, requires_grad=True).to(device))\n",
    "        setattr(big_block.l_norm_2, 'bias', torch.nn.Parameter(n_b_2, requires_grad=True).to(device))\n",
    "        # Setting Multi-Head Attention\n",
    "        if fused_block.static:\n",
    "            mh = fused_block.multiHead.mh_lin.small_params_w\n",
    "            if not fused_block.width_static:\n",
    "                mh = fused_block.multiHead.mh_lin.width_wb(mh.view(emb_size, multi_heads*emb_size))\n",
    "                mh = fused_block.multiHead.mh_lin.width_wa(mh.T).T\n",
    "        else:\n",
    "            mh = (lin_params.T@fused_block.multiHead.mh_lin.lin_w).view(emb_size, emb_size*multi_heads)\n",
    "            if fused_block.multiHead.mh_lin.width:\n",
    "                mh = fused_block.multiHead.mh_lin.width_wb(mh)\n",
    "                mh = fused_block.multiHead.mh_lin.width_wa(mh.T).T\n",
    "        setattr(big_block.multihead.mh_lin, 'weight', torch.nn.Parameter(mh, requires_grad=True))\n",
    "        for h in range(1, multi_heads+1):\n",
    "            head = getattr(big_block.multihead, f'head{h}')\n",
    "            fused_head = getattr(fused_block.multiHead, f'head{h}')\n",
    "            if fused_head.static:\n",
    "                k = fused_head.k.small_params_w\n",
    "                q = fused_head.q.small_params_w\n",
    "                v = fused_head.v.small_params_w\n",
    "                if not fused_block.width_static:\n",
    "                    k = fused_head.k.width_wb(k.view(emb_size, emb_size))\n",
    "                    k = fused_head.k.width_wa(k.T).T\n",
    "                    q = fused_head.q.width_wb(q.view(emb_size, emb_size))\n",
    "                    q = fused_head.q.width_wa(q.T).T\n",
    "                    v = fused_head.v.width_wb(v.view(emb_size, emb_size))\n",
    "                    v = fused_head.v.width_wa(v.T).T\n",
    "            else:\n",
    "                k = (k_params.T@fused_head.k.lin_w).view(emb_size, emb_size)\n",
    "                q = (q_params.T@fused_head.q.lin_w).view(emb_size, emb_size)\n",
    "                v = (v_params.T@fused_head.v.lin_w).view(emb_size, emb_size)\n",
    "                if fused_head.k.width:\n",
    "                    k = fused_head.k.width_wb(k)\n",
    "                    k = fused_head.k.width_wa(k.T).T\n",
    "                    q = fused_head.q.width_wb(q)\n",
    "                    q = fused_head.q.width_wa(q.T).T\n",
    "                    v = fused_head.v.width_wb(v)\n",
    "                    v = fused_head.v.width_wa(v.T).T\n",
    "            setattr(head.k, 'weight', torch.nn.Parameter(k, requires_grad=True).to(device))\n",
    "            setattr(head.q, 'weight', torch.nn.Parameter(q, requires_grad=True).to(device))\n",
    "            setattr(head.v, 'weight', torch.nn.Parameter(v, requires_grad=True).to(device))"
   ]
  },
  {
   "cell_type": "markdown",
   "metadata": {},
   "source": [
    "CrossLiGO depth+width"
   ]
  },
  {
   "cell_type": "code",
   "execution_count": 29,
   "metadata": {},
   "outputs": [
    {
     "name": "stdout",
     "output_type": "stream",
     "text": [
      "2.8434438705444336\n",
      "Validation: 2.7376105785369873\n",
      "2.563685417175293\n",
      "Validation: 2.4866783618927\n"
     ]
    }
   ],
   "source": [
    "cl_dw = CrossLiGO(width=True).to(device)\n",
    "optim_ldw = torch.optim.Adam(cl_dw.parameters(), lr=1e-3)\n",
    "_=train(cl_dw, optim_ldw, 200)"
   ]
  },
  {
   "cell_type": "code",
   "execution_count": 30,
   "metadata": {},
   "outputs": [
    {
     "name": "stdout",
     "output_type": "stream",
     "text": [
      "2.3748466968536377\n",
      "Validation: 2.334047794342041\n",
      "2.2971439361572266\n",
      "Validation: 2.212409019470215\n",
      "2.2282280921936035\n",
      "Validation: 2.168318033218384\n",
      "2.1769566535949707\n",
      "Validation: 2.1328089237213135\n",
      "2.1159934997558594\n",
      "Validation: 2.1161558628082275\n"
     ]
    }
   ],
   "source": [
    "bigModel = BigModel(big=True).to(device)\n",
    "initLiGO(cl_dw, bigModel)\n",
    "optim_b = torch.optim.Adam(params=bigModel.parameters(), lr=1e-3)\n",
    "cl_depth_width_curve = train(bigModel, optim_b, 500)"
   ]
  },
  {
   "cell_type": "markdown",
   "metadata": {},
   "source": [
    "CrossLiGO depth only"
   ]
  },
  {
   "cell_type": "code",
   "execution_count": 31,
   "metadata": {},
   "outputs": [
    {
     "name": "stdout",
     "output_type": "stream",
     "text": [
      "3.3688576221466064\n",
      "Validation: 3.3807425498962402\n",
      "3.080841541290283\n",
      "Validation: 3.0085012912750244\n"
     ]
    }
   ],
   "source": [
    "cl_d = CrossLiGO(width=False).to(device)\n",
    "optim_ldw = torch.optim.Adam(cl_d.parameters(), lr=1e-2)\n",
    "_=train(cl_d, optim_ldw, 200)"
   ]
  },
  {
   "cell_type": "code",
   "execution_count": 32,
   "metadata": {},
   "outputs": [
    {
     "name": "stdout",
     "output_type": "stream",
     "text": [
      "2.4417572021484375\n",
      "Validation: 2.3423123359680176\n",
      "2.3948020935058594\n",
      "Validation: 2.288005828857422\n",
      "2.341438055038452\n",
      "Validation: 2.2597575187683105\n",
      "2.30843448638916\n",
      "Validation: 2.228001356124878\n",
      "2.267314910888672\n",
      "Validation: 2.179857015609741\n"
     ]
    }
   ],
   "source": [
    "bigModel = BigModel(big=False).to(device)\n",
    "initLiGO(cl_d, bigModel)\n",
    "optim_b = torch.optim.Adam(params=bigModel.parameters(), lr=1e-3)\n",
    "cl_depth_curve = train(bigModel, optim_b, 500)"
   ]
  },
  {
   "cell_type": "markdown",
   "metadata": {},
   "source": [
    "LiGO depth+width"
   ]
  },
  {
   "cell_type": "code",
   "execution_count": 33,
   "metadata": {},
   "outputs": [
    {
     "name": "stdout",
     "output_type": "stream",
     "text": [
      "2.5462214946746826\n",
      "Validation: 2.4421021938323975\n",
      "2.368424415588379\n",
      "Validation: 2.310737133026123\n"
     ]
    }
   ],
   "source": [
    "LiGO_dw = LiGO(width=True).to(device)\n",
    "optim_ldw = torch.optim.Adam(LiGO_dw.parameters(), lr=1e-3)\n",
    "_=train(LiGO_dw, optim_ldw, 200)"
   ]
  },
  {
   "cell_type": "code",
   "execution_count": 34,
   "metadata": {},
   "outputs": [
    {
     "name": "stdout",
     "output_type": "stream",
     "text": [
      "2.2418713569641113\n",
      "Validation: 2.217580556869507\n",
      "2.1842010021209717\n",
      "Validation: 2.1484627723693848\n",
      "2.1283557415008545\n",
      "Validation: 2.1126210689544678\n",
      "2.115885019302368\n",
      "Validation: 2.084272623062134\n",
      "2.08986496925354\n",
      "Validation: 2.059950113296509\n"
     ]
    }
   ],
   "source": [
    "bigModel = BigModel(big=True).to(device)\n",
    "initLiGO(LiGO_dw, bigModel)\n",
    "optim_b = torch.optim.Adam(params=bigModel.parameters(), lr=1e-3)\n",
    "ligo_depth_width_curve = train(bigModel, optim_b, 500)"
   ]
  },
  {
   "cell_type": "markdown",
   "metadata": {},
   "source": [
    "LiGO depth"
   ]
  },
  {
   "cell_type": "code",
   "execution_count": 35,
   "metadata": {},
   "outputs": [
    {
     "name": "stdout",
     "output_type": "stream",
     "text": [
      "3.40155291557312\n",
      "Validation: 3.3810172080993652\n",
      "3.2834866046905518\n",
      "Validation: 3.2739598751068115\n"
     ]
    }
   ],
   "source": [
    "LiGO_d = LiGO(width=False).to(device)\n",
    "optim_ld = torch.optim.Adam(params=LiGO_d.parameters(), lr=1e-2)\n",
    "_=train(LiGO_d, optim_ld, 200)"
   ]
  },
  {
   "cell_type": "code",
   "execution_count": 36,
   "metadata": {},
   "outputs": [
    {
     "name": "stdout",
     "output_type": "stream",
     "text": [
      "2.6279711723327637\n",
      "Validation: 2.5129079818725586\n",
      "2.4795618057250977\n",
      "Validation: 2.4273746013641357\n",
      "2.4149656295776367\n",
      "Validation: 2.3530094623565674\n",
      "2.3777365684509277\n",
      "Validation: 2.3282244205474854\n",
      "2.3413336277008057\n",
      "Validation: 2.279421329498291\n"
     ]
    }
   ],
   "source": [
    "bigModel = BigModel(big=False).to(device)\n",
    "initLiGO(LiGO_d, bigModel)\n",
    "optim_b = torch.optim.Adam(params=bigModel.parameters(), lr=1e-3)\n",
    "ligo_depth_curve = train(bigModel, optim_b, 500)"
   ]
  },
  {
   "cell_type": "markdown",
   "metadata": {},
   "source": [
    "LiGO width"
   ]
  },
  {
   "cell_type": "code",
   "execution_count": 37,
   "metadata": {},
   "outputs": [
    {
     "name": "stdout",
     "output_type": "stream",
     "text": [
      "4.3948588371276855\n",
      "Validation: 4.379878997802734\n",
      "4.388401508331299\n",
      "Validation: 4.380373477935791\n"
     ]
    }
   ],
   "source": [
    "LiGO_w = LiGO_W(width=True).to(device)\n",
    "optim_lw = torch.optim.Adam(params=LiGO_w.parameters(), lr=1e-3)\n",
    "_=train(LiGO_w, optim_ld, 200)"
   ]
  },
  {
   "cell_type": "code",
   "execution_count": 38,
   "metadata": {},
   "outputs": [
    {
     "name": "stdout",
     "output_type": "stream",
     "text": [
      "2.630784749984741\n",
      "Validation: 2.5800836086273193\n",
      "2.4045612812042236\n",
      "Validation: 2.3035240173339844\n",
      "2.2692925930023193\n",
      "Validation: 2.2028310298919678\n",
      "2.186836004257202\n",
      "Validation: 2.127440929412842\n",
      "2.137021780014038\n",
      "Validation: 2.1107094287872314\n"
     ]
    }
   ],
   "source": [
    "bigModel = BigModel(big=True).to(device)\n",
    "initLiGO(LiGO_w, bigModel)\n",
    "optim_b = torch.optim.Adam(params=bigModel.parameters(), lr=1e-3)\n",
    "ligo_width_curve = train(bigModel, optim_b, 500)"
   ]
  },
  {
   "cell_type": "markdown",
   "metadata": {},
   "source": [
    "StackLiGO depth+width"
   ]
  },
  {
   "cell_type": "code",
   "execution_count": 39,
   "metadata": {},
   "outputs": [
    {
     "name": "stdout",
     "output_type": "stream",
     "text": [
      "3.1447975635528564\n",
      "Validation: 3.0828356742858887\n",
      "2.7562999725341797\n",
      "Validation: 2.6590166091918945\n",
      "2.4221768379211426\n",
      "Validation: 2.3517959117889404\n",
      "2.310088634490967\n",
      "Validation: 2.277472972869873\n",
      "2.2263784408569336\n",
      "Validation: 2.178243398666382\n",
      "2.2009148597717285\n",
      "Validation: 2.156803607940674\n",
      "2.1300199031829834\n",
      "Validation: 2.099926471710205\n"
     ]
    }
   ],
   "source": [
    "stackLiGOdw = StackLiGO(width=True).to(device)\n",
    "optim_sldw = torch.optim.Adam(params=stackLiGOdw.parameters(), lr=1e-3)\n",
    "_=train(stackLiGOdw, optim_sldw, 200)\n",
    "\n",
    "bigModel = BigModel(big=True).to(device)\n",
    "initLiGO(stackLiGOdw, bigModel)\n",
    "optim_b = torch.optim.Adam(params=bigModel.parameters(), lr=1e-3)\n",
    "sl_depth_width_curve = train(bigModel, optim_b, 500)"
   ]
  },
  {
   "cell_type": "markdown",
   "metadata": {},
   "source": [
    "StackLiGO depth"
   ]
  },
  {
   "cell_type": "code",
   "execution_count": 40,
   "metadata": {},
   "outputs": [
    {
     "name": "stdout",
     "output_type": "stream",
     "text": [
      "2.5564980506896973\n",
      "Validation: 2.457970142364502\n",
      "2.505117416381836\n",
      "Validation: 2.3930914402008057\n",
      "2.2851316928863525\n",
      "Validation: 2.2158119678497314\n",
      "2.2437057495117188\n",
      "Validation: 2.1725804805755615\n",
      "2.231109142303467\n",
      "Validation: 2.157994270324707\n",
      "2.1878890991210938\n",
      "Validation: 2.1500401496887207\n",
      "2.1622884273529053\n",
      "Validation: 2.1156182289123535\n"
     ]
    }
   ],
   "source": [
    "stackLiGOd = StackLiGO(width=False).to(device)\n",
    "optim_sld = torch.optim.Adam(params=stackLiGOd.parameters(), lr=1e-2)\n",
    "_=train(stackLiGOd, optim_sld, 200)\n",
    "\n",
    "bigModel = BigModel(big=False).to(device)\n",
    "initLiGO(stackLiGOd, bigModel)\n",
    "optim_b = torch.optim.Adam(params=bigModel.parameters(), lr=1e-3)\n",
    "sl_depth_curve = train(bigModel, optim_b, 500)"
   ]
  },
  {
   "cell_type": "markdown",
   "metadata": {},
   "source": [
    "StackLiGOv2 depth+width"
   ]
  },
  {
   "cell_type": "code",
   "execution_count": 41,
   "metadata": {},
   "outputs": [
    {
     "name": "stdout",
     "output_type": "stream",
     "text": [
      "2.5925064086914062\n",
      "Validation: 2.5251717567443848\n",
      "2.3996784687042236\n",
      "Validation: 2.320152997970581\n",
      "2.260488748550415\n",
      "Validation: 2.2244739532470703\n",
      "2.2086551189422607\n",
      "Validation: 2.1694600582122803\n",
      "2.156155824661255\n",
      "Validation: 2.1302480697631836\n",
      "2.1196696758270264\n",
      "Validation: 2.104713201522827\n",
      "2.0908234119415283\n",
      "Validation: 2.0765128135681152\n"
     ]
    }
   ],
   "source": [
    "stackLiGO2 = StackLiGOv2(width=True).to(device)\n",
    "optim_sld = torch.optim.Adam(params=stackLiGO2.parameters(), lr=1e-3)\n",
    "_=train(stackLiGO2, optim_sld, 200)\n",
    "\n",
    "bigModel = BigModel(big=True).to(device)\n",
    "initLiGO(stackLiGO2, bigModel)\n",
    "optim_b = torch.optim.Adam(params=bigModel.parameters(), lr=1e-3)\n",
    "slv2_depth_width_curve = train(bigModel, optim_b, 500)"
   ]
  },
  {
   "cell_type": "markdown",
   "metadata": {},
   "source": [
    "CrossLiGOv2 depth+width"
   ]
  },
  {
   "cell_type": "code",
   "execution_count": 44,
   "metadata": {},
   "outputs": [
    {
     "name": "stdout",
     "output_type": "stream",
     "text": [
      "2.637957811355591\n",
      "Validation: 2.585829973220825\n",
      "2.461538791656494\n",
      "Validation: 2.381162643432617\n"
     ]
    }
   ],
   "source": [
    "cl_dw = CrossLiGOv2(width=True).to(device)\n",
    "optim_ldw = torch.optim.Adam(cl_dw.parameters(), lr=1e-3)\n",
    "_=train(cl_dw, optim_ldw, 200)"
   ]
  },
  {
   "cell_type": "code",
   "execution_count": 45,
   "metadata": {},
   "outputs": [
    {
     "name": "stdout",
     "output_type": "stream",
     "text": [
      "2.3292441368103027\n",
      "Validation: 2.261078357696533\n",
      "2.2707111835479736\n",
      "Validation: 2.204525947570801\n",
      "2.1820123195648193\n",
      "Validation: 2.162792205810547\n",
      "2.1394708156585693\n",
      "Validation: 2.1196718215942383\n",
      "2.1137351989746094\n",
      "Validation: 2.0945346355438232\n"
     ]
    }
   ],
   "source": [
    "bigModel = BigModel(big=True).to(device)\n",
    "initLiGO(cl_dw, bigModel)\n",
    "optim_b = torch.optim.Adam(params=bigModel.parameters(), lr=1e-3)\n",
    "clv2_depth_width_curve = train(bigModel, optim_b, 500)"
   ]
  },
  {
   "cell_type": "markdown",
   "metadata": {},
   "source": [
    "Scratch Model depth + width"
   ]
  },
  {
   "cell_type": "code",
   "execution_count": 46,
   "metadata": {
    "collapsed": false
   },
   "outputs": [
    {
     "name": "stdout",
     "output_type": "stream",
     "text": [
      "2.4516360759735107\n",
      "Validation: 2.411191463470459\n",
      "2.259347915649414\n",
      "Validation: 2.2005064487457275\n",
      "2.1836020946502686\n",
      "Validation: 2.1248011589050293\n",
      "2.1108195781707764\n",
      "Validation: 2.095761299133301\n",
      "2.060471534729004\n",
      "Validation: 2.042264461517334\n"
     ]
    }
   ],
   "source": [
    "bigModel_scratch = BigModel(big=True).to(device)\n",
    "optim_sb = torch.optim.Adam(params=bigModel_scratch.parameters(), lr=1e-3)\n",
    "scratch_depth_width = train(bigModel_scratch, optim_sb, 500)"
   ]
  },
  {
   "cell_type": "markdown",
   "metadata": {},
   "source": [
    "Big Model Depth"
   ]
  },
  {
   "cell_type": "code",
   "execution_count": 47,
   "metadata": {},
   "outputs": [
    {
     "name": "stdout",
     "output_type": "stream",
     "text": [
      "2.78787899017334\n",
      "Validation: 2.7088630199432373\n",
      "2.5325241088867188\n",
      "Validation: 2.425053596496582\n",
      "2.4175150394439697\n",
      "Validation: 2.3269083499908447\n",
      "2.346508741378784\n",
      "Validation: 2.286951780319214\n",
      "2.3018267154693604\n",
      "Validation: 2.232257843017578\n"
     ]
    }
   ],
   "source": [
    "bigModel_scratch = BigModel(big=False).to(device)\n",
    "optim_sb = torch.optim.Adam(params=bigModel_scratch.parameters(), lr=1e-3)\n",
    "scratch_depth = train(bigModel_scratch, optim_sb, 500)"
   ]
  },
  {
   "cell_type": "code",
   "execution_count": 48,
   "metadata": {},
   "outputs": [],
   "source": [
    "import pandas as pd, matplotlib as plt"
   ]
  },
  {
   "cell_type": "code",
   "execution_count": 51,
   "metadata": {},
   "outputs": [],
   "source": [
    "df = pd.DataFrame({'CrossLiGOv2 depth+width':clv2_depth_width_curve,'StackLiGOv2 depth+width':slv2_depth_width_curve,'CrossLiGO Depth+Width':cl_depth_width_curve, 'CrossLiGO depth':cl_depth_curve,'Big Model Depth+Width': scratch_depth_width, 'Big Model Depth': scratch_depth,'StackLiGO depth+width': sl_depth_width_curve, 'StackLiGO depth only': sl_depth_curve,'LiGO width only': ligo_width_curve, 'LiGO depth only': ligo_depth_curve, 'LiGO depth + width': ligo_depth_width_curve})"
   ]
  },
  {
   "cell_type": "code",
   "execution_count": 52,
   "metadata": {},
   "outputs": [
    {
     "data": {
      "text/plain": [
       "<Axes: >"
      ]
     },
     "execution_count": 52,
     "metadata": {},
     "output_type": "execute_result"
    },
    {
     "data": {
      "image/png": "[encoded data removed]",
      "text/plain": [
       "<Figure size 640x480 with 1 Axes>"
      ]
     },
     "metadata": {},
     "output_type": "display_data"
    }
   ],
   "source": [
    "df.plot()"
   ]
  },
  {
   "cell_type": "code",
   "execution_count": 53,
   "metadata": {},
   "outputs": [],
   "source": [
    "df.to_pickle('Stack_LiGO_curves')"
   ]
  }
 ],
 "metadata": {
  "kernelspec": {
   "display_name": "Python 3 (ipykernel)",
   "language": "python",
   "name": "python3"
  }
 },
 "nbformat": 4,
 "nbformat_minor": 2
}
